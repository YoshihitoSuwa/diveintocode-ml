{
 "cells": [
  {
   "cell_type": "markdown",
   "id": "bf33b345",
   "metadata": {},
   "source": [
    "【問題1】行列積を手計算する"
   ]
  },
  {
   "cell_type": "markdown",
   "id": "9cfc450a",
   "metadata": {},
   "source": [
    "A * B = [&nbsp;(-1 * 0)+(2 * 0)+(3 * 2)&emsp;(-1 * 2)+(2 * 2)+(3 * 9)&emsp;(-1 * 1)+(2 * -8)+(3 * -1)<br>\n",
    "&emsp;&emsp;&emsp;&emsp;(4 * 0)+(-5 * 0)+(6 * 2)&emsp;(4 * 2)+(-5 * 2)+(6 * 9)&emsp;(4 * 1)+(-5 * -8)+(6 * -1)<br>\n",
    "&emsp;&emsp;&emsp;&emsp;(7 * 0)+(8 * 0)+(-9 * 2)&emsp;(7 * 2)+(8 * 2)+(-9 * 9)&emsp;(7 * 1)+(8 * -8)+(-9 * -1)&nbsp;]<br>\n",
    "&nbsp;&nbsp;&nbsp;&nbsp;&nbsp;&nbsp;&nbsp;&nbsp;&nbsp;=&nbsp;[&nbsp;&nbsp;6&nbsp;&nbsp;29&nbsp;&nbsp;-20<br>\n",
    "&nbsp;&nbsp;&nbsp;&nbsp;&nbsp;&nbsp;&nbsp;&nbsp;&nbsp;&nbsp;&nbsp;&nbsp;&nbsp;12&nbsp;&nbsp;52&nbsp;&nbsp;&nbsp;38<br>\n",
    "&nbsp;&nbsp;&nbsp;&nbsp;&nbsp;&nbsp;&nbsp;&nbsp;&nbsp;&nbsp;&nbsp;&nbsp;-18&nbsp;-51&nbsp;-48&nbsp;]"
   ]
  },
  {
   "cell_type": "markdown",
   "id": "089c024d",
   "metadata": {},
   "source": [
    "【問題2】NumPyの関数による計算"
   ]
  },
  {
   "cell_type": "code",
   "execution_count": 7,
   "id": "76c38743",
   "metadata": {},
   "outputs": [
    {
     "name": "stdout",
     "output_type": "stream",
     "text": [
      "[[  6  29 -20]\n",
      " [ 12  52  38]\n",
      " [-18 -51 -48]]\n",
      "[[  6  29 -20]\n",
      " [ 12  52  38]\n",
      " [-18 -51 -48]]\n",
      "[[  6  29 -20]\n",
      " [ 12  52  38]\n",
      " [-18 -51 -48]]\n"
     ]
    }
   ],
   "source": [
    "import numpy as np\n",
    "\n",
    "\n",
    "a_ndarray = np.array([[-1, 2, 3], [4, -5, 6], [7, 8, -9]])\n",
    "b_ndarray = np.array([[0, 2, 1], [0, 2, -8], [2, 9, -1]])\n",
    "\n",
    "# numpy.matmul() を使用\n",
    "print(np.matmul(a_ndarray, b_ndarray))\n",
    "\n",
    "# numpy.dot() を使用\n",
    "print(np.dot(a_ndarray, b_ndarray))\n",
    "\n",
    "# @ を使用\n",
    "print(a_ndarray @ b_ndarray)"
   ]
  },
  {
   "cell_type": "markdown",
   "id": "789d39ba",
   "metadata": {},
   "source": [
    "【問題3】ある要素の計算を実装"
   ]
  },
  {
   "cell_type": "code",
   "execution_count": 11,
   "id": "b7447f0e",
   "metadata": {},
   "outputs": [
    {
     "name": "stdout",
     "output_type": "stream",
     "text": [
      "6\n"
     ]
    }
   ],
   "source": [
    "import numpy as np\n",
    "\n",
    "\n",
    "a_ndarray = np.array([[-1, 2, 3], [4, -5, 6], [7, 8, -9]])\n",
    "b_ndarray = np.array([[0, 2, 1], [0, 2, -8], [2, 9, -1]])\n",
    "\n",
    "num = 0\n",
    "\n",
    "for k in range(3):\n",
    "    num += (a_ndarray[0,k] * b_ndarray[k,0])\n",
    "\n",
    "print(num)"
   ]
  },
  {
   "cell_type": "markdown",
   "id": "bb055e67",
   "metadata": {},
   "source": [
    "【問題4】行列積を行う関数の作成"
   ]
  },
  {
   "cell_type": "code",
   "execution_count": 34,
   "id": "2ae07ae2",
   "metadata": {},
   "outputs": [
    {
     "name": "stdout",
     "output_type": "stream",
     "text": [
      "[[  6.  29. -20.]\n",
      " [ 12.  52.  38.]\n",
      " [-18. -51. -48.]]\n"
     ]
    }
   ],
   "source": [
    "import numpy as np\n",
    "\n",
    "\n",
    "def matrix_product(a_ndarray, b_ndarray, ab_ndarray):\n",
    "    num = 0\n",
    "    for i in range(a_ndarray.shape[0]):\n",
    "        for j in range(b_ndarray.shape[0]):\n",
    "            for k in range(3):\n",
    "                num += (a_ndarray[i,k] * b_ndarray[k,j])\n",
    "            ab_ndarray[i,j] = num\n",
    "            num = 0\n",
    "\n",
    "    return ab_ndarray\n",
    "\n",
    "\n",
    "a_ndarray = np.array([[-1, 2, 3], [4, -5, 6], [7, 8, -9]])\n",
    "b_ndarray = np.array([[0, 2, 1], [0, 2, -8], [2, 9, -1]])\n",
    "ab_ndarray = np.zeros((3, 3))\n",
    "ab_ndarray = matrix_product(a_ndarray, b_ndarray, ab_ndarray)\n",
    "\n",
    "print(ab_ndarray)"
   ]
  },
  {
   "cell_type": "markdown",
   "id": "1082b671",
   "metadata": {},
   "source": [
    "【問題5】計算が定義されない入力を判定する"
   ]
  },
  {
   "cell_type": "code",
   "execution_count": 50,
   "id": "026c8b77",
   "metadata": {},
   "outputs": [
    {
     "name": "stdout",
     "output_type": "stream",
     "text": [
      "a_ndarrayの列数「3」とb_ndarrayの行数「2」が一致していないため、計算することができません。\n"
     ]
    }
   ],
   "source": [
    "import numpy as np\n",
    "\n",
    "\n",
    "def matrix_product(a_ndarray, b_ndarray, ab_ndarray):\n",
    "    num = 0\n",
    "    for i in range(a_ndarray.shape[0]):\n",
    "        for j in range(b_ndarray.shape[0]):\n",
    "            for k in range(3):\n",
    "                num += (a_ndarray[i,k] * b_ndarray[k,j])\n",
    "            ab_ndarray[i,j] = num\n",
    "            num = 0\n",
    "\n",
    "    return ab_ndarray\n",
    "\n",
    "\n",
    "#a_ndarray = np.array([[-1, 2, 3], [4, -5, 6], [7, 8, -9]])\n",
    "#b_ndarray = np.array([[0, 2, 1], [0, 2, -8], [2, 9, -1]])\n",
    "a_ndarray_ = np.array([[-1, 2, 3], [4, -5, 6]])\n",
    "b_ndarray = np.array([[-9, 8, 7], [6, -5, 4]])\n",
    "ab_ndarray = np.zeros((a_ndarray.shape[1], b_ndarray.shape[0]))\n",
    "\n",
    "if a_ndarray.shape[1] == b_ndarray.shape[0]:\n",
    "    ab_ndarray = matrix_product(a_ndarray, b_ndarray, ab_ndarray)\n",
    "else:\n",
    "    print(\"a_ndarrayの列数「{}」とb_ndarrayの行数「{}」が一致していないため、計算することができません。\".format(a_ndarray.shape[1],b_ndarray.shape[0]))\n",
    "\n"
   ]
  },
  {
   "cell_type": "markdown",
   "id": "9926c50b",
   "metadata": {},
   "source": [
    "【問題6】転置"
   ]
  },
  {
   "cell_type": "code",
   "execution_count": 55,
   "id": "f48335f3",
   "metadata": {},
   "outputs": [
    {
     "name": "stdout",
     "output_type": "stream",
     "text": [
      "a_ndarrayの列数「3」とb_ndarrayの行数「2」が一致していません。\n",
      "a_ndarrayを転置して計算を行います。\n",
      "[[ 33. -28.]\n",
      " [-48.  41.]\n",
      " [  9.  -6.]]\n"
     ]
    }
   ],
   "source": [
    "import numpy as np\n",
    "\n",
    "\n",
    "def matrix_product(a_ndarray, b_ndarray, ab_ndarray):\n",
    "    num = 0\n",
    "    for i in range(a_ndarray.shape[0]):\n",
    "        for j in range(b_ndarray.shape[0]):\n",
    "            for k in range(2): # ■■■■■ できれば変数にしたい ■■■■■\n",
    "                num += (a_ndarray[i,k] * b_ndarray[k,j])\n",
    "            ab_ndarray[i,j] = num\n",
    "            num = 0\n",
    "\n",
    "    return ab_ndarray\n",
    "\n",
    "\n",
    "a_ndarray = np.array([[-1, 2, 3], [4, -5, 6]])\n",
    "b_ndarray = np.array([[-9, 8, 7], [6, -5, 4]])\n",
    "ab_ndarray = np.zeros((a_ndarray.shape[1], b_ndarray.shape[0]))\n",
    "\n",
    "if a_ndarray.shape[1] == b_ndarray.shape[0]:\n",
    "    ab_ndarray = matrix_product(a_ndarray, b_ndarray, ab_ndarray)\n",
    "else:\n",
    "    print(\"a_ndarrayの列数「{}」とb_ndarrayの行数「{}」が一致していません。\".format(a_ndarray.shape[1],b_ndarray.shape[0]))\n",
    "\n",
    "    if a_ndarray.T.shape[1] == b_ndarray.shape[0]:\n",
    "        print(\"a_ndarrayを転置して計算を行います。\")\n",
    "        a_ndarray_T = a_ndarray.T\n",
    "        ab_ndarray = matrix_product(a_ndarray_T, b_ndarray, ab_ndarray)\n",
    "    else:\n",
    "        print(\"a_ndarrayを転置しても計算ができないため、処理を終了します。\")\n",
    "\n",
    "print(ab_ndarray)"
   ]
  },
  {
   "cell_type": "code",
   "execution_count": null,
   "id": "da72ab19",
   "metadata": {},
   "outputs": [],
   "source": []
  }
 ],
 "metadata": {
  "kernelspec": {
   "display_name": "Python 3",
   "language": "python",
   "name": "python3"
  },
  "language_info": {
   "codemirror_mode": {
    "name": "ipython",
    "version": 3
   },
   "file_extension": ".py",
   "mimetype": "text/x-python",
   "name": "python",
   "nbconvert_exporter": "python",
   "pygments_lexer": "ipython3",
   "version": "3.8.8"
  }
 },
 "nbformat": 4,
 "nbformat_minor": 5
}
