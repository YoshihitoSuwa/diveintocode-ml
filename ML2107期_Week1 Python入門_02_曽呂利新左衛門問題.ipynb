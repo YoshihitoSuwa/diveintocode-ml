{
 "cells": [
  {
   "cell_type": "markdown",
   "id": "2fbc7a94",
   "metadata": {},
   "source": [
    "【問題1】100日目の米粒の数"
   ]
  },
  {
   "cell_type": "code",
   "execution_count": 19,
   "id": "80bf71f4",
   "metadata": {},
   "outputs": [
    {
     "data": {
      "image/png": "[encoded data removed]",
      "text/plain": [
       "<Figure size 432x288 with 1 Axes>"
      ]
     },
     "metadata": {
      "needs_background": "light"
     },
     "output_type": "display_data"
    }
   ],
   "source": [
    "import matplotlib.pyplot as plt\n",
    "%matplotlib inline\n",
    "\n",
    "DAY_COUNT = 100\n",
    "given_rice = []\n",
    "total_rice = []\n",
    "day_num = []\n",
    "\n",
    "for i in range(DAY_COUNT+1):\n",
    "    if i == 0:\n",
    "        rice_grain = 1\n",
    "        given_rice.append(1)\n",
    "        total_rice.append(1)\n",
    "        day_num.append(i+1)\n",
    "    else:\n",
    "        day_num.append(i+1)\n",
    "        given_rice.append(rice_grain)\n",
    "        rice_grain *= 2\n",
    "        total_rice.append(rice_grain)\n",
    "\n",
    "# グラフを表示する。タイトルと軸ラベル名付き。\n",
    "plt.title(\"Transition of rice grains up to the 100th day\")\n",
    "plt.xlabel(\"day count\")\n",
    "plt.ylabel(\"grain of rice\")\n",
    "plt.plot(day_num, given_rice, color = \"red\", marker = \"o\")\n",
    "plt.plot(day_num, total_rice, color = \"blue\", marker = \"v\")\n",
    "plt.show()"
   ]
  },
  {
   "cell_type": "markdown",
   "id": "0fe65c7c",
   "metadata": {},
   "source": [
    "【問題2】100日目以外の米粒の数"
   ]
  },
  {
   "cell_type": "code",
   "execution_count": 29,
   "id": "863c7113",
   "metadata": {},
   "outputs": [
    {
     "data": {
      "image/png": "[encoded data removed]",
      "text/plain": [
       "<Figure size 432x288 with 1 Axes>"
      ]
     },
     "metadata": {
      "needs_background": "light"
     },
     "output_type": "display_data"
    }
   ],
   "source": [
    "import matplotlib.pyplot as plt\n",
    "%matplotlib inline\n",
    "\n",
    "#コース受講日数：120日\n",
    "\n",
    "def compute_sorori_shinzaemon(n_days):\n",
    "\n",
    "    given_rice = []\n",
    "    total_rice = []\n",
    "    day_num = []\n",
    "\n",
    "    for i in range(DAY_COUNT+1):\n",
    "        if i == 0:\n",
    "            rice_grain = 1\n",
    "            given_rice.append(1)\n",
    "            total_rice.append(1)\n",
    "            day_num.append(i+1)\n",
    "        else:\n",
    "            day_num.append(i+1)\n",
    "            given_rice.append(rice_grain)\n",
    "            rice_grain *= 2\n",
    "            total_rice.append(rice_grain)\n",
    "\n",
    "    return given_rice, total_rice, day_num\n",
    "\n",
    "\n",
    "DAY_COUNT = 120\n",
    "given_rice = []\n",
    "total_rice = []\n",
    "day_num = []\n",
    "\n",
    "n_days = DAY_COUNT\n",
    "\n",
    "given_rice, total_rice, day_num = compute_sorori_shinzaemon(n_days)\n",
    "\n",
    "# グラフを表示する。タイトルと軸ラベル名付き。\n",
    "plt.title(\"Transition of rice grains up to the 120th day\")\n",
    "plt.xlabel(\"day count\")\n",
    "plt.ylabel(\"grain of rice\")\n",
    "plt.plot(day_num, given_rice, color = \"red\", marker = \"o\")\n",
    "plt.plot(day_num, total_rice, color = \"blue\", marker = \"v\")\n",
    "plt.show()"
   ]
  },
  {
   "cell_type": "code",
   "execution_count": 38,
   "id": "8a5a11cf",
   "metadata": {},
   "outputs": [
    {
     "name": "stdout",
     "output_type": "stream",
     "text": [
      "コース受講日数で貰える米粒：1073741824\n",
      "1日に必要な米粒：300000\n",
      "コース受講日数：30日で貰える米粒でクラスの人数：10人が暮らせる日数は「3579」日\n"
     ]
    }
   ],
   "source": [
    "\"\"\"\n",
    "\n",
    "成人男性の1日の必要カロリーを2100Kcalとする\n",
    "お米は100gで350Kaclとする\n",
    "そうすると、1日に必要なカロリー数を満たすお米の量は600gとなる\n",
    "\n",
    "お米1粒を0.02gとすると、600gのお米は30,000粒になる\n",
    "\n",
    "成人男性が1日に必要なお米は30,000粒\n",
    "\n",
    "\"\"\"\n",
    "\n",
    "#コース受講日数：120日\n",
    "#クラスの人数　：10人\n",
    "\n",
    "DAY_COUNT = 30     #コース受講日数\n",
    "PEOPLE_COUNT = 10   #クラスの人数\n",
    "\n",
    "#コース受講日数で貰える米粒\n",
    "all_rice = 2**DAY_COUNT\n",
    "\n",
    "#1日に必要な米粒 = 30,000 * 人数\n",
    "need_rice_aday = 30000 * PEOPLE_COUNT\n",
    "\n",
    "print(\"コース受講日数で貰える米粒：{}\".format(all_rice))\n",
    "print(\"1日に必要な米粒：{}\".format(need_rice_aday))\n",
    "\n",
    "def survival_days(all_rice, need_rice_aday):\n",
    "\n",
    "    day_cnt = 1\n",
    "\n",
    "    #必要な米粒の数がコース受講日数で貰える米粒を超えるまでループ\n",
    "    while all_rice > (need_rice_aday * day_cnt):\n",
    "        day_cnt += 1\n",
    "    return (day_cnt -1)\n",
    "\n",
    "\n",
    "day_cnt = survival_days(all_rice, need_rice_aday)\n",
    "\n",
    "print(\"コース受講日数：{}日で貰える米粒でクラスの人数：{}人が暮らせる日数は「{}」日\".format(DAY_COUNT, PEOPLE_COUNT, day_cnt))"
   ]
  },
  {
   "cell_type": "code",
   "execution_count": null,
   "id": "87cf6706",
   "metadata": {},
   "outputs": [],
   "source": []
  }
 ],
 "metadata": {
  "kernelspec": {
   "display_name": "Python 3",
   "language": "python",
   "name": "python3"
  },
  "language_info": {
   "codemirror_mode": {
    "name": "ipython",
    "version": 3
   },
   "file_extension": ".py",
   "mimetype": "text/x-python",
   "name": "python",
   "nbconvert_exporter": "python",
   "pygments_lexer": "ipython3",
   "version": "3.8.8"
  }
 },
 "nbformat": 4,
 "nbformat_minor": 5
}
