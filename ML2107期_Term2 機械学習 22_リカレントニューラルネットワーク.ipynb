{
 "cells": [
  {
   "cell_type": "markdown",
   "source": [
    "### 【問題1】SimpleRNNのフォワードプロパゲーション実装\r\n",
    "### 【問題2】小さな配列でのフォワードプロパゲーションの実験\r\n",
    "SimpleRNNのクラスSimpleRNNを作成してください。基本構造はFCクラスと同じになります。<br>\r\n",
    "小さな配列でフォワードプロパゲーションを考えてみます。<br>\r\n"
   ],
   "metadata": {}
  },
  {
   "cell_type": "code",
   "execution_count": 1,
   "source": [
    "# DIC21env流用\r\n",
    "import numpy as np\r\n",
    "\r\n",
    "\r\n",
    "x = np.array([[[1, 2], [2, 3], [3, 4]]])/100 # (batch_size, n_sequences, n_features)\r\n",
    "w_x = np.array([[1, 3, 5, 7], [3, 5, 7, 8]])/100 # (n_features, n_nodes)\r\n",
    "w_h = np.array([[1, 3, 5, 7], [2, 4, 6, 8], [3, 5, 7, 8], [4, 6, 8, 10]])/100 # (n_nodes, n_nodes)\r\n",
    "batch_size = x.shape[0] # 1\r\n",
    "n_sequences = x.shape[1] # 3\r\n",
    "n_features = x.shape[2] # 2\r\n",
    "n_nodes = w_x.shape[1] # 4\r\n",
    "h = np.zeros((batch_size, n_nodes)) # (batch_size, n_nodes)\r\n",
    "b = np.array([1, 1, 1, 1]) # (n_nodes,)\r\n"
   ],
   "outputs": [],
   "metadata": {}
  },
  {
   "cell_type": "code",
   "execution_count": 2,
   "source": [
    "def forward(x):\r\n",
    "    h = np.zeros((batch_size, n_nodes))\r\n",
    "    for i in range(n_sequences):\r\n",
    "        a = x[:, i, :] @ w_x + h @ w_h + b\r\n",
    "        h = np.tanh(a)\r\n",
    "        # h = np.tanh(x[:, n, :] @ w_x + h @ w_h + b)\r\n",
    "    return h\r\n"
   ],
   "outputs": [],
   "metadata": {}
  },
  {
   "cell_type": "code",
   "execution_count": 4,
   "source": [
    "h = forward(x)\r\n",
    "print(h)\r\n",
    "# h = np.array([[0.79494228, 0.81839002, 0.83939649, 0.85584174]]) # (batch_size, n_nodes)\r\n"
   ],
   "outputs": [
    {
     "output_type": "stream",
     "name": "stdout",
     "text": [
      "[[0.79494228 0.81839002 0.83939649 0.85584174]]\n"
     ]
    }
   ],
   "metadata": {}
  },
  {
   "cell_type": "code",
   "execution_count": null,
   "source": [],
   "outputs": [],
   "metadata": {}
  }
 ],
 "metadata": {
  "orig_nbformat": 4,
  "language_info": {
   "name": "python",
   "version": "3.7.11",
   "mimetype": "text/x-python",
   "codemirror_mode": {
    "name": "ipython",
    "version": 3
   },
   "pygments_lexer": "ipython3",
   "nbconvert_exporter": "python",
   "file_extension": ".py"
  },
  "kernelspec": {
   "name": "python3",
   "display_name": "Python 3.7.11 64-bit ('DIC21env': conda)"
  },
  "interpreter": {
   "hash": "474ffb072c7ab413803fd3cd1d17c104526c80d4fcdf0cfa6099b567bd8a3d66"
  }
 },
 "nbformat": 4,
 "nbformat_minor": 2
}