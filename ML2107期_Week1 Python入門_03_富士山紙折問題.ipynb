{
 "cells": [
  {
   "cell_type": "markdown",
   "id": "e1e6ca47",
   "metadata": {},
   "source": [
    "【問題1】何回折ったら富士山を超えるか"
   ]
  },
  {
   "cell_type": "code",
   "execution_count": 1,
   "id": "37493c96",
   "metadata": {},
   "outputs": [
    {
     "name": "stdout",
     "output_type": "stream",
     "text": [
      "紙を 26回 折ると、富士山の高さを超える\n"
     ]
    }
   ],
   "source": [
    "THICKNESS = 0.00008\n",
    "MT_FUJI = 3776\n",
    "\n",
    "i = 1\n",
    "\n",
    "while MT_FUJI > THICKNESS * 2 ** i:\n",
    "    i += 1\n",
    "\n",
    "print(\"紙を {}回 折ると、富士山の高さを超える\".format(i))"
   ]
  },
  {
   "cell_type": "markdown",
   "id": "8e97e79b",
   "metadata": {},
   "source": [
    "【問題2】任意の厚さに対応した関数"
   ]
  },
  {
   "cell_type": "code",
   "execution_count": 9,
   "id": "cdda4210",
   "metadata": {},
   "outputs": [
    {
     "name": "stdout",
     "output_type": "stream",
     "text": [
      "目標とする高さ(m)を入力してください：384000000\n",
      "折りたたむ紙の厚さ(m)を入力してください：0.00008\n",
      "入力した高さを超えるには紙を「43」回折る必要があります。\n"
     ]
    }
   ],
   "source": [
    "def is_num_delimiter(s):\n",
    "    try:\n",
    "        float(s.replace(\",\", \"\"))\n",
    "    except ValueError:\n",
    "        return False\n",
    "    else:\n",
    "        return True\n",
    "\n",
    "\n",
    "def count_folded_thickness(f_goal_height, f_thickness):\n",
    "    i = 1\n",
    "    while f_goal_height > f_thickness * 2 ** i:\n",
    "        i += 1\n",
    "    return i\n",
    "\n",
    "\n",
    "# 入力値チェック用変数\n",
    "check_height = 0\n",
    "check_thickness = 0\n",
    "\n",
    "# 高さの入力値チェック\n",
    "while check_height == 0:\n",
    "\n",
    "    # 高さの入力\n",
    "    goal_height = input(\"目標とする高さ(m)を入力してください：\")\n",
    "\n",
    "    # 入力値の検証\n",
    "    judgement_height = is_num_delimiter(goal_height)\n",
    "    if judgement_height:\n",
    "        f_goal_height = float(goal_height)\n",
    "        check_height = 1\n",
    "    else:\n",
    "        print(\"高さ(m)は数値で入力してください\")\n",
    "\n",
    "# 厚さの入力値チェック    \n",
    "while check_thickness == 0:\n",
    "\n",
    "    # 厚さの入力\n",
    "    thickness = input(\"折りたたむ紙の厚さ(m)を入力してください：\")\n",
    "\n",
    "    # 入力値の検証\n",
    "    judgement_thickness = is_num_delimiter(thickness)\n",
    "    if judgement_thickness:\n",
    "        f_thickness = float(thickness)\n",
    "        check_thickness = 1\n",
    "    else:\n",
    "        print(\"厚さ(m)は数値で入力してください\")\n",
    "\n",
    "\n",
    "num = count_folded_thickness(f_goal_height, f_thickness)\n",
    "\n",
    "print(\"入力した高さを超えるには紙を「{}」回折る必要があります。\".format(num))\n",
    "\n",
    "# 4.0175 * 10**16 = 40,175,000,000,000,000\n",
    "# 紙の厚さ 0.00008"
   ]
  },
  {
   "cell_type": "markdown",
   "id": "343f9b41",
   "metadata": {},
   "source": [
    "【問題3】必要な紙の長さ"
   ]
  },
  {
   "cell_type": "code",
   "execution_count": 28,
   "id": "155594e1",
   "metadata": {},
   "outputs": [
    {
     "name": "stdout",
     "output_type": "stream",
     "text": [
      "折りたたむ紙の厚さ(m)を入力してください：0.00008\n",
      "富士山に届くために必要な紙の長さは「188550712828.11795」mです。\n",
      "月に届くために必要な紙の長さは「3.239276436131184e+21」mです。\n",
      "最も近い太陽以外の恒星に届くために必要な紙の長さは「1.458840415070545e+37」mです。\n"
     ]
    }
   ],
   "source": [
    "def is_num_delimiter(s):\n",
    "    try:\n",
    "        float(s.replace(\",\", \"\"))\n",
    "    except ValueError:\n",
    "        return False\n",
    "    else:\n",
    "        return True\n",
    "\n",
    "\n",
    "def count_folded_thickness(f_goal_height, f_thickness):\n",
    "    i = 1\n",
    "    while f_goal_height > f_thickness * 2 ** i:\n",
    "        i += 1\n",
    "    return i\n",
    "\n",
    "\n",
    "def paper_length(f_thickness, num):\n",
    "\n",
    "    p_length = 3.14*f_thickness/6*(2**num+4)*(2**num-1)\n",
    "\n",
    "    return p_length\n",
    "\n",
    "\n",
    "# 入力値チェック用変数\n",
    "check_thickness = 0\n",
    "\n",
    "# 富士山の高さ 3776\n",
    "LENGTH_FUJI = 3776\n",
    "\n",
    "# 月までの距離    384,400,000\n",
    "LENGTH_MOON = 384400000\n",
    "\n",
    "# 光星までの距離  4.0175 * 10**16 = 40,175,000,000,000,000\n",
    "LENGTH_STAR = 40175000000000000\n",
    "\n",
    "\n",
    "# 厚さの入力値チェック    \n",
    "while check_thickness == 0:\n",
    "\n",
    "    # 厚さの入力\n",
    "    thickness = input(\"折りたたむ紙の厚さ(m)を入力してください：\")\n",
    "\n",
    "    # 入力値の検証\n",
    "    judgement_thickness = is_num_delimiter(thickness)\n",
    "    if judgement_thickness:\n",
    "        f_thickness = float(thickness)\n",
    "        check_thickness = 1\n",
    "    else:\n",
    "        print(\"厚さ(m)は数値で入力してください\")\n",
    "\n",
    "# 富士山に届くために必要な紙の長さ\n",
    "num = count_folded_thickness(LENGTH_FUJI, f_thickness)\n",
    "from_fuji = paper_length(f_thickness, num)\n",
    "print(\"富士山に届くために必要な紙の長さは「{}」mです。\".format(from_fuji))\n",
    "\n",
    "# 月に届くために必要な紙の長さ\n",
    "num = count_folded_thickness(LENGTH_MOON, f_thickness)\n",
    "from_moon = paper_length(f_thickness, num)\n",
    "print(\"月に届くために必要な紙の長さは「{}」mです。\".format(from_moon))\n",
    "\n",
    "# 最も近い太陽以外の恒星に届くために必要な紙の長さ\n",
    "num = count_folded_thickness(LENGTH_STAR, f_thickness)\n",
    "from_star = paper_length(f_thickness, num)\n",
    "print(\"最も近い太陽以外の恒星に届くために必要な紙の長さは「{}」mです。\".format(from_star))\n",
    "\n",
    "# 月までの距離    384,400,000\n",
    "# 最も近い太陽以外の恒星までの距離  4.0175 * 10**16 = 40,175,000,000,000,000\n",
    "# 紙の厚さ        0.00008"
   ]
  },
  {
   "cell_type": "code",
   "execution_count": null,
   "id": "764c669a",
   "metadata": {},
   "outputs": [],
   "source": []
  }
 ],
 "metadata": {
  "kernelspec": {
   "display_name": "Python 3",
   "language": "python",
   "name": "python3"
  },
  "language_info": {
   "codemirror_mode": {
    "name": "ipython",
    "version": 3
   },
   "file_extension": ".py",
   "mimetype": "text/x-python",
   "name": "python",
   "nbconvert_exporter": "python",
   "pygments_lexer": "ipython3",
   "version": "3.8.8"
  }
 },
 "nbformat": 4,
 "nbformat_minor": 5
}
