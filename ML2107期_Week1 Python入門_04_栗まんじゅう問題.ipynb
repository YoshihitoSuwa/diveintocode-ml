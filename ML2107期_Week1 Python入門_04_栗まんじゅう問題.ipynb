{
 "cells": [
  {
   "cell_type": "code",
   "execution_count": 4,
   "id": "141b7992",
   "metadata": {},
   "outputs": [
    {
     "name": "stdout",
     "output_type": "stream",
     "text": [
      "栗饅頭の体積が太陽系の体積を超えるのは「1055」分後\n"
     ]
    },
    {
     "data": {
      "image/png": "[encoded data removed]",
      "text/plain": [
       "<Figure size 432x288 with 1 Axes>"
      ]
     },
     "metadata": {
      "needs_background": "light"
     },
     "output_type": "display_data"
    }
   ],
   "source": [
    "import matplotlib.pyplot as plt\n",
    "%matplotlib inline\n",
    "\n",
    "#「すや」の栗饅頭 大きさ「60mm * 40mm * 30mm」 = 体積：0.000072 m**3\n",
    "chestnut_volume = 0.000072\n",
    "\n",
    "#太陽系を球として、太陽系の半径 25,000光年 = 2.3652e+19 = 23,652,000,000,000,000,000 m\n",
    "#太陽系の体積（4*3.14*r**3） ※r=太陽系の半径\n",
    "solar_volume = 4 * 3.14 * 23652000000000000000 ** 3\n",
    "\n",
    "#栗饅頭の体積(A)が太陽系の体積(B)を埋め尽くすまでの時間を計算する\n",
    "def calculate_fill_up_time(a_volume, b_volume):\n",
    "    i = 1\n",
    "    t_count = [i]\n",
    "    a_count = [a_volume]\n",
    "    b_count = [b_volume]\n",
    "    while b_volume > a_volume * 2 ** i:\n",
    "        i += 1\n",
    "        t_count.append(i * 5)\n",
    "        a_count.append(a_volume * 2 ** i)\n",
    "        b_count.append(b_volume)\n",
    "    #体積が倍になるには5分かかるため、5倍する\n",
    "    t = i * 5\n",
    "    return t, t_count, a_count, b_count\n",
    "\n",
    "fill_up_time, t_count, a_count, b_count = calculate_fill_up_time(chestnut_volume, solar_volume)\n",
    "print(\"栗饅頭の体積が太陽系の体積を超えるのは「{}」分後\".format(fill_up_time))\n",
    "\n",
    "# グラフを表示する。タイトルと軸ラベル名付き。\n",
    "plt.title(\"Until the volume of kuri manju exceeds the volume of the solar system\")\n",
    "plt.xlabel(\"time(min)\")\n",
    "plt.ylabel(\"volume(m**3)\")\n",
    "plt.plot(t_count, a_count, color = \"blue\", marker = \"o\")\n",
    "plt.plot(t_count, b_count, color = \"red\")\n",
    "plt.show()"
   ]
  },
  {
   "cell_type": "code",
   "execution_count": null,
   "id": "5259092f",
   "metadata": {},
   "outputs": [],
   "source": []
  }
 ],
 "metadata": {
  "kernelspec": {
   "display_name": "Python 3",
   "language": "python",
   "name": "python3"
  },
  "language_info": {
   "codemirror_mode": {
    "name": "ipython",
    "version": 3
   },
   "file_extension": ".py",
   "mimetype": "text/x-python",
   "name": "python",
   "nbconvert_exporter": "python",
   "pygments_lexer": "ipython3",
   "version": "3.8.8"
  }
 },
 "nbformat": 4,
 "nbformat_minor": 5
}
