{
 "cells": [
  {
   "cell_type": "markdown",
   "id": "5803593c",
   "metadata": {},
   "source": [
    "【問題1】データセットの取得"
   ]
  },
  {
   "cell_type": "code",
   "execution_count": 1,
   "id": "4fb74be3",
   "metadata": {},
   "outputs": [
    {
     "name": "stdout",
     "output_type": "stream",
     "text": [
      "<class 'pandas.core.frame.DataFrame'>\n",
      "        Id  MSSubClass MSZoning  LotFrontage  LotArea Street Alley LotShape  \\\n",
      "0        1          60       RL         65.0     8450   Pave   NaN      Reg   \n",
      "1        2          20       RL         80.0     9600   Pave   NaN      Reg   \n",
      "2        3          60       RL         68.0    11250   Pave   NaN      IR1   \n",
      "3        4          70       RL         60.0     9550   Pave   NaN      IR1   \n",
      "4        5          60       RL         84.0    14260   Pave   NaN      IR1   \n",
      "...    ...         ...      ...          ...      ...    ...   ...      ...   \n",
      "1455  1456          60       RL         62.0     7917   Pave   NaN      Reg   \n",
      "1456  1457          20       RL         85.0    13175   Pave   NaN      Reg   \n",
      "1457  1458          70       RL         66.0     9042   Pave   NaN      Reg   \n",
      "1458  1459          20       RL         68.0     9717   Pave   NaN      Reg   \n",
      "1459  1460          20       RL         75.0     9937   Pave   NaN      Reg   \n",
      "\n",
      "     LandContour Utilities  ... PoolArea PoolQC  Fence MiscFeature MiscVal  \\\n",
      "0            Lvl    AllPub  ...        0    NaN    NaN         NaN       0   \n",
      "1            Lvl    AllPub  ...        0    NaN    NaN         NaN       0   \n",
      "2            Lvl    AllPub  ...        0    NaN    NaN         NaN       0   \n",
      "3            Lvl    AllPub  ...        0    NaN    NaN         NaN       0   \n",
      "4            Lvl    AllPub  ...        0    NaN    NaN         NaN       0   \n",
      "...          ...       ...  ...      ...    ...    ...         ...     ...   \n",
      "1455         Lvl    AllPub  ...        0    NaN    NaN         NaN       0   \n",
      "1456         Lvl    AllPub  ...        0    NaN  MnPrv         NaN       0   \n",
      "1457         Lvl    AllPub  ...        0    NaN  GdPrv        Shed    2500   \n",
      "1458         Lvl    AllPub  ...        0    NaN    NaN         NaN       0   \n",
      "1459         Lvl    AllPub  ...        0    NaN    NaN         NaN       0   \n",
      "\n",
      "     MoSold YrSold  SaleType  SaleCondition  SalePrice  \n",
      "0         2   2008        WD         Normal     208500  \n",
      "1         5   2007        WD         Normal     181500  \n",
      "2         9   2008        WD         Normal     223500  \n",
      "3         2   2006        WD        Abnorml     140000  \n",
      "4        12   2008        WD         Normal     250000  \n",
      "...     ...    ...       ...            ...        ...  \n",
      "1455      8   2007        WD         Normal     175000  \n",
      "1456      2   2010        WD         Normal     210000  \n",
      "1457      5   2010        WD         Normal     266500  \n",
      "1458      4   2010        WD         Normal     142125  \n",
      "1459      6   2008        WD         Normal     147500  \n",
      "\n",
      "[1460 rows x 81 columns]\n"
     ]
    }
   ],
   "source": [
    "import numpy as np\n",
    "import pandas as pd\n",
    "\n",
    "# ファイル名（パス）を指定する\n",
    "# csv_path = \"E:\\DiveIntoCode\\source\\train.csv\" ←「\\」だとエスケープシーケンス「\\t」になるからダメな模様\n",
    "csv_path = \"E:/DiveIntoCode/source/train.csv\" # 絶対パス\n",
    "#csv_path = \"../train.csv\" # 相対パス\n",
    "\n",
    "# 指数表示の禁止を設定する\n",
    "np.set_printoptions(suppress=True)\n",
    "\n",
    "# csvファイル読み込み ※該当のcsvの１行目が列名となっているため、列名を指定したりせず、そのまま読み込む\n",
    "df_train = pd.read_csv(csv_path)\n",
    "print(type(df_train))\n",
    "print(df_train)"
   ]
  },
  {
   "cell_type": "markdown",
   "id": "59a0f52d",
   "metadata": {},
   "source": [
    "【問題2】データセット自体の調査"
   ]
  },
  {
   "cell_type": "markdown",
   "id": "5d0d9a4d",
   "metadata": {},
   "source": [
    "アイオワ州エイムズの住宅の（ほぼ）すべての側面を説明する79の項目をもっており、そこから、各住宅の最終価格の予測が可能と思われる"
   ]
  },
  {
   "cell_type": "markdown",
   "id": "de5fb64a",
   "metadata": {},
   "source": [
    "【問題3】データの確認<br>\n",
    "\n",
    "　データを確認していきます。コードとマークダウンを組み合わせてレポートしてください。<br>\n",
    "<br>\n",
    "　① 各特徴量がどういったものかを見る。（数値データか文字データなど）<br>\n",
    "　② 今回の目的変数はどの列か確認する。<br>\n",
    "　③ 特徴量の平均値と標準偏差、四分位数を一度に表示させる。<br>"
   ]
  },
  {
   "cell_type": "code",
   "execution_count": 2,
   "id": "bab4e36f",
   "metadata": {},
   "outputs": [
    {
     "name": "stdout",
     "output_type": "stream",
     "text": [
      "\n",
      "① 各特徴量がどういったものかを見る。（数値データか文字データなど）\n",
      "\n",
      "Id                 int64\n",
      "MSSubClass         int64\n",
      "MSZoning          object\n",
      "LotFrontage      float64\n",
      "LotArea            int64\n",
      "                  ...   \n",
      "MoSold             int64\n",
      "YrSold             int64\n",
      "SaleType          object\n",
      "SaleCondition     object\n",
      "SalePrice          int64\n",
      "Length: 81, dtype: object\n"
     ]
    }
   ],
   "source": [
    "print(\"\")\n",
    "print(\"① 各特徴量がどういったものかを見る。（数値データか文字データなど）\")\n",
    "print(\"\")\n",
    "# データフレーム「df_train」の要素ごとの型を表示\n",
    "print(df_train.dtypes)"
   ]
  },
  {
   "cell_type": "code",
   "execution_count": 3,
   "id": "a7bfa281",
   "metadata": {},
   "outputs": [
    {
     "name": "stdout",
     "output_type": "stream",
     "text": [
      "\n",
      "② 今回の目的変数はどの列か確認する。\n",
      "\n",
      "このデータセットは住宅の最終価格を予測するためのものであるため、目的とする変数は「SalePrice」となる\n",
      "0       208500\n",
      "1       181500\n",
      "2       223500\n",
      "3       140000\n",
      "4       250000\n",
      "         ...  \n",
      "1455    175000\n",
      "1456    210000\n",
      "1457    266500\n",
      "1458    142125\n",
      "1459    147500\n",
      "Name: SalePrice, Length: 1460, dtype: int64\n"
     ]
    }
   ],
   "source": [
    "print(\"\")\n",
    "print(\"② 今回の目的変数はどの列か確認する。\")\n",
    "print(\"\")\n",
    "print(\"このデータセットは住宅の最終価格を予測するためのものであるため、目的とする変数は「SalePrice」となる\")\n",
    "print(df_train[\"SalePrice\"])"
   ]
  },
  {
   "cell_type": "code",
   "execution_count": 4,
   "id": "ef74c260",
   "metadata": {},
   "outputs": [
    {
     "name": "stdout",
     "output_type": "stream",
     "text": [
      "\n",
      "③ 特徴量の平均値と標準偏差、四分位数を一度に表示させる。\n",
      "\n",
      "                Id   MSSubClass  LotFrontage        LotArea  OverallQual  \\\n",
      "count  1460.000000  1460.000000  1201.000000    1460.000000  1460.000000   \n",
      "mean    730.500000    56.897260    70.049958   10516.828082     6.099315   \n",
      "std     421.610009    42.300571    24.284752    9981.264932     1.382997   \n",
      "min       1.000000    20.000000    21.000000    1300.000000     1.000000   \n",
      "25%     365.750000    20.000000    59.000000    7553.500000     5.000000   \n",
      "50%     730.500000    50.000000    69.000000    9478.500000     6.000000   \n",
      "75%    1095.250000    70.000000    80.000000   11601.500000     7.000000   \n",
      "max    1460.000000   190.000000   313.000000  215245.000000    10.000000   \n",
      "\n",
      "       OverallCond    YearBuilt  YearRemodAdd   MasVnrArea   BsmtFinSF1  ...  \\\n",
      "count  1460.000000  1460.000000   1460.000000  1452.000000  1460.000000  ...   \n",
      "mean      5.575342  1971.267808   1984.865753   103.685262   443.639726  ...   \n",
      "std       1.112799    30.202904     20.645407   181.066207   456.098091  ...   \n",
      "min       1.000000  1872.000000   1950.000000     0.000000     0.000000  ...   \n",
      "25%       5.000000  1954.000000   1967.000000     0.000000     0.000000  ...   \n",
      "50%       5.000000  1973.000000   1994.000000     0.000000   383.500000  ...   \n",
      "75%       6.000000  2000.000000   2004.000000   166.000000   712.250000  ...   \n",
      "max       9.000000  2010.000000   2010.000000  1600.000000  5644.000000  ...   \n",
      "\n",
      "        WoodDeckSF  OpenPorchSF  EnclosedPorch    3SsnPorch  ScreenPorch  \\\n",
      "count  1460.000000  1460.000000    1460.000000  1460.000000  1460.000000   \n",
      "mean     94.244521    46.660274      21.954110     3.409589    15.060959   \n",
      "std     125.338794    66.256028      61.119149    29.317331    55.757415   \n",
      "min       0.000000     0.000000       0.000000     0.000000     0.000000   \n",
      "25%       0.000000     0.000000       0.000000     0.000000     0.000000   \n",
      "50%       0.000000    25.000000       0.000000     0.000000     0.000000   \n",
      "75%     168.000000    68.000000       0.000000     0.000000     0.000000   \n",
      "max     857.000000   547.000000     552.000000   508.000000   480.000000   \n",
      "\n",
      "          PoolArea       MiscVal       MoSold       YrSold      SalePrice  \n",
      "count  1460.000000   1460.000000  1460.000000  1460.000000    1460.000000  \n",
      "mean      2.758904     43.489041     6.321918  2007.815753  180921.195890  \n",
      "std      40.177307    496.123024     2.703626     1.328095   79442.502883  \n",
      "min       0.000000      0.000000     1.000000  2006.000000   34900.000000  \n",
      "25%       0.000000      0.000000     5.000000  2007.000000  129975.000000  \n",
      "50%       0.000000      0.000000     6.000000  2008.000000  163000.000000  \n",
      "75%       0.000000      0.000000     8.000000  2009.000000  214000.000000  \n",
      "max     738.000000  15500.000000    12.000000  2010.000000  755000.000000  \n",
      "\n",
      "[8 rows x 38 columns]\n"
     ]
    }
   ],
   "source": [
    "print(\"\")\n",
    "print(\"③ 特徴量の平均値と標準偏差、四分位数を一度に表示させる。\")\n",
    "print(\"\")\n",
    "print(df_train.describe())"
   ]
  },
  {
   "cell_type": "markdown",
   "id": "5ce180f3",
   "metadata": {},
   "source": [
    "【問題4】欠損値への対応<br>\n",
    "　① 各特徴量の欠損値の有無を確認する。<br>\n",
    "　② 欠損値が何パーセント含まれるかを確認する。<br>\n",
    "　③ 5つ以上欠損値がある特徴量（列）は削除する。<br>\n",
    "　④ 5つ以上欠損値がある特徴量を削除したデータから、欠損値があるサンプル（行）は削除する。<br>"
   ]
  },
  {
   "cell_type": "code",
   "execution_count": 5,
   "id": "b54f1bc1",
   "metadata": {},
   "outputs": [
    {
     "name": "stdout",
     "output_type": "stream",
     "text": [
      "Requirement already satisfied: missingno in d:\\anaconda3\\lib\\site-packages (0.5.0)\n",
      "Requirement already satisfied: seaborn in d:\\anaconda3\\lib\\site-packages (from missingno) (0.11.1)\n",
      "Requirement already satisfied: scipy in d:\\anaconda3\\lib\\site-packages (from missingno) (1.6.2)\n",
      "Requirement already satisfied: matplotlib in d:\\anaconda3\\lib\\site-packages (from missingno) (3.3.4)\n",
      "Requirement already satisfied: numpy in d:\\anaconda3\\lib\\site-packages (from missingno) (1.20.1)\n",
      "Requirement already satisfied: pillow>=6.2.0 in d:\\anaconda3\\lib\\site-packages (from matplotlib->missingno) (8.2.0)\n",
      "Requirement already satisfied: pyparsing!=2.0.4,!=2.1.2,!=2.1.6,>=2.0.3 in d:\\anaconda3\\lib\\site-packages (from matplotlib->missingno) (2.4.7)\n",
      "Requirement already satisfied: cycler>=0.10 in d:\\anaconda3\\lib\\site-packages (from matplotlib->missingno) (0.10.0)\n",
      "Requirement already satisfied: kiwisolver>=1.0.1 in d:\\anaconda3\\lib\\site-packages (from matplotlib->missingno) (1.3.1)\n",
      "Requirement already satisfied: python-dateutil>=2.1 in d:\\anaconda3\\lib\\site-packages (from matplotlib->missingno) (2.8.1)\n",
      "Requirement already satisfied: six in d:\\anaconda3\\lib\\site-packages (from cycler>=0.10->matplotlib->missingno) (1.15.0)\n",
      "Requirement already satisfied: pandas>=0.23 in d:\\anaconda3\\lib\\site-packages (from seaborn->missingno) (1.2.4)\n",
      "Requirement already satisfied: pytz>=2017.3 in d:\\anaconda3\\lib\\site-packages (from pandas>=0.23->seaborn->missingno) (2021.1)\n",
      "Note: you may need to restart the kernel to use updated packages.\n"
     ]
    }
   ],
   "source": [
    "# 一度実行したため、コメントアウト\n",
    "# pip install missingno"
   ]
  },
  {
   "cell_type": "code",
   "execution_count": 4,
   "id": "54ee8494",
   "metadata": {},
   "outputs": [
    {
     "name": "stdout",
     "output_type": "stream",
     "text": [
      "\n",
      "① 各特徴量の欠損値の有無を確認する。\n",
      "\n",
      "AxesSubplot(0.125,0.125;0.698618x0.755)\n"
     ]
    },
    {
     "data": {
      "image/png": "[encoded data removed]",
      "text/plain": [
       "<Figure size 1800x720 with 2 Axes>"
      ]
     },
     "metadata": {
      "needs_background": "light"
     },
     "output_type": "display_data"
    }
   ],
   "source": [
    "import missingno as msno\n",
    "\n",
    "print(\"\")\n",
    "print(\"① 各特徴量の欠損値の有無を確認する。\")\n",
    "print(\"\")\n",
    "#print(msno.bar(df_train))\n",
    "print(msno.matrix(df_train))"
   ]
  },
  {
   "cell_type": "code",
   "execution_count": 5,
   "id": "bd06fc4f",
   "metadata": {},
   "outputs": [
    {
     "name": "stdout",
     "output_type": "stream",
     "text": [
      "\n",
      "② 欠損値が何パーセント含まれるかを確認する。\n",
      "\n",
      "Id                0.000000\n",
      "MSSubClass        0.000000\n",
      "MSZoning          0.000000\n",
      "LotFrontage      17.739726\n",
      "LotArea           0.000000\n",
      "                   ...    \n",
      "MoSold            0.000000\n",
      "YrSold            0.000000\n",
      "SaleType          0.000000\n",
      "SaleCondition     0.000000\n",
      "SalePrice         0.000000\n",
      "Length: 81, dtype: float64\n",
      "欠損値が含まれる確率は：5.89%\n"
     ]
    }
   ],
   "source": [
    "print(\"\")\n",
    "print(\"② 欠損値が何パーセント含まれるかを確認する。\")\n",
    "print(\"\")\n",
    "#print(df_train.isnull().sum()[df_train.isnull().sum()>0].sort_values())\n",
    "series_missing = df_train.isnull().sum() / len(df_train) * 100\n",
    "missing_percent = 0\n",
    "print(series_missing)\n",
    "for i in range(len(series_missing)):\n",
    "    missing_percent += series_missing[i]\n",
    "print(\"欠損値が含まれる確率は：{:.2f}%\".format(missing_percent/len(series_missing)))"
   ]
  },
  {
   "cell_type": "code",
   "execution_count": 6,
   "id": "f88f3a7d",
   "metadata": {},
   "outputs": [
    {
     "name": "stdout",
     "output_type": "stream",
     "text": [
      "\n",
      "③ 5つ以上欠損値がある特徴量（列）は削除する。\n",
      "\n",
      "        Id  MSSubClass MSZoning  LotArea Street LotShape LandContour  \\\n",
      "0        1          60       RL     8450   Pave      Reg         Lvl   \n",
      "1        2          20       RL     9600   Pave      Reg         Lvl   \n",
      "2        3          60       RL    11250   Pave      IR1         Lvl   \n",
      "3        4          70       RL     9550   Pave      IR1         Lvl   \n",
      "4        5          60       RL    14260   Pave      IR1         Lvl   \n",
      "...    ...         ...      ...      ...    ...      ...         ...   \n",
      "1455  1456          60       RL     7917   Pave      Reg         Lvl   \n",
      "1456  1457          20       RL    13175   Pave      Reg         Lvl   \n",
      "1457  1458          70       RL     9042   Pave      Reg         Lvl   \n",
      "1458  1459          20       RL     9717   Pave      Reg         Lvl   \n",
      "1459  1460          20       RL     9937   Pave      Reg         Lvl   \n",
      "\n",
      "     Utilities LotConfig LandSlope  ... EnclosedPorch 3SsnPorch ScreenPorch  \\\n",
      "0       AllPub    Inside       Gtl  ...             0         0           0   \n",
      "1       AllPub       FR2       Gtl  ...             0         0           0   \n",
      "2       AllPub    Inside       Gtl  ...             0         0           0   \n",
      "3       AllPub    Corner       Gtl  ...           272         0           0   \n",
      "4       AllPub       FR2       Gtl  ...             0         0           0   \n",
      "...        ...       ...       ...  ...           ...       ...         ...   \n",
      "1455    AllPub    Inside       Gtl  ...             0         0           0   \n",
      "1456    AllPub    Inside       Gtl  ...             0         0           0   \n",
      "1457    AllPub    Inside       Gtl  ...             0         0           0   \n",
      "1458    AllPub    Inside       Gtl  ...           112         0           0   \n",
      "1459    AllPub    Inside       Gtl  ...             0         0           0   \n",
      "\n",
      "     PoolArea MiscVal  MoSold  YrSold  SaleType  SaleCondition SalePrice  \n",
      "0           0       0       2    2008        WD         Normal    208500  \n",
      "1           0       0       5    2007        WD         Normal    181500  \n",
      "2           0       0       9    2008        WD         Normal    223500  \n",
      "3           0       0       2    2006        WD        Abnorml    140000  \n",
      "4           0       0      12    2008        WD         Normal    250000  \n",
      "...       ...     ...     ...     ...       ...            ...       ...  \n",
      "1455        0       0       8    2007        WD         Normal    175000  \n",
      "1456        0       0       2    2010        WD         Normal    210000  \n",
      "1457        0    2500       5    2010        WD         Normal    266500  \n",
      "1458        0       0       4    2010        WD         Normal    142125  \n",
      "1459        0       0       6    2008        WD         Normal    147500  \n",
      "\n",
      "[1460 rows x 63 columns]\n"
     ]
    }
   ],
   "source": [
    "print(\"\")\n",
    "print(\"③ 5つ以上欠損値がある特徴量（列）は削除する。\")\n",
    "print(\"\")\n",
    "# 列を削除するので、元のデータフレームを退避\n",
    "df_train_1 = df_train\n",
    "\n",
    "# 削除する列名を格納するための配列\n",
    "list_delete = []\n",
    "\n",
    "# 各列別の欠損値の数\n",
    "missing_cnt = df_train.isnull().sum()\n",
    "\n",
    "# データフレームの列数分ループ\n",
    "for i in range(len(missing_cnt)):\n",
    "    # 欠損値が5以上の場合、missing_cntに列名を追加\n",
    "    if missing_cnt[i] >= 5:\n",
    "        list_delete.append(df_train_1.columns[i])\n",
    "\n",
    "# 欠損値が5以上の列を削除\n",
    "for i in list_delete:\n",
    "    # 列を削除\n",
    "    df_train_1 = df_train_1.drop(columns=i)\n",
    "print(df_train_1)"
   ]
  },
  {
   "cell_type": "markdown",
   "id": "61355cfd",
   "metadata": {},
   "source": [
    "④ 5つ以上欠損値がある特徴量を削除したデータから、欠損値があるサンプル（行）は削除する。"
   ]
  },
  {
   "cell_type": "code",
   "execution_count": 7,
   "id": "017b3957",
   "metadata": {},
   "outputs": [
    {
     "name": "stdout",
     "output_type": "stream",
     "text": [
      "        Id  MSSubClass MSZoning  LotArea Street LotShape LandContour  \\\n",
      "0        1          60       RL     8450   Pave      Reg         Lvl   \n",
      "1        2          20       RL     9600   Pave      Reg         Lvl   \n",
      "2        3          60       RL    11250   Pave      IR1         Lvl   \n",
      "3        4          70       RL     9550   Pave      IR1         Lvl   \n",
      "4        5          60       RL    14260   Pave      IR1         Lvl   \n",
      "...    ...         ...      ...      ...    ...      ...         ...   \n",
      "1455  1456          60       RL     7917   Pave      Reg         Lvl   \n",
      "1456  1457          20       RL    13175   Pave      Reg         Lvl   \n",
      "1457  1458          70       RL     9042   Pave      Reg         Lvl   \n",
      "1458  1459          20       RL     9717   Pave      Reg         Lvl   \n",
      "1459  1460          20       RL     9937   Pave      Reg         Lvl   \n",
      "\n",
      "     Utilities LotConfig LandSlope  ... EnclosedPorch 3SsnPorch ScreenPorch  \\\n",
      "0       AllPub    Inside       Gtl  ...             0         0           0   \n",
      "1       AllPub       FR2       Gtl  ...             0         0           0   \n",
      "2       AllPub    Inside       Gtl  ...             0         0           0   \n",
      "3       AllPub    Corner       Gtl  ...           272         0           0   \n",
      "4       AllPub       FR2       Gtl  ...             0         0           0   \n",
      "...        ...       ...       ...  ...           ...       ...         ...   \n",
      "1455    AllPub    Inside       Gtl  ...             0         0           0   \n",
      "1456    AllPub    Inside       Gtl  ...             0         0           0   \n",
      "1457    AllPub    Inside       Gtl  ...             0         0           0   \n",
      "1458    AllPub    Inside       Gtl  ...           112         0           0   \n",
      "1459    AllPub    Inside       Gtl  ...             0         0           0   \n",
      "\n",
      "     PoolArea MiscVal  MoSold  YrSold  SaleType  SaleCondition SalePrice  \n",
      "0           0       0       2    2008        WD         Normal    208500  \n",
      "1           0       0       5    2007        WD         Normal    181500  \n",
      "2           0       0       9    2008        WD         Normal    223500  \n",
      "3           0       0       2    2006        WD        Abnorml    140000  \n",
      "4           0       0      12    2008        WD         Normal    250000  \n",
      "...       ...     ...     ...     ...       ...            ...       ...  \n",
      "1455        0       0       8    2007        WD         Normal    175000  \n",
      "1456        0       0       2    2010        WD         Normal    210000  \n",
      "1457        0    2500       5    2010        WD         Normal    266500  \n",
      "1458        0       0       4    2010        WD         Normal    142125  \n",
      "1459        0       0       6    2008        WD         Normal    147500  \n",
      "\n",
      "[1459 rows x 63 columns]\n"
     ]
    }
   ],
   "source": [
    "# 欠損値が一つでも含まれる行を削除\n",
    "df_train_2 = df_train_1.dropna(how=\"any\")\n",
    "print(df_train_2)"
   ]
  },
  {
   "cell_type": "markdown",
   "id": "c10148c0",
   "metadata": {},
   "source": [
    "【問題5】用語の調査<br>\n",
    "　以下の２つの単語を知る必要があります。これらを調査してまとめてください。<br>\n",
    "　　① 尖度<br>\n",
    "　　② 歪度<br>"
   ]
  },
  {
   "cell_type": "markdown",
   "id": "ef527fc2",
   "metadata": {},
   "source": [
    "① 尖度・・・正規分布と比べて、分布がどれだけ尖っているか、を示す指標。<br>\n",
    "　　　　　　 データが平均付近に集中し分布の幅が狭くなっている（尖度が大きい）場合に、正の値をとる。<br>\n",
    "　　　　　　 データが平均付近から散らばって分布の幅が広く浅い（尖度が小さい）場合に、負の値をとる。<br>\n",
    "　　　　　　 歪度と共に用いられる（それぞれが独立した指標ではない）。<br>\n",
    "　　　　　　 また、正規分布の尖度を「0」とする定義と「3」とする2つの定義が存在し、一般的には正規分布の尖度を「0」とすることが主流である<br>\n",
    "<br>\n",
    "$$\n",
    "    \\frac{n(n+1)}{(n-1)(n-2)(n-3)}\\sum_{i=1}^{n}\\frac{(x_i-\\bar{x})^4}{s^4}-\\frac{3(n-1)^2}{(n-2)(n-3)}\n",
    "$$"
   ]
  },
  {
   "cell_type": "markdown",
   "id": "dd8dd995",
   "metadata": {},
   "source": [
    "② 歪度・・・正規分布と比べて、分布がどれだけ左右非対称になっている（歪んでいる）か、を示す指標。<br>\n",
    "　　　　　　 データが(向かって)左側に集中して山があり、(向かって)右側へ長く裾を引く形(右に歪んだ分布)の場合、正の値をとる。<br>\n",
    "　　　　　　 データが(向かって)右側に集中して山があり、(向かって)左側へ長く裾を引く形(左に歪んだ分布)の場合、負の値をとる。<br>\n",
    "　　　　　　 尖度と共に用いられる（それぞれが独立した指標ではない）。<br>\n",
    "$$\n",
    "    \\frac{n}{(n-1)(n-2)}\\sum_{i=1}^{n}\\frac{(x_i-\\bar{x})^3}{s}\n",
    "$$"
   ]
  },
  {
   "cell_type": "markdown",
   "id": "2e75428f",
   "metadata": {},
   "source": [
    "【問題6】分布の確認<br>\n",
    "　① seabornのsns.displot()やsns.histplot()を使い目的変数の分布を表示し、「尖度」と「歪度」も算出する。<br>\n",
    "　② 目的変数に対して対数変換を行う。<br>\n",
    "　③ 対数変換したものに対して分布を表示し、「尖度」と「歪度」も算出する。<br>\n",
    "　④ 対数変換の前後での変化を「正規分布」という言葉を含めて説明してください。このように加工することで予測時の精度を上げることができます。"
   ]
  },
  {
   "cell_type": "code",
   "execution_count": 36,
   "id": "4544483c",
   "metadata": {},
   "outputs": [
    {
     "name": "stdout",
     "output_type": "stream",
     "text": [
      "\n",
      "① seabornのsns.displot()やsns.histplot()を使い目的変数の分布を表示し、「尖度」と「歪度」も算出する。\n",
      "\n"
     ]
    },
    {
     "data": {
      "image/png": "[encoded data removed]",
      "text/plain": [
       "<Figure size 360x360 with 1 Axes>"
      ]
     },
     "metadata": {},
     "output_type": "display_data"
    },
    {
     "name": "stdout",
     "output_type": "stream",
     "text": [
      "　　===== 尖度 =====\n",
      "6.529263049673958\n",
      "\n",
      "　　===== 歪度 =====\n",
      "1.8819429948035529\n"
     ]
    }
   ],
   "source": [
    "import seaborn as sns\n",
    "import matplotlib.pyplot as plt\n",
    "\n",
    "\n",
    "print(\"\")\n",
    "print(\"① seabornのsns.displot()やsns.histplot()を使い目的変数の分布を表示し、「尖度」と「歪度」も算出する。\")\n",
    "print(\"\")\n",
    "\n",
    "# グラフの表示スタイル設定\n",
    "sns.set(style=\"darkgrid\")\n",
    "\n",
    "# 目的変数（SalePrice）をグラフに表示\n",
    "#sns.distplot(df_train_2[\"SalePrice\"]) # 警告メッセージが出る「distplot」ではなく、「displot」か「histplot」を使うように、と\n",
    "sns.displot(df_train_2[\"SalePrice\"])\n",
    "#sns.histplot(df_train_2[\"SalePrice\"]) # 出力結果は「displot」と同じ\n",
    "plt.show()\n",
    "\n",
    "# 関数を使用して尖度と歪度を計算\n",
    "kurt = df_train_2[\"SalePrice\"].kurt() # 尖度\n",
    "skew = df_train_2[\"SalePrice\"].skew() # 歪度\n",
    "print(\"　　===== 尖度 =====\")\n",
    "print(kurt)\n",
    "print(\"\")\n",
    "print(\"　　===== 歪度 =====\")\n",
    "print(skew)\n",
    "\n",
    "# 各関数の引数の「numeric_only」はデフォルトでNoneだが非推奨であるため、警告メッセージが出る。そのため、数値のみ使う「True」を指定\n",
    "# ↑データフレーム型を使用していたため。目的変数のみ（Series型）であればデフォルトのままで良かった\n",
    "# kurt = df_train_2.kurt(numeric_only=True) # 尖度\n",
    "# skew = df_train_2.skew(numeric_only=True) # 歪度"
   ]
  },
  {
   "cell_type": "code",
   "execution_count": 28,
   "id": "570cd3a4",
   "metadata": {},
   "outputs": [
    {
     "name": "stdout",
     "output_type": "stream",
     "text": [
      "\n",
      "② 目的変数に対して対数変換を行う。\n",
      "\n",
      "0       12.247694\n",
      "1       12.109011\n",
      "2       12.317167\n",
      "3       11.849398\n",
      "4       12.429216\n",
      "          ...    \n",
      "1455    12.072541\n",
      "1456    12.254863\n",
      "1457    12.493130\n",
      "1458    11.864462\n",
      "1459    11.901583\n",
      "Name: SalePrice, Length: 1459, dtype: float64\n"
     ]
    }
   ],
   "source": [
    "print(\"\")\n",
    "print(\"② 目的変数に対して対数変換を行う。\")\n",
    "print(\"\")\n",
    "\n",
    "# 目的変数「SalePrice」を対数変換\n",
    "# print(df_train_2[\"SalePrice\"])\n",
    "log_df_train_2 = np.log(df_train_2[\"SalePrice\"])\n",
    "print(log_df_train_2)"
   ]
  },
  {
   "cell_type": "code",
   "execution_count": 38,
   "id": "b82c7a9f",
   "metadata": {},
   "outputs": [
    {
     "name": "stdout",
     "output_type": "stream",
     "text": [
      "\n",
      "③ 対数変換したものに対して分布を表示し、「尖度」と「歪度」も算出する。\n",
      "\n"
     ]
    },
    {
     "data": {
      "image/png": "[encoded data removed]",
      "text/plain": [
       "<Figure size 360x360 with 1 Axes>"
      ]
     },
     "metadata": {},
     "output_type": "display_data"
    },
    {
     "name": "stdout",
     "output_type": "stream",
     "text": [
      "　　===== 尖度 =====\n",
      "0.806927847502148\n",
      "\n",
      "　　===== 歪度 =====\n",
      "0.12131775882415026\n"
     ]
    }
   ],
   "source": [
    "print(\"\")\n",
    "print(\"③ 対数変換したものに対して分布を表示し、「尖度」と「歪度」も算出する。\")\n",
    "print(\"\")\n",
    "\n",
    "# グラフの表示スタイル設定\n",
    "sns.set(style=\"darkgrid\")\n",
    "\n",
    "# 目的変数（SalePrice）をグラフに表示\n",
    "sns.displot(log_df_train_2)\n",
    "plt.show()\n",
    "\n",
    "# 関数を使用して尖度と歪度を計算\n",
    "log_kurt = log_df_train_2.kurt() # 尖度\n",
    "log_skew = log_df_train_2.skew() # 歪度\n",
    "print(\"　　===== 尖度 =====\")\n",
    "print(log_kurt)\n",
    "print(\"\")\n",
    "print(\"　　===== 歪度 =====\")\n",
    "print(log_skew)"
   ]
  },
  {
   "cell_type": "markdown",
   "id": "d4827f20",
   "metadata": {},
   "source": [
    "④ 対数変換の前後での変化を「正規分布」という言葉を含めて説明してください。このように加工することで予測時の精度を上げることができます。\n",
    "\n",
    "　対数変換前は尖度と歪度が共に大きく、グラフが歪んでいたが、<br>\n",
    "　対数変換後は尖度と歪度が小さくなり、正規分布になった"
   ]
  },
  {
   "cell_type": "markdown",
   "id": "d6114534",
   "metadata": {},
   "source": [
    "【問題7】相関係数の確認<br>\n",
    "特徴量の確認をしていきます。それぞれに対してマークダウンで説明や考察を書いてください。<br>\n",
    "<br>\n",
    "　① 相関係数行列のヒートマップを作り、相関係数の高い関係を見つける。<br>\n",
    "　② 目的変数との相関の高い特徴量10個を選び、これらだけの相関係数行列ヒートマップを作る。<br>\n",
    "　③ 選んだ10個の特徴量が何か表しているかをKaggleのDataDescriptionの記述を参考に日本語でまとめる。<br>\n",
    "　④ 選んだ10個の特徴量の中でお互いの相関係数が高い組み合わせを3つ探し出す。"
   ]
  },
  {
   "cell_type": "code",
   "execution_count": 43,
   "id": "1ef6d569",
   "metadata": {},
   "outputs": [
    {
     "name": "stdout",
     "output_type": "stream",
     "text": [
      "\n",
      "① 相関係数行列のヒートマップを作り、相関係数の高い関係を見つける。\n",
      "\n"
     ]
    },
    {
     "data": {
      "image/png": "[encoded data removed]",
      "text/plain": [
       "<Figure size 432x288 with 2 Axes>"
      ]
     },
     "metadata": {},
     "output_type": "display_data"
    }
   ],
   "source": [
    "print(\"\")\n",
    "print(\"① 相関係数行列のヒートマップを作り、相関係数の高い関係を見つける。\")\n",
    "print(\"\")\n",
    "\n",
    "# 相関係数をcorr関数を使って求める\n",
    "corr_df_train_2 = df_train_2.corr()\n",
    "\n",
    "# 相関係数をヒートマップで表示\n",
    "# print(corr_df_train_2)\n",
    "sns.heatmap(corr_df_train_2)\n",
    "plt.show()"
   ]
  },
  {
   "cell_type": "markdown",
   "id": "43159e52",
   "metadata": {},
   "source": [
    "ヒートマップは値を確認することなく、相関性のあるなしをある程度把握することが出来るため、おおよその目星をつけるのに利便性が高いと思われる。"
   ]
  },
  {
   "cell_type": "code",
   "execution_count": 104,
   "id": "565709df",
   "metadata": {},
   "outputs": [
    {
     "name": "stdout",
     "output_type": "stream",
     "text": [
      "\n",
      "② 目的変数との相関の高い特徴量10個を選び、これらだけの相関係数行列ヒートマップを作る。\n",
      "\n"
     ]
    },
    {
     "data": {
      "text/html": [
       "<div>\n",
       "<style scoped>\n",
       "    .dataframe tbody tr th:only-of-type {\n",
       "        vertical-align: middle;\n",
       "    }\n",
       "\n",
       "    .dataframe tbody tr th {\n",
       "        vertical-align: top;\n",
       "    }\n",
       "\n",
       "    .dataframe thead th {\n",
       "        text-align: right;\n",
       "    }\n",
       "</style>\n",
       "<table border=\"1\" class=\"dataframe\">\n",
       "  <thead>\n",
       "    <tr style=\"text-align: right;\">\n",
       "      <th></th>\n",
       "      <th>OverallQual</th>\n",
       "      <th>GrLivArea</th>\n",
       "      <th>GarageCars</th>\n",
       "      <th>GarageArea</th>\n",
       "      <th>TotalBsmtSF</th>\n",
       "      <th>1stFlrSF</th>\n",
       "      <th>FullBath</th>\n",
       "      <th>TotRmsAbvGrd</th>\n",
       "      <th>YearBuilt</th>\n",
       "      <th>YearRemodAdd</th>\n",
       "    </tr>\n",
       "  </thead>\n",
       "  <tbody>\n",
       "    <tr>\n",
       "      <th>OverallQual</th>\n",
       "      <td>1.000000</td>\n",
       "      <td>0.593021</td>\n",
       "      <td>0.600991</td>\n",
       "      <td>0.561980</td>\n",
       "      <td>0.537523</td>\n",
       "      <td>0.475933</td>\n",
       "      <td>0.551267</td>\n",
       "      <td>0.427720</td>\n",
       "      <td>0.573334</td>\n",
       "      <td>0.551605</td>\n",
       "    </tr>\n",
       "    <tr>\n",
       "      <th>GrLivArea</th>\n",
       "      <td>0.593021</td>\n",
       "      <td>1.000000</td>\n",
       "      <td>0.467321</td>\n",
       "      <td>0.468971</td>\n",
       "      <td>0.455001</td>\n",
       "      <td>0.566084</td>\n",
       "      <td>0.630283</td>\n",
       "      <td>0.825576</td>\n",
       "      <td>0.199286</td>\n",
       "      <td>0.287677</td>\n",
       "    </tr>\n",
       "    <tr>\n",
       "      <th>GarageCars</th>\n",
       "      <td>0.600991</td>\n",
       "      <td>0.467321</td>\n",
       "      <td>1.000000</td>\n",
       "      <td>0.882613</td>\n",
       "      <td>0.435279</td>\n",
       "      <td>0.439726</td>\n",
       "      <td>0.469619</td>\n",
       "      <td>0.362248</td>\n",
       "      <td>0.537866</td>\n",
       "      <td>0.420573</td>\n",
       "    </tr>\n",
       "    <tr>\n",
       "      <th>GarageArea</th>\n",
       "      <td>0.561980</td>\n",
       "      <td>0.468971</td>\n",
       "      <td>0.882613</td>\n",
       "      <td>1.000000</td>\n",
       "      <td>0.486719</td>\n",
       "      <td>0.489741</td>\n",
       "      <td>0.405944</td>\n",
       "      <td>0.337915</td>\n",
       "      <td>0.479460</td>\n",
       "      <td>0.372012</td>\n",
       "    </tr>\n",
       "    <tr>\n",
       "      <th>TotalBsmtSF</th>\n",
       "      <td>0.537523</td>\n",
       "      <td>0.455001</td>\n",
       "      <td>0.435279</td>\n",
       "      <td>0.486719</td>\n",
       "      <td>1.000000</td>\n",
       "      <td>0.819393</td>\n",
       "      <td>0.324886</td>\n",
       "      <td>0.286125</td>\n",
       "      <td>0.393159</td>\n",
       "      <td>0.292546</td>\n",
       "    </tr>\n",
       "    <tr>\n",
       "      <th>1stFlrSF</th>\n",
       "      <td>0.475933</td>\n",
       "      <td>0.566084</td>\n",
       "      <td>0.439726</td>\n",
       "      <td>0.489741</td>\n",
       "      <td>0.819393</td>\n",
       "      <td>1.000000</td>\n",
       "      <td>0.381438</td>\n",
       "      <td>0.409901</td>\n",
       "      <td>0.283056</td>\n",
       "      <td>0.241344</td>\n",
       "    </tr>\n",
       "    <tr>\n",
       "      <th>FullBath</th>\n",
       "      <td>0.551267</td>\n",
       "      <td>0.630283</td>\n",
       "      <td>0.469619</td>\n",
       "      <td>0.405944</td>\n",
       "      <td>0.324886</td>\n",
       "      <td>0.381438</td>\n",
       "      <td>1.000000</td>\n",
       "      <td>0.554759</td>\n",
       "      <td>0.467960</td>\n",
       "      <td>0.438733</td>\n",
       "    </tr>\n",
       "    <tr>\n",
       "      <th>TotRmsAbvGrd</th>\n",
       "      <td>0.427720</td>\n",
       "      <td>0.825576</td>\n",
       "      <td>0.362248</td>\n",
       "      <td>0.337915</td>\n",
       "      <td>0.286125</td>\n",
       "      <td>0.409901</td>\n",
       "      <td>0.554759</td>\n",
       "      <td>1.000000</td>\n",
       "      <td>0.095401</td>\n",
       "      <td>0.191603</td>\n",
       "    </tr>\n",
       "    <tr>\n",
       "      <th>YearBuilt</th>\n",
       "      <td>0.573334</td>\n",
       "      <td>0.199286</td>\n",
       "      <td>0.537866</td>\n",
       "      <td>0.479460</td>\n",
       "      <td>0.393159</td>\n",
       "      <td>0.283056</td>\n",
       "      <td>0.467960</td>\n",
       "      <td>0.095401</td>\n",
       "      <td>1.000000</td>\n",
       "      <td>0.592512</td>\n",
       "    </tr>\n",
       "    <tr>\n",
       "      <th>YearRemodAdd</th>\n",
       "      <td>0.551605</td>\n",
       "      <td>0.287677</td>\n",
       "      <td>0.420573</td>\n",
       "      <td>0.372012</td>\n",
       "      <td>0.292546</td>\n",
       "      <td>0.241344</td>\n",
       "      <td>0.438733</td>\n",
       "      <td>0.191603</td>\n",
       "      <td>0.592512</td>\n",
       "      <td>1.000000</td>\n",
       "    </tr>\n",
       "  </tbody>\n",
       "</table>\n",
       "</div>"
      ],
      "text/plain": [
       "              OverallQual  GrLivArea  GarageCars  GarageArea  TotalBsmtSF  \\\n",
       "OverallQual      1.000000   0.593021    0.600991    0.561980     0.537523   \n",
       "GrLivArea        0.593021   1.000000    0.467321    0.468971     0.455001   \n",
       "GarageCars       0.600991   0.467321    1.000000    0.882613     0.435279   \n",
       "GarageArea       0.561980   0.468971    0.882613    1.000000     0.486719   \n",
       "TotalBsmtSF      0.537523   0.455001    0.435279    0.486719     1.000000   \n",
       "1stFlrSF         0.475933   0.566084    0.439726    0.489741     0.819393   \n",
       "FullBath         0.551267   0.630283    0.469619    0.405944     0.324886   \n",
       "TotRmsAbvGrd     0.427720   0.825576    0.362248    0.337915     0.286125   \n",
       "YearBuilt        0.573334   0.199286    0.537866    0.479460     0.393159   \n",
       "YearRemodAdd     0.551605   0.287677    0.420573    0.372012     0.292546   \n",
       "\n",
       "              1stFlrSF  FullBath  TotRmsAbvGrd  YearBuilt  YearRemodAdd  \n",
       "OverallQual   0.475933  0.551267      0.427720   0.573334      0.551605  \n",
       "GrLivArea     0.566084  0.630283      0.825576   0.199286      0.287677  \n",
       "GarageCars    0.439726  0.469619      0.362248   0.537866      0.420573  \n",
       "GarageArea    0.489741  0.405944      0.337915   0.479460      0.372012  \n",
       "TotalBsmtSF   0.819393  0.324886      0.286125   0.393159      0.292546  \n",
       "1stFlrSF      1.000000  0.381438      0.409901   0.283056      0.241344  \n",
       "FullBath      0.381438  1.000000      0.554759   0.467960      0.438733  \n",
       "TotRmsAbvGrd  0.409901  0.554759      1.000000   0.095401      0.191603  \n",
       "YearBuilt     0.283056  0.467960      0.095401   1.000000      0.592512  \n",
       "YearRemodAdd  0.241344  0.438733      0.191603   0.592512      1.000000  "
      ]
     },
     "metadata": {},
     "output_type": "display_data"
    },
    {
     "data": {
      "image/png": "[encoded data removed]",
      "text/plain": [
       "<Figure size 432x288 with 2 Axes>"
      ]
     },
     "metadata": {},
     "output_type": "display_data"
    }
   ],
   "source": [
    "print(\"\")\n",
    "print(\"② 目的変数との相関の高い特徴量10個を選び、これらだけの相関係数行列ヒートマップを作る。\")\n",
    "print(\"\")\n",
    "\n",
    "# corr_df_train_2を目的変数のみに絞り、そのSeriesを絶対値にしてソート（降順）、上位11データ（目的変数を除くため）を取得\n",
    "corr_saleprice_10 = abs(corr_df_train_2[\"SalePrice\"]).sort_values(ascending=False)[1:11]\n",
    "\n",
    "# 列名を配列へ取得\n",
    "corr_saleprice_10_columns = []\n",
    "for corr_saleprice_10_column in corr_saleprice_10.index:\n",
    "    corr_saleprice_10_columns.append(corr_saleprice_10_column)\n",
    "\n",
    "# 該当列名のみのdataframeを作成 行のみ（行と列は同時にフィルターを掛けられないので順番に） ※処理を1行で記載することは可能\n",
    "df_10_columns = corr_df_train_2.filter(items=corr_saleprice_10_columns, axis=0).filter(items=corr_saleprice_10_columns, axis=1)\n",
    "\n",
    "display(df_10_columns)\n",
    "\n",
    "# 相関係数をヒートマップで表示\n",
    "sns.heatmap(df_10_columns)\n",
    "plt.show()"
   ]
  },
  {
   "cell_type": "markdown",
   "id": "c65f2b3d",
   "metadata": {},
   "source": [
    "数が減った分ヒートマップ自体は見やすくなった。<br>\n",
    "前提条件として、目的変数との相関性が高い上位10種であることを踏まえたうえで相関性を考慮する必要がある<br>"
   ]
  },
  {
   "cell_type": "code",
   "execution_count": 103,
   "id": "0b23e280",
   "metadata": {},
   "outputs": [
    {
     "name": "stdout",
     "output_type": "stream",
     "text": [
      "\n",
      "③ 選んだ10個の特徴量が何か表しているかをKaggleのDataDescriptionの記述を参考に日本語でまとめる。\n"
     ]
    }
   ],
   "source": [
    "print(\"\")\n",
    "print(\"③ 選んだ10個の特徴量が何か表しているかをKaggleのDataDescriptionの記述を参考に日本語でまとめる。\")"
   ]
  },
  {
   "cell_type": "markdown",
   "id": "a7fb9347",
   "metadata": {},
   "source": [
    "　 1.OverallQual…家の全体的な素材と仕上げの評価<br>\n",
    "　 2.GrLivArea…地上の面積 ※アメリカでは家の面積が地上と地下に分かれて表示される<br>\n",
    "　 3.GarageCars…車の容量に対するガレージのサイズ<br>\n",
    "　 4.GarageArea…ガレージのサイズ\t<br>\n",
    "　 5.TotalBsmtSF…地下室の総容量<br>\n",
    "　 6.1stFlrSF…1Fの広さ<br>\n",
    "　 7.FullBath…地上にあるバスルーム<br>\n",
    "　 8.TotRmsAbvGrd…地上にある、バスルーム以外の、部屋の総数<br>\n",
    "　 9.YearBuilt…築年数<br>\n",
    "　10.YearRemodAdd…リフォーム日（リフォームが無い場合は工事日）<br>"
   ]
  },
  {
   "cell_type": "code",
   "execution_count": 137,
   "id": "c64fc404",
   "metadata": {},
   "outputs": [
    {
     "name": "stdout",
     "output_type": "stream",
     "text": [
      "\n",
      "④ 選んだ10個の特徴量の中でお互いの相関係数が高い組み合わせを3つ探し出す。\n",
      "\n",
      "相関関数が一番高い組み合わせと値は：GarageCars:GarageArea:0.8826130266800467\n",
      "相関関数が二番目に高い組み合わせと値は：GrLivArea:TotRmsAbvGrd:0.8255764500702395\n",
      "相関関数が三番目に高い組み合わせと値は：TotalBsmtSF:1stFlrSF:0.8193932708606798\n"
     ]
    }
   ],
   "source": [
    "print(\"\")\n",
    "print(\"④ 選んだ10個の特徴量の中でお互いの相関係数が高い組み合わせを3つ探し出す。\")\n",
    "print(\"\")\n",
    "\n",
    "\n",
    "no1 = 0 # 一番相関係数が高い値\n",
    "no2 = 0 # 二番目に相関係数が高い値\n",
    "no3 = 0 # 三番目に相関係数が高い値\n",
    "array_no1 = [] # 一番相関係数が高い組み合わせ（名称）\n",
    "array_no2 = [] # 一番相関係数が高い組み合わせ（名称）\n",
    "array_no3 = [] # 一番相関係数が高い組み合わせ（名称）\n",
    "j = 0 # 重複（行と列が入れ替わっただけ）データを除外するための変数\n",
    "\n",
    "# 対象のデータフレームの値を全て比較し、上位3つを取得\n",
    "# 1行ずつループ\n",
    "for row in df_10_columns.itertuples():\n",
    "    # インクリメント（重複データを比較から省くため）\n",
    "    j += 1\n",
    "    # rowの値を1つずつ(全10列分)比較（row[0]はindexが入るためループからは除外）\n",
    "    # range(j+1,10) ⇒ 行データの「1.0」を含む左側を比較対象から省き、右側のみで比較を行う\n",
    "    for i in range(j+1, 10):\n",
    "        # 一番相関係数が高い組み合わせと比較\n",
    "        # 同じ値の場合は繰り下げる（同率にはしない）\n",
    "        if no1 == 0:\n",
    "            no1 = row[i]\n",
    "            array_no1 = row[0] + \":\" + df_10_columns.columns[i-1] + \":\" + str(row[i])\n",
    "        else:\n",
    "            if no1 > row[i]:\n",
    "                if no2 > row[i]:\n",
    "                    if no3 > row[i]:\n",
    "                        None\n",
    "                    else:\n",
    "                        no3 = row[i]\n",
    "                        array_no3 = row[0] + \":\" + df_10_columns.columns[i-1] + \":\" + str(row[i])\n",
    "                else:\n",
    "                    no3 = no2\n",
    "                    array_no3 = array_no2\n",
    "                    no2 = row[i]\n",
    "                    array_no2 = row[0] + \":\" + df_10_columns.columns[i-1] + \":\" + str(row[i])\n",
    "            else:\n",
    "                no3 = no2\n",
    "                array_no3 = array_no2\n",
    "                no2 = no1\n",
    "                array_no2 = array_no1\n",
    "                no1 = row[i]\n",
    "                array_no1 = row[0] + \":\" + df_10_columns.columns[i-1] + \":\" + str(row[i])\n",
    "\n",
    "print(\"相関関数が一番高い組み合わせと値は：{}\".format(array_no1))\n",
    "print(\"相関関数が二番目に高い組み合わせと値は：{}\".format(array_no2))\n",
    "print(\"相関関数が三番目に高い組み合わせと値は：{}\".format(array_no3))\n"
   ]
  },
  {
   "cell_type": "code",
   "execution_count": null,
   "id": "965c9eda",
   "metadata": {},
   "outputs": [],
   "source": []
  }
 ],
 "metadata": {
  "kernelspec": {
   "display_name": "Python 3",
   "language": "python",
   "name": "python3"
  },
  "language_info": {
   "codemirror_mode": {
    "name": "ipython",
    "version": 3
   },
   "file_extension": ".py",
   "mimetype": "text/x-python",
   "name": "python",
   "nbconvert_exporter": "python",
   "pygments_lexer": "ipython3",
   "version": "3.8.10"
  }
 },
 "nbformat": 4,
 "nbformat_minor": 5
}
