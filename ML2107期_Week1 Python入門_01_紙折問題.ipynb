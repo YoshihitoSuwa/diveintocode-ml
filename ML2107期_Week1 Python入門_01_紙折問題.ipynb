{
 "cells": [
  {
   "cell_type": "markdown",
   "id": "1f762f5c",
   "metadata": {},
   "source": [
    "【問題1】べき乗の算術演算子を使用した実装"
   ]
  },
  {
   "cell_type": "code",
   "execution_count": 1,
   "id": "36784cc8",
   "metadata": {},
   "outputs": [
    {
     "name": "stdout",
     "output_type": "stream",
     "text": [
      "厚さ： 703687441.77664メートル\n"
     ]
    }
   ],
   "source": [
    "THICKNESS = 0.00008\n",
    "folded_thickness = THICKNESS * (2 ** 43)\n",
    "print(\"厚さ： {}メートル\".format(folded_thickness))"
   ]
  },
  {
   "cell_type": "markdown",
   "id": "ff8f44fb",
   "metadata": {},
   "source": [
    "【問題2】単位の変換"
   ]
  },
  {
   "cell_type": "code",
   "execution_count": 2,
   "id": "4e8040f5",
   "metadata": {},
   "outputs": [
    {
     "name": "stdout",
     "output_type": "stream",
     "text": [
      "厚さ： 70.37万キロメートル\n"
     ]
    }
   ],
   "source": [
    "print(\"厚さ： {:.2f}万キロメートル\".format(folded_thickness / 10000000))"
   ]
  },
  {
   "cell_type": "markdown",
   "id": "6fb10093",
   "metadata": {},
   "source": [
    "【問題3】for文を使用して作成"
   ]
  },
  {
   "cell_type": "code",
   "execution_count": 10,
   "id": "771dc0ea",
   "metadata": {},
   "outputs": [
    {
     "name": "stdout",
     "output_type": "stream",
     "text": [
      "厚さ： 703687441.77664メートル\n"
     ]
    }
   ],
   "source": [
    "for i in range(44):\n",
    "  if i == 0:\n",
    "    folded_thickness = 1 * THICKNESS\n",
    "  else:\n",
    "    folded_thickness *= 2\n",
    "\n",
    "print(\"厚さ： {}メートル\".format(folded_thickness))"
   ]
  },
  {
   "cell_type": "markdown",
   "id": "b4bfdf2c",
   "metadata": {},
   "source": [
    "【問題4】計算時間の比較"
   ]
  },
  {
   "cell_type": "code",
   "execution_count": 12,
   "id": "dbd3d41b",
   "metadata": {},
   "outputs": [
    {
     "name": "stdout",
     "output_type": "stream",
     "text": [
      "厚さ： 703687441.77664メートル\n",
      "time：0.0[s]\n"
     ]
    }
   ],
   "source": [
    "import time\n",
    "\n",
    "folded_cnt = 1000\n",
    "\n",
    "start = time.time()\n",
    "\n",
    "######\n",
    "\n",
    "for i in range(44):\n",
    "  if i == 0:\n",
    "    folded_thickness = 1 * THICKNESS\n",
    "  else:\n",
    "    folded_thickness *= 2\n",
    "\n",
    "######\n",
    "\n",
    "elapsed_time = time.time() - start\n",
    "print(\"厚さ： {}メートル\".format(folded_thickness))\n",
    "print(\"time：{}[s]\".format(elapsed_time))"
   ]
  },
  {
   "cell_type": "markdown",
   "id": "85cbb85e",
   "metadata": {},
   "source": [
    "【問題5】リストへの保存\n",
    "【問題6】折れ線グラフの表示"
   ]
  },
  {
   "cell_type": "code",
   "execution_count": 15,
   "id": "26ee5bbd",
   "metadata": {},
   "outputs": [
    {
     "name": "stdout",
     "output_type": "stream",
     "text": [
      "703687441.77664\n"
     ]
    },
    {
     "data": {
      "image/png": "[encoded data removed]",
      "text/plain": [
       "<Figure size 432x288 with 1 Axes>"
      ]
     },
     "metadata": {
      "needs_background": "light"
     },
     "output_type": "display_data"
    }
   ],
   "source": [
    "import matplotlib.pyplot as plt\n",
    "%matplotlib inline\n",
    "\n",
    "#厚さの計算\n",
    "FOLDED_NUM = 43\n",
    "folded_cnt = []\n",
    "l_folded_thickness = []\n",
    "\n",
    "for i in range(FOLDED_NUM+1):\n",
    "  if i == 0:\n",
    "    folded_thickness = 1 * THICKNESS\n",
    "    folded_cnt.append(1)\n",
    "    l_folded_thickness.append(folded_thickness)\n",
    "  else:\n",
    "    folded_cnt.append(i+1)\n",
    "    folded_thickness *= 2\n",
    "    l_folded_thickness.append(folded_thickness)\n",
    "\n",
    "#グラフを表示する。タイトルと軸ラベル名付き。\n",
    "plt.title(\"thickness of folded paper\")\n",
    "plt.xlabel(\"number of folds\")\n",
    "plt.ylabel(\"thickness [m]\")\n",
    "plt.plot(folded_cnt, l_folded_thickness)\n",
    "plt.show()"
   ]
  },
  {
   "cell_type": "markdown",
   "id": "2d7514ad",
   "metadata": {},
   "source": [
    "【問題7】グラフのカスタマイズ"
   ]
  },
  {
   "cell_type": "code",
   "execution_count": 16,
   "id": "79a66889",
   "metadata": {},
   "outputs": [
    {
     "data": {
      "image/png": "[encoded data removed]",
      "text/plain": [
       "<Figure size 432x288 with 1 Axes>"
      ]
     },
     "metadata": {
      "needs_background": "light"
     },
     "output_type": "display_data"
    }
   ],
   "source": [
    "#グラフを表示する。タイトルと軸ラベル名付き。\n",
    "plt.title(\"thickness of folded paper\")\n",
    "plt.xlabel(\"number of folds\", color=\"green\")\n",
    "plt.ylabel(\"thickness [m]\", color=\"blue\")\n",
    "plt.tick_params(labelsize=10)\n",
    "plt.plot(folded_cnt, l_folded_thickness, color=\"red\", marker=\"o\")\n",
    "plt.show()"
   ]
  },
  {
   "cell_type": "code",
   "execution_count": null,
   "id": "ee3794d1",
   "metadata": {},
   "outputs": [],
   "source": []
  }
 ],
 "metadata": {
  "kernelspec": {
   "display_name": "Python 3",
   "language": "python",
   "name": "python3"
  },
  "language_info": {
   "codemirror_mode": {
    "name": "ipython",
    "version": 3
   },
   "file_extension": ".py",
   "mimetype": "text/x-python",
   "name": "python",
   "nbconvert_exporter": "python",
   "pygments_lexer": "ipython3",
   "version": "3.8.8"
  }
 },
 "nbformat": 4,
 "nbformat_minor": 5
}
