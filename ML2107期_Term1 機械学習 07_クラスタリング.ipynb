{
 "cells": [
  {
   "cell_type": "markdown",
   "id": "4472d331",
   "metadata": {},
   "source": [
    "### 【問題1】中心点の初期値を決める\n",
    "入力されたデータから $K$ 個の中心点 $\\mu_1$ から $\\mu_K$ の初期値を決めるコードを作成してください。$K$ は指定したクラスタ数です。<br>\n",
    "最もシンプルな初期値の決定方法は、データ点 $X_n$ の中からランダムに $K$ 個選ぶことです。今回はこれを実装してください。<br>\n",
    "K-meansの学習結果は中心点 $\\mu$ の初期値に影響を受けます。そのため、学習時には複数個の初期値で計算を行います。<br>\n"
   ]
  },
  {
   "cell_type": "code",
   "execution_count": 1,
   "id": "95cba763",
   "metadata": {},
   "outputs": [
    {
     "name": "stdout",
     "output_type": "stream",
     "text": [
      "(100, 2)\n"
     ]
    }
   ],
   "source": [
    "from sklearn.datasets import make_blobs\n",
    "X, _ = make_blobs(n_samples=100, n_features=2, centers=4, cluster_std=0.5, shuffle=True, random_state=0)\n",
    "print(X.shape)"
   ]
  },
  {
   "cell_type": "code",
   "execution_count": 41,
   "id": "68fd1e44",
   "metadata": {},
   "outputs": [
    {
     "name": "stdout",
     "output_type": "stream",
     "text": [
      "[-1.87418794 -1.84482705  1.42002502 -1.32890066]\n",
      "[[-1.87418794  2.84306499]\n",
      " [-1.84482705  3.25609891]\n",
      " [ 1.42002502  1.38236201]\n",
      " [-1.32890066  2.37135151]]\n"
     ]
    }
   ],
   "source": [
    "import numpy as np\n",
    "\n",
    "# ランダム値の固定化\n",
    "np.random.seed(0) \n",
    "\n",
    "# クラスタの数\n",
    "n_clusters = 4\n",
    "\n",
    "# １列目の値からランダムに４つの（重複しない）値を抽出\n",
    "clusters = np.random.choice(X[:, 0], n_clusters)\n",
    "print(clusters)\n",
    "clusters_index = []\n",
    "for i in clusters:\n",
    "    clusters_index.append(np.where(X[:, 0] == i)[0][0])\n",
    "clusters_points = X[clusters_index,:]\n",
    "print(clusters_points)"
   ]
  },
  {
   "cell_type": "markdown",
   "id": "5e1e88c4",
   "metadata": {},
   "source": [
    "### 【問題2】SSEを求める関数の作成\n",
    "クラスタ内誤差平方和（SSE, Sum of Squared Errors）を計算する関数を作成してください。<br>\n",
    "K-meansはこのSSEを最小化する $r_{nk}$ と $\\mu_k$ を求めることが目的となります。複数個の初期値で計算したクラスタリング結果から、どれを最終的に採用するかを決める際にこのSSEを求める関数を使用します。<br>\n",
    "<br>\n",
    "　　　　$ SSE = \\displaystyle\\sum_{n=1}^N \\sum_{k=1}^K r_{nk} \\|X_n - \\mu_k\\|^2 $<br>\n",
    "<br>\n",
    "<br>\n",
    "　　　　$ n $ : データ点のインデックス<br>\n",
    "　　　　$ k $ : クラスタのインデックス<br>\n",
    "　　　　$ X_n $ : $ n $ 番目のデータ点<br>\n",
    "　　　　$ \\mu_k $ : $ k $ 番目の中心点<br>\n",
    "　　　　$ r_{nk} $ :データ点 $ X_n $ がクラスタ$k$に所属していたら1、そうでなければ0<br>\n",
    "<br>\n",
    "<br>\n",
    "### クラスタの割り当てと中心点の移動を繰り返す\n",
    "K-meansの学習の基本は以下の2つのフェーズを繰り返すことです。<br>\n",
    "　・中心点 $ \\mu_k $ を固定した上で $ SSE $ を最小化する クラスタの割り当て $ r_{nk} $ を選ぶ。<br>\n",
    "　・クラスタの割り当て $r_{nk}$ を固定した上で $SSE$ を最小化する 中心点 $\\mu_k$ を選ぶ。<br>\n",
    "\n",
    "最初の中心点 $\\mu_k$ は問題1で作成した初期値です。<br>\n",
    "\n",
    "順番に見ていきます。<br>"
   ]
  },
  {
   "cell_type": "markdown",
   "id": "4d8393df",
   "metadata": {},
   "source": [
    "### 【問題3】クラスタへの割り当て\n",
    "すべてのデータ点 $ X_n $ を最も近い中心点 $ \\mu_k $ に割り当てるコードを作成してください。<br>\n",
    "K-menasにおける 近い とは点と点のユークリッド距離が小さくなることです。ユークリッド距離とはピタゴラスの定理（三平方の定理）で求められるものですが、ベクトル $ p , q $ に対しては以下の数式で表現できます。<br>\n",
    "<br>\n",
    "　　　　$ \\|q-p\\| = \\sqrt{(q-p)\\cdot(q-p)} $\n",
    "<br>\n",
    "NumPyにはこの関数がnp.linalg.normとして用意されているため使用してください。<br>\n",
    "<a href=\"https://docs.scipy.org/doc/numpy/reference/generated/numpy.linalg.norm.html\">numpy.linalg.norm — NumPy v1.17 Manual</a><br>\n",
    "中心点 $\\mu_k$ を固定した上でSSEを最小化していることになりますが、SSE自体を求める必要はありません。<br>\n"
   ]
  },
  {
   "cell_type": "markdown",
   "id": "a2081393",
   "metadata": {},
   "source": [
    "### 【問題4】中心点の移動\n",
    "中心点 $\\mu_k$ を $k$ 番目のクラスタに割り当てられるすべてのデータ点 $X_n$ の平均値（重心）に移動するコードを作成してください。<br>\n",
    "クラスタの割り当て $r_{nk}$ を固定した上でSSEを最小化していることになりますが、SSE自体を求める必要はありません。<br>"
   ]
  },
  {
   "cell_type": "code",
   "execution_count": 40,
   "id": "c81e32f4",
   "metadata": {},
   "outputs": [
    {
     "name": "stdout",
     "output_type": "stream",
     "text": [
      "759.6165155592755\n",
      "[[-1.95559936  2.74215387]\n",
      " [-0.97539979  5.94017405]\n",
      " [ 1.80098059  1.97007648]\n",
      " [-0.4949358   3.10527361]]\n"
     ]
    }
   ],
   "source": [
    "def calculation_SSE(X):\n",
    "\n",
    "    # SSEは最適なクラス数を求めるためのエルボー法に使う値。だとすると、説明おかしくね？\n",
    "\n",
    "    # sigma_inside　列：クラスター、行：クラスターからの距離\n",
    "    distance = np.zeros([X.shape[0], n_clusters])\n",
    "    k = 0\n",
    "    for cluster_point in clusters_points:\n",
    "        distance[:,k] = np.sum(abs(X - cluster_point) ** 2, axis = 1)\n",
    "        k += 1\n",
    "    \n",
    "    # どのクラスターまでの距離が一番近いかを判別するために、行方向(Xの要素毎)で最小値(のインデックス)をとる\n",
    "    near_cluster = np.argmin(distance, axis = 1)\n",
    "\n",
    "    # 新しい中心点を模索 & SSEを計算\n",
    "    sse = 0\n",
    "    new_clusters_points = np.zeros([n_clusters, X.shape[1]])\n",
    "    print(distance[near_cluster==0].shape) # 4,4\n",
    "    print(distance[near_cluster==1].shape) # 48,4\n",
    "    print(distance[near_cluster==2].shape) # 36,4\n",
    "    print(distance[near_cluster==3].shape) # 12,4\n",
    "    for i in range(n_clusters):\n",
    "        sse += np.sum(np.min(distance[near_cluster==i],axis = 1))\n",
    "        new_clusters_points[i,:] = np.mean(X[near_cluster==i], axis = 0)\n",
    "\n",
    "    return sse, new_clusters_points\n",
    "\n",
    "\n",
    "sse, new_clusters_points = calculation_SSE(X)\n",
    "print(sse)\n",
    "print(new_clusters_points)\n"
   ]
  },
  {
   "cell_type": "markdown",
   "id": "4b23d8a4",
   "metadata": {},
   "source": [
    "### 【問題5】繰り返し\n",
    "クラスタへの割り当てと中心点の移動を繰り返すことで学習を行うコードを作成してください。<br>\n",
    "次のどれかの条件を満たしたらこれを止めます。<br>\n",
    "　・繰り返しが指定した回数に到達する。（雛形では引数max_iter）<br>\n",
    "　・中心点 $\\mu_k$ と重心の差の合計が指定した許容値以下になる。（雛形では引数tol）<br>\n"
   ]
  },
  {
   "cell_type": "markdown",
   "id": "cf5cfbd9",
   "metadata": {},
   "source": [
    "### 【問題6】異なる初期値で計算\n",
    "問題5の繰り返しを、指定した回数初期値を変更して計算するコードを作成してください。回数は雛形では引数n_initで指定します。<br>\n",
    "複数計算した中でSSEが最小になったものが最終的な学習結果となるため、その時の中心点 $\\mu_k$ を保持しておきます。<br>\n"
   ]
  },
  {
   "cell_type": "markdown",
   "id": "42816f27",
   "metadata": {},
   "source": [
    "### 【問題7】推定\n",
    "新たなデータに対してどのクラスタに所属するかの推定の際は、学習時の1つ目のフェーズと同じことを行います。<br>\n",
    "　・データ点 $ X_n $ と学習で決まった中心点 $ \\mu_k $ に対し、 $ SSE $ を最小化する $ r_{nk} $ を選ぶ。<br>\n",
    "具体的には次のことです。<br>\n",
    "　・データ点 $ X_n $ を最も近い $ \\mu_k $ に割り当てる。<br>\n"
   ]
  },
  {
   "cell_type": "code",
   "execution_count": 59,
   "id": "84fa54a8",
   "metadata": {},
   "outputs": [
    {
     "name": "stdout",
     "output_type": "stream",
     "text": [
      "==================================================\n",
      "759.6165155592755\n",
      "[2 1 2 2 2 3 1 1 1 1 1 1 1 1 1 2 2 3 0 2 2 1 1 2 1 3 1 1 2 2 2 1 2 2 1 2 1\n",
      " 2 1 0 1 1 1 1 0 1 2 1 3 3 1 2 3 1 3 1 1 2 2 1 1 2 2 2 2 1 0 3 2 2 1 2 1 1\n",
      " 2 2 3 1 2 2 2 1 1 1 2 3 2 2 2 1 1 3 3 1 1 1 1 1 1 1]\n",
      "==================================================\n",
      "236.72667652915825\n",
      "[3 1 3 3 3 3 0 1 1 1 1 1 1 1 1 2 2 3 0 2 2 1 0 2 3 0 3 3 2 2 2 1 2 2 3 3 1\n",
      " 2 1 0 1 0 1 0 0 1 2 0 3 3 3 2 0 0 3 1 1 2 2 1 1 2 2 1 2 1 0 0 2 3 1 2 3 1\n",
      " 3 2 3 0 2 2 2 1 3 3 2 3 2 2 2 3 3 0 3 3 0 1 1 0 1 1]\n",
      "==================================================\n",
      "69.25747652488133\n",
      "[3 1 3 3 3 3 0 1 3 1 1 1 1 1 1 2 2 3 0 2 3 1 0 2 3 0 3 3 2 2 2 1 2 2 0 3 1\n",
      " 2 1 0 3 0 1 0 0 1 2 0 3 3 3 2 0 0 0 1 1 2 2 1 1 2 2 3 2 1 0 0 2 3 1 2 3 1\n",
      " 3 3 3 0 2 2 2 1 0 3 2 0 2 2 3 3 3 0 3 0 0 1 1 0 1 3]\n",
      "==================================================\n",
      "49.9303261746026\n",
      "[3 1 3 3 3 3 0 1 3 1 1 1 1 1 1 2 2 0 0 2 3 1 0 2 3 0 0 3 2 2 2 1 2 2 0 3 1\n",
      " 2 1 0 3 0 1 0 0 1 2 0 3 3 3 2 0 0 0 1 1 2 2 1 1 2 2 3 2 1 0 0 2 3 1 2 3 1\n",
      " 3 3 0 0 2 2 2 1 0 3 2 0 2 2 3 3 3 0 3 0 0 1 1 0 1 3]\n",
      "==================================================\n",
      "48.633783207064035\n",
      "[3 1 3 3 3 3 0 1 3 1 1 1 1 1 1 2 2 0 0 2 3 1 0 2 3 0 0 3 2 2 2 1 2 2 0 3 1\n",
      " 2 1 0 3 0 1 0 0 1 2 0 3 3 3 2 0 0 0 1 1 2 2 1 1 2 2 3 2 1 0 0 2 3 1 2 3 1\n",
      " 3 3 0 0 2 2 2 1 0 3 2 0 2 2 3 3 3 0 3 0 0 1 1 0 1 3]\n",
      "==================================================\n",
      "48.633783207064035\n",
      "[3 1 3 3 3 3 0 1 3 1 1 1 1 1 1 2 2 0 0 2 3 1 0 2 3 0 0 3 2 2 2 1 2 2 0 3 1\n",
      " 2 1 0 3 0 1 0 0 1 2 0 3 3 3 2 0 0 0 1 1 2 2 1 1 2 2 3 2 1 0 0 2 3 1 2 3 1\n",
      " 3 3 0 0 2 2 2 1 0 3 2 0 2 2 3 3 3 0 3 0 0 1 1 0 1 3]\n",
      "==================================================\n",
      "48.633783207064035\n",
      "[3 1 3 3 3 3 0 1 3 1 1 1 1 1 1 2 2 0 0 2 3 1 0 2 3 0 0 3 2 2 2 1 2 2 0 3 1\n",
      " 2 1 0 3 0 1 0 0 1 2 0 3 3 3 2 0 0 0 1 1 2 2 1 1 2 2 3 2 1 0 0 2 3 1 2 3 1\n",
      " 3 3 0 0 2 2 2 1 0 3 2 0 2 2 3 3 3 0 3 0 0 1 1 0 1 3]\n",
      "==================================================\n",
      "48.633783207064035\n",
      "[3 1 3 3 3 3 0 1 3 1 1 1 1 1 1 2 2 0 0 2 3 1 0 2 3 0 0 3 2 2 2 1 2 2 0 3 1\n",
      " 2 1 0 3 0 1 0 0 1 2 0 3 3 3 2 0 0 0 1 1 2 2 1 1 2 2 3 2 1 0 0 2 3 1 2 3 1\n",
      " 3 3 0 0 2 2 2 1 0 3 2 0 2 2 3 3 3 0 3 0 0 1 1 0 1 3]\n",
      "==================================================\n",
      "48.633783207064035\n",
      "[3 1 3 3 3 3 0 1 3 1 1 1 1 1 1 2 2 0 0 2 3 1 0 2 3 0 0 3 2 2 2 1 2 2 0 3 1\n",
      " 2 1 0 3 0 1 0 0 1 2 0 3 3 3 2 0 0 0 1 1 2 2 1 1 2 2 3 2 1 0 0 2 3 1 2 3 1\n",
      " 3 3 0 0 2 2 2 1 0 3 2 0 2 2 3 3 3 0 3 0 0 1 1 0 1 3]\n",
      "==================================================\n",
      "48.633783207064035\n",
      "[3 1 3 3 3 3 0 1 3 1 1 1 1 1 1 2 2 0 0 2 3 1 0 2 3 0 0 3 2 2 2 1 2 2 0 3 1\n",
      " 2 1 0 3 0 1 0 0 1 2 0 3 3 3 2 0 0 0 1 1 2 2 1 1 2 2 3 2 1 0 0 2 3 1 2 3 1\n",
      " 3 3 0 0 2 2 2 1 0 3 2 0 2 2 3 3 3 0 3 0 0 1 1 0 1 3]\n"
     ]
    },
    {
     "data": {
      "text/plain": [
       "array([3, 1, 3, 3, 3, 3, 0, 1, 3, 1, 1, 1, 1, 1, 1, 2, 2, 0, 0, 2, 3, 1,\n",
       "       0, 2, 3, 0, 0, 3, 2, 2, 2, 1, 2, 2, 0, 3, 1, 2, 1, 0, 3, 0, 1, 0,\n",
       "       0, 1, 2, 0, 3, 3, 3, 2, 0, 0, 0, 1, 1, 2, 2, 1, 1, 2, 2, 3, 2, 1,\n",
       "       0, 0, 2, 3, 1, 2, 3, 1, 3, 3, 0, 0, 2, 2, 2, 1, 0, 3, 2, 0, 2, 2,\n",
       "       3, 3, 3, 0, 3, 0, 0, 1, 1, 0, 1, 3], dtype=int64)"
      ]
     },
     "execution_count": 59,
     "metadata": {},
     "output_type": "execute_result"
    }
   ],
   "source": [
    "import numpy as np\n",
    "\n",
    "\n",
    "class ScratchKMeans():\n",
    "    \"\"\"\n",
    "    K-meansのスクラッチ実装\n",
    "    Parameters\n",
    "    ----------\n",
    "    n_clusters : int\n",
    "      クラスタ数\n",
    "    n_init : int\n",
    "      中心点の初期値を何回変えて計算するか\n",
    "    max_iter : int\n",
    "      1回の計算で最大何イテレーションするか\n",
    "    tol : float\n",
    "      イテレーションを終了する基準となる中心点と重心の許容誤差\n",
    "    verbose : bool\n",
    "      学習過程を出力する場合はTrue\n",
    "    \"\"\"\n",
    "    def __init__(self, n_clusters, n_init, max_iter, tol, verbose=False):\n",
    "        # ハイパーパラメータを属性として記録\n",
    "        self.n_clusters = n_clusters\n",
    "        self.n_init = n_init\n",
    "        self.max_iter = max_iter\n",
    "        self.tol = tol\n",
    "        self.verbose = verbose\n",
    "\n",
    "    def fit(self, X):\n",
    "        \"\"\"\n",
    "        K-meansによるクラスタリングを計算\n",
    "        Parameters\n",
    "        ----------\n",
    "        X : 次の形のndarray, shape (n_samples, n_features)\n",
    "            訓練データの特徴量\n",
    "        \"\"\"\n",
    "\n",
    "#         for roop_init in range(self.n_init):\n",
    "\n",
    "        self.sse_rec = [] # SSE保存用\n",
    "        first_clusters = np.random.choice(X[:, 0], n_clusters) # Xの中からランダムで最初のクラスターを抽出\n",
    "        clusters_index = [] # 抽出したクラスターのindexからXを絞り込む\n",
    "        # 最初のクラスター点を決める\n",
    "        for i in clusters:\n",
    "            clusters_index.append(np.where(X[:, 0] == i)[0][0])\n",
    "        clusters_points = X[clusters_index,:]\n",
    "\n",
    "        # 学習回数分繰り返し\n",
    "        for roop_iter in range(self.max_iter):\n",
    "            # クラスターの座標\n",
    "            clusters_points\n",
    "            # 新しい中心点、SSEを求める\n",
    "            sse, near_cluster = self._calculation_SSE(X, clusters_points)\n",
    "#             print(\"==================================================\")\n",
    "#             print(sse)\n",
    "#             print(near_cluster)\n",
    "\n",
    "            # 更新\n",
    "            clusters_points = self.new_clusters_points\n",
    "\n",
    "            # SSEを保存\n",
    "            self.elbow_sse = sse\n",
    "            self.sse_rec.append(sse)\n",
    "\n",
    "            # パラメータ「tol」に満たなくなったら処理終了\n",
    "            if np.mean(np.linalg.norm(new_clusters_points)) < self.tol:\n",
    "                break\n",
    "            \n",
    "\n",
    "        return near_cluster\n",
    "\n",
    "\n",
    "    def _calculation_SSE(self, X, clusters_points):\n",
    "\n",
    "        # sigma_inside　列：クラスター、行：クラスターからの距離\n",
    "        distance = np.zeros([X.shape[0], self.n_clusters])\n",
    "        k = 0\n",
    "        for cluster_point in clusters_points:\n",
    "            distance[:,k] = np.sum(abs(X - cluster_point) ** 2, axis = 1)\n",
    "            k += 1\n",
    "\n",
    "        # どのクラスターまでの距離が一番近いかを判別するために、行方向(Xの要素毎)で最小値(のインデックス)をとる\n",
    "        near_cluster = np.argmin(distance, axis = 1)\n",
    "\n",
    "        # 新しい中心点を模索 & SSEを計算\n",
    "        sse = 0\n",
    "        self.new_clusters_points = np.zeros([n_clusters, X.shape[1]])\n",
    "        for i in range(n_clusters):\n",
    "            sse += np.sum(np.min(distance[near_cluster==i],axis = 1))\n",
    "            self.new_clusters_points[i,:] = np.mean(X[near_cluster==i], axis = 0)\n",
    "\n",
    "        return sse, near_cluster\n",
    "\n",
    "\n",
    "    def predict(self, X):\n",
    "        \"\"\"\n",
    "        入力されたデータがどのクラスタに属するかを計算\n",
    "        \"\"\"\n",
    "        self.y_pred_distance = np.zeros((X.shape[0], self.n_clusters))\n",
    "        for i in range(self.n_clusters):\n",
    "            for j in range(X.shape[0]):\n",
    "                self.y_pred_distance[j, i] = np.linalg.norm(X[j,:] - self.new_clusters_points)\n",
    "        self.y_pred_near_cluster = np.argmin(self.y_pred_distance, axis = 1)\n",
    "\n",
    "        return self.y_pred_near_cluster\n",
    "\n",
    "\n",
    "skm = ScratchKMeans(n_clusters = 4, n_init=1, max_iter = 10, tol=0.05, verbose=False)\n",
    "skm.fit(X)"
   ]
  },
  {
   "cell_type": "markdown",
   "id": "842a1193",
   "metadata": {},
   "source": [
    "### 【問題8】エルボー法の実装\n",
    "K-meansにおいて中心点の個数 $ k $ は人為的に決める必要がありますが、その判断方法としてエルボー法があります。エルボー法により中心点の個数 $ k $ を検討するためのコードを作成してください。<br>\n",
    "<br>\n",
    "SSEを縦軸、クラスタ数 $ k $ を横軸にした折れ線グラフを表示します。このためにK-meansのインスタンスからはSSEを取得できるようにしてください。<br>"
   ]
  },
  {
   "cell_type": "code",
   "execution_count": 65,
   "id": "b9a041f4",
   "metadata": {},
   "outputs": [
    {
     "name": "stdout",
     "output_type": "stream",
     "text": [
      "==================================================\n",
      "759.6165155592755\n",
      "[2 1 2 2 2 3 1 1 1 1 1 1 1 1 1 2 2 3 0 2 2 1 1 2 1 3 1 1 2 2 2 1 2 2 1 2 1\n",
      " 2 1 0 1 1 1 1 0 1 2 1 3 3 1 2 3 1 3 1 1 2 2 1 1 2 2 2 2 1 0 3 2 2 1 2 1 1\n",
      " 2 2 3 1 2 2 2 1 1 1 2 3 2 2 2 1 1 3 3 1 1 1 1 1 1 1]\n",
      "==================================================\n",
      "236.72667652915825\n",
      "[3 1 3 3 3 3 0 1 1 1 1 1 1 1 1 2 2 3 0 2 2 1 0 2 3 0 3 3 2 2 2 1 2 2 3 3 1\n",
      " 2 1 0 1 0 1 0 0 1 2 0 3 3 3 2 0 0 3 1 1 2 2 1 1 2 2 1 2 1 0 0 2 3 1 2 3 1\n",
      " 3 2 3 0 2 2 2 1 3 3 2 3 2 2 2 3 3 0 3 3 0 1 1 0 1 1]\n",
      "==================================================\n",
      "69.25747652488133\n",
      "[3 1 3 3 3 3 0 1 3 1 1 1 1 1 1 2 2 3 0 2 3 1 0 2 3 0 3 3 2 2 2 1 2 2 0 3 1\n",
      " 2 1 0 3 0 1 0 0 1 2 0 3 3 3 2 0 0 0 1 1 2 2 1 1 2 2 3 2 1 0 0 2 3 1 2 3 1\n",
      " 3 3 3 0 2 2 2 1 0 3 2 0 2 2 3 3 3 0 3 0 0 1 1 0 1 3]\n",
      "==================================================\n",
      "49.9303261746026\n",
      "[3 1 3 3 3 3 0 1 3 1 1 1 1 1 1 2 2 0 0 2 3 1 0 2 3 0 0 3 2 2 2 1 2 2 0 3 1\n",
      " 2 1 0 3 0 1 0 0 1 2 0 3 3 3 2 0 0 0 1 1 2 2 1 1 2 2 3 2 1 0 0 2 3 1 2 3 1\n",
      " 3 3 0 0 2 2 2 1 0 3 2 0 2 2 3 3 3 0 3 0 0 1 1 0 1 3]\n",
      "==================================================\n",
      "48.633783207064035\n",
      "[3 1 3 3 3 3 0 1 3 1 1 1 1 1 1 2 2 0 0 2 3 1 0 2 3 0 0 3 2 2 2 1 2 2 0 3 1\n",
      " 2 1 0 3 0 1 0 0 1 2 0 3 3 3 2 0 0 0 1 1 2 2 1 1 2 2 3 2 1 0 0 2 3 1 2 3 1\n",
      " 3 3 0 0 2 2 2 1 0 3 2 0 2 2 3 3 3 0 3 0 0 1 1 0 1 3]\n",
      "==================================================\n",
      "48.633783207064035\n",
      "[3 1 3 3 3 3 0 1 3 1 1 1 1 1 1 2 2 0 0 2 3 1 0 2 3 0 0 3 2 2 2 1 2 2 0 3 1\n",
      " 2 1 0 3 0 1 0 0 1 2 0 3 3 3 2 0 0 0 1 1 2 2 1 1 2 2 3 2 1 0 0 2 3 1 2 3 1\n",
      " 3 3 0 0 2 2 2 1 0 3 2 0 2 2 3 3 3 0 3 0 0 1 1 0 1 3]\n",
      "==================================================\n",
      "48.633783207064035\n",
      "[3 1 3 3 3 3 0 1 3 1 1 1 1 1 1 2 2 0 0 2 3 1 0 2 3 0 0 3 2 2 2 1 2 2 0 3 1\n",
      " 2 1 0 3 0 1 0 0 1 2 0 3 3 3 2 0 0 0 1 1 2 2 1 1 2 2 3 2 1 0 0 2 3 1 2 3 1\n",
      " 3 3 0 0 2 2 2 1 0 3 2 0 2 2 3 3 3 0 3 0 0 1 1 0 1 3]\n",
      "==================================================\n",
      "48.633783207064035\n",
      "[3 1 3 3 3 3 0 1 3 1 1 1 1 1 1 2 2 0 0 2 3 1 0 2 3 0 0 3 2 2 2 1 2 2 0 3 1\n",
      " 2 1 0 3 0 1 0 0 1 2 0 3 3 3 2 0 0 0 1 1 2 2 1 1 2 2 3 2 1 0 0 2 3 1 2 3 1\n",
      " 3 3 0 0 2 2 2 1 0 3 2 0 2 2 3 3 3 0 3 0 0 1 1 0 1 3]\n",
      "==================================================\n",
      "48.633783207064035\n",
      "[3 1 3 3 3 3 0 1 3 1 1 1 1 1 1 2 2 0 0 2 3 1 0 2 3 0 0 3 2 2 2 1 2 2 0 3 1\n",
      " 2 1 0 3 0 1 0 0 1 2 0 3 3 3 2 0 0 0 1 1 2 2 1 1 2 2 3 2 1 0 0 2 3 1 2 3 1\n",
      " 3 3 0 0 2 2 2 1 0 3 2 0 2 2 3 3 3 0 3 0 0 1 1 0 1 3]\n",
      "==================================================\n",
      "48.633783207064035\n",
      "[3 1 3 3 3 3 0 1 3 1 1 1 1 1 1 2 2 0 0 2 3 1 0 2 3 0 0 3 2 2 2 1 2 2 0 3 1\n",
      " 2 1 0 3 0 1 0 0 1 2 0 3 3 3 2 0 0 0 1 1 2 2 1 1 2 2 3 2 1 0 0 2 3 1 2 3 1\n",
      " 3 3 0 0 2 2 2 1 0 3 2 0 2 2 3 3 3 0 3 0 0 1 1 0 1 3]\n"
     ]
    },
    {
     "data": {
      "text/plain": [
       "[<matplotlib.lines.Line2D at 0x2363e604c70>]"
      ]
     },
     "execution_count": 65,
     "metadata": {},
     "output_type": "execute_result"
    },
    {
     "data": {
      "image/png": "[encoded data removed]",
      "text/plain": [
       "<Figure size 432x288 with 1 Axes>"
      ]
     },
     "metadata": {
      "needs_background": "light"
     },
     "output_type": "display_data"
    }
   ],
   "source": [
    "import seaborn as sns\n",
    "import matplotlib.pyplot as plt\n",
    "\n",
    "sse = []\n",
    "n_cl = list(range(10))\n",
    "\n",
    "skm = ScratchKMeans(n_clusters = 4, n_init=1, max_iter = 10, tol=0.05, verbose=False)\n",
    "skm.fit(X)\n",
    "sse = skm.sse_rec\n",
    "plt.plot(n_cl, sse, marker=\"o\", markersize=6, markeredgewidth=5, markeredgecolor=\"crimson\", linewidth=4)\n",
    "\n",
    "# for i in range(1,8):\n",
    "#     n_cl.append(i)\n",
    "#     skm = ScratchKMeans(n_clusters = 4, n_init=1, max_iter = 10, tol=0.05, verbose=False)\n",
    "#     skm.fit(X)\n",
    "#     sse.append(skm.elbow_sse)\n",
    "# plt.plot(n_cl, sse, marker=\"o\", markersize=6, markeredgewidth=5, markeredgecolor=\"crimson\", linewidth=4)\n"
   ]
  },
  {
   "cell_type": "code",
   "execution_count": null,
   "id": "d5084d75",
   "metadata": {},
   "outputs": [],
   "source": []
  }
 ],
 "metadata": {
  "kernelspec": {
   "display_name": "Python 3",
   "language": "python",
   "name": "python3"
  },
  "language_info": {
   "codemirror_mode": {
    "name": "ipython",
    "version": 3
   },
   "file_extension": ".py",
   "mimetype": "text/x-python",
   "name": "python",
   "nbconvert_exporter": "python",
   "pygments_lexer": "ipython3",
   "version": "3.8.10"
  }
 },
 "nbformat": 4,
 "nbformat_minor": 5
}
