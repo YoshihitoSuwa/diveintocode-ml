{
 "cells": [
  {
   "cell_type": "markdown",
   "id": "4472d331",
   "metadata": {},
   "source": [
    "### 【問題1】中心点の初期値を決める\n",
    "入力されたデータから $K$ 個の中心点 $\\mu_1$ から $\\mu_K$ の初期値を決めるコードを作成してください。$K$ は指定したクラスタ数です。<br>\n",
    "最もシンプルな初期値の決定方法は、データ点 $X_n$ の中からランダムに $K$ 個選ぶことです。今回はこれを実装してください。<br>\n",
    "K-meansの学習結果は中心点 $\\mu$ の初期値に影響を受けます。そのため、学習時には複数個の初期値で計算を行います。<br>\n"
   ]
  },
  {
   "cell_type": "code",
   "execution_count": 1,
   "id": "95cba763",
   "metadata": {},
   "outputs": [
    {
     "name": "stdout",
     "output_type": "stream",
     "text": [
      "(100, 2)\n"
     ]
    }
   ],
   "source": [
    "from sklearn.datasets import make_blobs\n",
    "X, _ = make_blobs(n_samples=100, n_features=2, centers=4, cluster_std=0.5, shuffle=True, random_state=0)\n",
    "print(X.shape)"
   ]
  },
  {
   "cell_type": "code",
   "execution_count": 2,
   "id": "68fd1e44",
   "metadata": {},
   "outputs": [
    {
     "name": "stdout",
     "output_type": "stream",
     "text": [
      "[-1.87418794 -1.84482705  1.42002502 -1.32890066]\n",
      "[[-1.87418794  2.84306499]\n",
      " [-1.84482705  3.25609891]\n",
      " [ 1.42002502  1.38236201]\n",
      " [-1.32890066  2.37135151]]\n"
     ]
    }
   ],
   "source": [
    "import numpy as np\n",
    "\n",
    "# ランダム値の固定化\n",
    "np.random.seed(0) \n",
    "\n",
    "# クラスタの数\n",
    "n_clusters = 4\n",
    "\n",
    "# １列目の値からランダムに４つの（重複しない）値を抽出\n",
    "clusters = np.random.choice(X[:, 0], n_clusters)\n",
    "print(clusters)\n",
    "clusters_index = []\n",
    "for i in clusters:\n",
    "    clusters_index.append(np.where(X[:, 0] == i)[0][0])\n",
    "clusters_points = X[clusters_index,:]\n",
    "print(clusters_points)"
   ]
  },
  {
   "cell_type": "markdown",
   "id": "5e1e88c4",
   "metadata": {},
   "source": [
    "### 【問題2】SSEを求める関数の作成\n",
    "クラスタ内誤差平方和（SSE, Sum of Squared Errors）を計算する関数を作成してください。<br>\n",
    "K-meansはこのSSEを最小化する $r_{nk}$ と $\\mu_k$ を求めることが目的となります。複数個の初期値で計算したクラスタリング結果から、どれを最終的に採用するかを決める際にこのSSEを求める関数を使用します。<br>\n",
    "<br>\n",
    "　　　　$ SSE = \\displaystyle\\sum_{n=1}^N \\sum_{k=1}^K r_{nk} \\|X_n - \\mu_k\\|^2 $<br>\n",
    "<br>\n",
    "<br>\n",
    "　　　　$ n $ : データ点のインデックス<br>\n",
    "　　　　$ k $ : クラスタのインデックス<br>\n",
    "　　　　$ X_n $ : $ n $ 番目のデータ点<br>\n",
    "　　　　$ \\mu_k $ : $ k $ 番目の中心点<br>\n",
    "　　　　$ r_{nk} $ :データ点 $ X_n $ がクラスタ$k$に所属していたら1、そうでなければ0<br>\n",
    "<br>\n",
    "<br>\n",
    "### クラスタの割り当てと中心点の移動を繰り返す\n",
    "K-meansの学習の基本は以下の2つのフェーズを繰り返すことです。<br>\n",
    "　・中心点 $ \\mu_k $ を固定した上で $ SSE $ を最小化する クラスタの割り当て $ r_{nk} $ を選ぶ。<br>\n",
    "　・クラスタの割り当て $r_{nk}$ を固定した上で $SSE$ を最小化する 中心点 $\\mu_k$ を選ぶ。<br>\n",
    "\n",
    "最初の中心点 $\\mu_k$ は問題1で作成した初期値です。<br>\n",
    "\n",
    "順番に見ていきます。<br>"
   ]
  },
  {
   "cell_type": "markdown",
   "id": "4d8393df",
   "metadata": {},
   "source": [
    "### 【問題3】クラスタへの割り当て\n",
    "すべてのデータ点 $ X_n $ を最も近い中心点 $ \\mu_k $ に割り当てるコードを作成してください。<br>\n",
    "K-menasにおける 近い とは点と点のユークリッド距離が小さくなることです。ユークリッド距離とはピタゴラスの定理（三平方の定理）で求められるものですが、ベクトル $ p , q $ に対しては以下の数式で表現できます。<br>\n",
    "<br>\n",
    "　　　　$ \\|q-p\\| = \\sqrt{(q-p)\\cdot(q-p)} $\n",
    "<br>\n",
    "NumPyにはこの関数がnp.linalg.normとして用意されているため使用してください。<br>\n",
    "<a href=\"https://docs.scipy.org/doc/numpy/reference/generated/numpy.linalg.norm.html\">numpy.linalg.norm — NumPy v1.17 Manual</a><br>\n",
    "中心点 $\\mu_k$ を固定した上でSSEを最小化していることになりますが、SSE自体を求める必要はありません。<br>\n"
   ]
  },
  {
   "cell_type": "markdown",
   "id": "a2081393",
   "metadata": {},
   "source": [
    "### 【問題4】中心点の移動\n",
    "中心点 $\\mu_k$ を $k$ 番目のクラスタに割り当てられるすべてのデータ点 $X_n$ の平均値（重心）に移動するコードを作成してください。<br>\n",
    "クラスタの割り当て $r_{nk}$ を固定した上でSSEを最小化していることになりますが、SSE自体を求める必要はありません。<br>"
   ]
  },
  {
   "cell_type": "code",
   "execution_count": 3,
   "id": "c81e32f4",
   "metadata": {},
   "outputs": [
    {
     "name": "stdout",
     "output_type": "stream",
     "text": [
      "(4, 4)\n",
      "(48, 4)\n",
      "(36, 4)\n",
      "(12, 4)\n",
      "759.6165155592755\n",
      "[[-1.95559936  2.74215387]\n",
      " [-0.97539979  5.94017405]\n",
      " [ 1.80098059  1.97007648]\n",
      " [-0.4949358   3.10527361]]\n"
     ]
    }
   ],
   "source": [
    "def calculation_SSE(X):\n",
    "\n",
    "    # SSEは最適なクラス数を求めるためのエルボー法に使う値。だとすると、説明おかしくね？\n",
    "\n",
    "    # sigma_inside　列：クラスター、行：クラスターからの距離\n",
    "    distance = np.zeros([X.shape[0], n_clusters])\n",
    "    k = 0\n",
    "    for cluster_point in clusters_points:\n",
    "        distance[:,k] = np.sum(abs(X - cluster_point) ** 2, axis = 1)\n",
    "        k += 1\n",
    "    \n",
    "    # どのクラスターまでの距離が一番近いかを判別するために、行方向(Xの要素毎)で最小値(のインデックス)をとる\n",
    "    near_cluster = np.argmin(distance, axis = 1)\n",
    "\n",
    "    # 新しい中心点を模索 & SSEを計算\n",
    "    sse = 0\n",
    "    new_clusters_points = np.zeros([n_clusters, X.shape[1]])\n",
    "    print(distance[near_cluster==0].shape) # 4,4\n",
    "    print(distance[near_cluster==1].shape) # 48,4\n",
    "    print(distance[near_cluster==2].shape) # 36,4\n",
    "    print(distance[near_cluster==3].shape) # 12,4\n",
    "    for i in range(n_clusters):\n",
    "        sse += np.sum(np.min(distance[near_cluster==i],axis = 1))\n",
    "        new_clusters_points[i,:] = np.mean(X[near_cluster==i], axis = 0)\n",
    "\n",
    "    return sse, new_clusters_points\n",
    "\n",
    "\n",
    "sse, new_clusters_points = calculation_SSE(X)\n",
    "print(sse)\n",
    "print(new_clusters_points)\n"
   ]
  },
  {
   "cell_type": "markdown",
   "id": "4b23d8a4",
   "metadata": {},
   "source": [
    "### 【問題5】繰り返し\n",
    "クラスタへの割り当てと中心点の移動を繰り返すことで学習を行うコードを作成してください。<br>\n",
    "次のどれかの条件を満たしたらこれを止めます。<br>\n",
    "　・繰り返しが指定した回数に到達する。（雛形では引数max_iter）<br>\n",
    "　・中心点 $\\mu_k$ と重心の差の合計が指定した許容値以下になる。（雛形では引数tol）<br>\n"
   ]
  },
  {
   "cell_type": "markdown",
   "id": "cf5cfbd9",
   "metadata": {},
   "source": [
    "### 【問題6】異なる初期値で計算\n",
    "問題5の繰り返しを、指定した回数初期値を変更して計算するコードを作成してください。回数は雛形では引数n_initで指定します。<br>\n",
    "複数計算した中でSSEが最小になったものが最終的な学習結果となるため、その時の中心点 $\\mu_k$ を保持しておきます。<br>\n"
   ]
  },
  {
   "cell_type": "markdown",
   "id": "42816f27",
   "metadata": {},
   "source": [
    "### 【問題7】推定\n",
    "新たなデータに対してどのクラスタに所属するかの推定の際は、学習時の1つ目のフェーズと同じことを行います。<br>\n",
    "　・データ点 $ X_n $ と学習で決まった中心点 $ \\mu_k $ に対し、 $ SSE $ を最小化する $ r_{nk} $ を選ぶ。<br>\n",
    "具体的には次のことです。<br>\n",
    "　・データ点 $ X_n $ を最も近い $ \\mu_k $ に割り当てる。<br>\n"
   ]
  },
  {
   "cell_type": "code",
   "execution_count": 20,
   "id": "84fa54a8",
   "metadata": {},
   "outputs": [],
   "source": [
    "import numpy as np\n",
    "\n",
    "\n",
    "class ScratchKMeans():\n",
    "    \"\"\"\n",
    "    K-meansのスクラッチ実装\n",
    "    Parameters\n",
    "    ----------\n",
    "    n_clusters : int\n",
    "      クラスタ数\n",
    "    n_init : int\n",
    "      中心点の初期値を何回変えて計算するか\n",
    "    max_iter : int\n",
    "      1回の計算で最大何イテレーションするか\n",
    "    tol : float\n",
    "      イテレーションを終了する基準となる中心点と重心の許容誤差\n",
    "    verbose : bool\n",
    "      学習過程を出力する場合はTrue\n",
    "    \"\"\"\n",
    "    def __init__(self, n_clusters, n_init, max_iter, tol, verbose=False):\n",
    "        # ハイパーパラメータを属性として記録\n",
    "        self.n_clusters = n_clusters\n",
    "        self.n_init = n_init\n",
    "        self.max_iter = max_iter\n",
    "        self.tol = tol\n",
    "        self.verbose = verbose\n",
    "\n",
    "    def fit(self, X):\n",
    "        \"\"\"\n",
    "        K-meansによるクラスタリングを計算\n",
    "        Parameters\n",
    "        ----------\n",
    "        X : 次の形のndarray, shape (n_samples, n_features)\n",
    "            訓練データの特徴量\n",
    "        \"\"\"\n",
    "\n",
    "#         for roop_init in range(self.n_init):\n",
    "\n",
    "        self.sse_rec = [] # SSE保存用\n",
    "        first_clusters = np.random.choice(X[:, 0], n_clusters) # Xの中からランダムで最初のクラスターを抽出\n",
    "        clusters_index = [] # 抽出したクラスターのindexからXを絞り込む\n",
    "        # 最初のクラスター点を決める\n",
    "        for i in clusters:\n",
    "            clusters_index.append(np.where(X[:, 0] == i)[0][0])\n",
    "        clusters_points = X[clusters_index,:]\n",
    "\n",
    "        # 学習回数分繰り返し\n",
    "        for roop_iter in range(self.max_iter):\n",
    "            # クラスターの座標\n",
    "            clusters_points\n",
    "            # 新しい中心点、SSEを求める\n",
    "            sse, near_cluster = self._calculation_SSE(X, clusters_points)\n",
    "#             print(\"==================================================\")\n",
    "#             print(sse)\n",
    "#             print(near_cluster)\n",
    "\n",
    "            # 更新\n",
    "            clusters_points = self.new_clusters_points\n",
    "\n",
    "            # SSEを保存\n",
    "            self.elbow_sse = sse\n",
    "            self.sse_rec.append(sse)\n",
    "\n",
    "            # パラメータ「tol」に満たなくなったら処理終了\n",
    "            if np.mean(np.linalg.norm(new_clusters_points)) < self.tol:\n",
    "                break\n",
    "\n",
    "        return near_cluster\n",
    "\n",
    "\n",
    "    def _calculation_SSE(self, X, clusters_points):\n",
    "\n",
    "        # sigma_inside　列：クラスター、行：クラスターからの距離\n",
    "        distance = np.zeros([X.shape[0], self.n_clusters])\n",
    "        k = 0\n",
    "        for cluster_point in clusters_points:\n",
    "            distance[:,k] = np.sum(abs(X - cluster_point) ** 2, axis = 1)\n",
    "            k += 1\n",
    "\n",
    "        # どのクラスターまでの距離が一番近いかを判別するために、行方向(Xの要素毎)で最小値(のインデックス)をとる\n",
    "        near_cluster = np.argmin(distance, axis = 1)\n",
    "\n",
    "        # 新しい中心点を模索 & SSEを計算\n",
    "        sse = 0\n",
    "        self.new_clusters_points = np.zeros([n_clusters, X.shape[1]])\n",
    "        for i in range(n_clusters):\n",
    "            sse += np.sum(np.min(distance[near_cluster==i],axis = 1))\n",
    "            self.new_clusters_points[i,:] = np.mean(X[near_cluster==i], axis = 0)\n",
    "\n",
    "        return sse, near_cluster\n",
    "\n",
    "\n",
    "    def predict(self, X):\n",
    "        \"\"\"\n",
    "        入力されたデータがどのクラスタに属するかを計算\n",
    "        \"\"\"\n",
    "        self.y_pred_distance = np.zeros((X.shape[0], self.n_clusters))\n",
    "        for i in range(self.n_clusters):\n",
    "            for j in range(X.shape[0]):\n",
    "                self.y_pred_distance[j, i] = np.linalg.norm(X[j,:] - self.new_clusters_points)\n",
    "        self.y_pred_near_cluster = np.argmin(self.y_pred_distance, axis = 1)\n",
    "\n",
    "        return self.y_pred_near_cluster\n",
    "\n",
    "\n",
    "skm = ScratchKMeans(n_clusters = 4, n_init=1, max_iter = 10, tol=0.05, verbose=False)\n",
    "cl = skm.fit(X)"
   ]
  },
  {
   "cell_type": "code",
   "execution_count": 24,
   "id": "d5084d75",
   "metadata": {},
   "outputs": [
    {
     "name": "stdout",
     "output_type": "stream",
     "text": [
      "[3 1 3 3 3 3 0 1 3 1 1 1 1 1 1 2 2 0 0 2 3 1 0 2 3 0 0 3 2 2 2 1 2 2 0 3 1\n",
      " 2 1 0 3 0 1 0 0 1 2 0 3 3 3 2 0 0 0 1 1 2 2 1 1 2 2 3 2 1 0 0 2 3 1 2 3 1\n",
      " 3 3 0 0 2 2 2 1 0 3 2 0 2 2 3 3 3 0 3 0 0 1 1 0 1 3]\n"
     ]
    },
    {
     "data": {
      "image/png": "[encoded data removed]",
      "text/plain": [
       "<Figure size 432x288 with 1 Axes>"
      ]
     },
     "metadata": {
      "needs_background": "light"
     },
     "output_type": "display_data"
    }
   ],
   "source": [
    "import seaborn as sns\n",
    "import matplotlib.pyplot as plt\n",
    "\n",
    "# cl = skm.predict(X)\n",
    "print(cl)\n",
    "fig = plt.figure()\n",
    "ax = fig.add_subplot(1, 1, 1)\n",
    "\n",
    "ax.scatter(X[:,0][cl==0], X[:,1][cl==0], c='blue')\n",
    "ax.scatter(X[:,0][cl==1], X[:,1][cl==1], c='red')\n",
    "ax.scatter(X[:,0][cl==2], X[:,1][cl==2], c='purple')\n",
    "ax.scatter(X[:,0][cl==3], X[:,1][cl==3], c='pink')\n",
    "# ax.scatter(X[:,0][cl==0], X[:,1][cl==0], c='blue')\n",
    "# ax.scatter(X[:,0][cl==1], X[:,1][cl==1], c='red')\n",
    "# ax.scatter(X[:,0][cl==2], X[:,1][cl==2], c='purple')\n",
    "# ax.scatter(X[:,0][cl==3], X[:,1][cl==3], c='pink')\n",
    "\n",
    "ax.set_xlabel('x0')\n",
    "ax.set_ylabel('y1')\n",
    "ax.grid(True)\n",
    "\n",
    "plt.show()"
   ]
  },
  {
   "cell_type": "markdown",
   "id": "842a1193",
   "metadata": {},
   "source": [
    "### 【問題8】エルボー法の実装\n",
    "K-meansにおいて中心点の個数 $ k $ は人為的に決める必要がありますが、その判断方法としてエルボー法があります。エルボー法により中心点の個数 $ k $ を検討するためのコードを作成してください。<br>\n",
    "<br>\n",
    "SSEを縦軸、クラスタ数 $ k $ を横軸にした折れ線グラフを表示します。このためにK-meansのインスタンスからはSSEを取得できるようにしてください。<br>"
   ]
  },
  {
   "cell_type": "code",
   "execution_count": 7,
   "id": "b9a041f4",
   "metadata": {},
   "outputs": [
    {
     "data": {
      "text/plain": [
       "[<matplotlib.lines.Line2D at 0x1aa68bcc5e0>]"
      ]
     },
     "execution_count": 7,
     "metadata": {},
     "output_type": "execute_result"
    },
    {
     "data": {
      "image/png": "[encoded data removed]",
      "text/plain": [
       "<Figure size 432x288 with 1 Axes>"
      ]
     },
     "metadata": {
      "needs_background": "light"
     },
     "output_type": "display_data"
    }
   ],
   "source": [
    "import seaborn as sns\n",
    "import matplotlib.pyplot as plt\n",
    "\n",
    "sse = []\n",
    "n_cl = list(range(10))\n",
    "\n",
    "skm = ScratchKMeans(n_clusters = 4, n_init=1, max_iter = 10, tol=0.05, verbose=False)\n",
    "skm.fit(X)\n",
    "sse = skm.sse_rec\n",
    "plt.plot(n_cl, sse, marker=\"o\", markersize=6, markeredgewidth=5, markeredgecolor=\"crimson\", linewidth=4)\n",
    "\n",
    "# for i in range(1,8):\n",
    "#     n_cl.append(i)\n",
    "#     skm = ScratchKMeans(n_clusters = 4, n_init=1, max_iter = 10, tol=0.05, verbose=False)\n",
    "#     skm.fit(X)\n",
    "#     sse.append(skm.elbow_sse)\n",
    "# plt.plot(n_cl, sse, marker=\"o\", markersize=6, markeredgewidth=5, markeredgecolor=\"crimson\", linewidth=4)\n"
   ]
  },
  {
   "cell_type": "code",
   "execution_count": 70,
   "id": "ece77ec4",
   "metadata": {},
   "outputs": [
    {
     "data": {
      "text/html": [
       "<div>\n",
       "<style scoped>\n",
       "    .dataframe tbody tr th:only-of-type {\n",
       "        vertical-align: middle;\n",
       "    }\n",
       "\n",
       "    .dataframe tbody tr th {\n",
       "        vertical-align: top;\n",
       "    }\n",
       "\n",
       "    .dataframe thead th {\n",
       "        text-align: right;\n",
       "    }\n",
       "</style>\n",
       "<table border=\"1\" class=\"dataframe\">\n",
       "  <thead>\n",
       "    <tr style=\"text-align: right;\">\n",
       "      <th></th>\n",
       "      <th>Channel</th>\n",
       "      <th>Region</th>\n",
       "      <th>Fresh</th>\n",
       "      <th>Milk</th>\n",
       "      <th>Grocery</th>\n",
       "      <th>Frozen</th>\n",
       "      <th>Detergents_Paper</th>\n",
       "      <th>Delicassen</th>\n",
       "    </tr>\n",
       "  </thead>\n",
       "  <tbody>\n",
       "    <tr>\n",
       "      <th>0</th>\n",
       "      <td>2</td>\n",
       "      <td>3</td>\n",
       "      <td>12669</td>\n",
       "      <td>9656</td>\n",
       "      <td>7561</td>\n",
       "      <td>214</td>\n",
       "      <td>2674</td>\n",
       "      <td>1338</td>\n",
       "    </tr>\n",
       "    <tr>\n",
       "      <th>1</th>\n",
       "      <td>2</td>\n",
       "      <td>3</td>\n",
       "      <td>7057</td>\n",
       "      <td>9810</td>\n",
       "      <td>9568</td>\n",
       "      <td>1762</td>\n",
       "      <td>3293</td>\n",
       "      <td>1776</td>\n",
       "    </tr>\n",
       "    <tr>\n",
       "      <th>2</th>\n",
       "      <td>2</td>\n",
       "      <td>3</td>\n",
       "      <td>6353</td>\n",
       "      <td>8808</td>\n",
       "      <td>7684</td>\n",
       "      <td>2405</td>\n",
       "      <td>3516</td>\n",
       "      <td>7844</td>\n",
       "    </tr>\n",
       "    <tr>\n",
       "      <th>3</th>\n",
       "      <td>1</td>\n",
       "      <td>3</td>\n",
       "      <td>13265</td>\n",
       "      <td>1196</td>\n",
       "      <td>4221</td>\n",
       "      <td>6404</td>\n",
       "      <td>507</td>\n",
       "      <td>1788</td>\n",
       "    </tr>\n",
       "    <tr>\n",
       "      <th>4</th>\n",
       "      <td>2</td>\n",
       "      <td>3</td>\n",
       "      <td>22615</td>\n",
       "      <td>5410</td>\n",
       "      <td>7198</td>\n",
       "      <td>3915</td>\n",
       "      <td>1777</td>\n",
       "      <td>5185</td>\n",
       "    </tr>\n",
       "    <tr>\n",
       "      <th>5</th>\n",
       "      <td>2</td>\n",
       "      <td>3</td>\n",
       "      <td>9413</td>\n",
       "      <td>8259</td>\n",
       "      <td>5126</td>\n",
       "      <td>666</td>\n",
       "      <td>1795</td>\n",
       "      <td>1451</td>\n",
       "    </tr>\n",
       "    <tr>\n",
       "      <th>6</th>\n",
       "      <td>2</td>\n",
       "      <td>3</td>\n",
       "      <td>12126</td>\n",
       "      <td>3199</td>\n",
       "      <td>6975</td>\n",
       "      <td>480</td>\n",
       "      <td>3140</td>\n",
       "      <td>545</td>\n",
       "    </tr>\n",
       "    <tr>\n",
       "      <th>7</th>\n",
       "      <td>2</td>\n",
       "      <td>3</td>\n",
       "      <td>7579</td>\n",
       "      <td>4956</td>\n",
       "      <td>9426</td>\n",
       "      <td>1669</td>\n",
       "      <td>3321</td>\n",
       "      <td>2566</td>\n",
       "    </tr>\n",
       "    <tr>\n",
       "      <th>8</th>\n",
       "      <td>1</td>\n",
       "      <td>3</td>\n",
       "      <td>5963</td>\n",
       "      <td>3648</td>\n",
       "      <td>6192</td>\n",
       "      <td>425</td>\n",
       "      <td>1716</td>\n",
       "      <td>750</td>\n",
       "    </tr>\n",
       "    <tr>\n",
       "      <th>9</th>\n",
       "      <td>2</td>\n",
       "      <td>3</td>\n",
       "      <td>6006</td>\n",
       "      <td>11093</td>\n",
       "      <td>18881</td>\n",
       "      <td>1159</td>\n",
       "      <td>7425</td>\n",
       "      <td>2098</td>\n",
       "    </tr>\n",
       "    <tr>\n",
       "      <th>10</th>\n",
       "      <td>2</td>\n",
       "      <td>3</td>\n",
       "      <td>3366</td>\n",
       "      <td>5403</td>\n",
       "      <td>12974</td>\n",
       "      <td>4400</td>\n",
       "      <td>5977</td>\n",
       "      <td>1744</td>\n",
       "    </tr>\n",
       "    <tr>\n",
       "      <th>11</th>\n",
       "      <td>2</td>\n",
       "      <td>3</td>\n",
       "      <td>13146</td>\n",
       "      <td>1124</td>\n",
       "      <td>4523</td>\n",
       "      <td>1420</td>\n",
       "      <td>549</td>\n",
       "      <td>497</td>\n",
       "    </tr>\n",
       "    <tr>\n",
       "      <th>12</th>\n",
       "      <td>2</td>\n",
       "      <td>3</td>\n",
       "      <td>31714</td>\n",
       "      <td>12319</td>\n",
       "      <td>11757</td>\n",
       "      <td>287</td>\n",
       "      <td>3881</td>\n",
       "      <td>2931</td>\n",
       "    </tr>\n",
       "    <tr>\n",
       "      <th>13</th>\n",
       "      <td>2</td>\n",
       "      <td>3</td>\n",
       "      <td>21217</td>\n",
       "      <td>6208</td>\n",
       "      <td>14982</td>\n",
       "      <td>3095</td>\n",
       "      <td>6707</td>\n",
       "      <td>602</td>\n",
       "    </tr>\n",
       "    <tr>\n",
       "      <th>14</th>\n",
       "      <td>2</td>\n",
       "      <td>3</td>\n",
       "      <td>24653</td>\n",
       "      <td>9465</td>\n",
       "      <td>12091</td>\n",
       "      <td>294</td>\n",
       "      <td>5058</td>\n",
       "      <td>2168</td>\n",
       "    </tr>\n",
       "    <tr>\n",
       "      <th>15</th>\n",
       "      <td>1</td>\n",
       "      <td>3</td>\n",
       "      <td>10253</td>\n",
       "      <td>1114</td>\n",
       "      <td>3821</td>\n",
       "      <td>397</td>\n",
       "      <td>964</td>\n",
       "      <td>412</td>\n",
       "    </tr>\n",
       "    <tr>\n",
       "      <th>16</th>\n",
       "      <td>2</td>\n",
       "      <td>3</td>\n",
       "      <td>1020</td>\n",
       "      <td>8816</td>\n",
       "      <td>12121</td>\n",
       "      <td>134</td>\n",
       "      <td>4508</td>\n",
       "      <td>1080</td>\n",
       "    </tr>\n",
       "    <tr>\n",
       "      <th>17</th>\n",
       "      <td>1</td>\n",
       "      <td>3</td>\n",
       "      <td>5876</td>\n",
       "      <td>6157</td>\n",
       "      <td>2933</td>\n",
       "      <td>839</td>\n",
       "      <td>370</td>\n",
       "      <td>4478</td>\n",
       "    </tr>\n",
       "    <tr>\n",
       "      <th>18</th>\n",
       "      <td>2</td>\n",
       "      <td>3</td>\n",
       "      <td>18601</td>\n",
       "      <td>6327</td>\n",
       "      <td>10099</td>\n",
       "      <td>2205</td>\n",
       "      <td>2767</td>\n",
       "      <td>3181</td>\n",
       "    </tr>\n",
       "    <tr>\n",
       "      <th>19</th>\n",
       "      <td>1</td>\n",
       "      <td>3</td>\n",
       "      <td>7780</td>\n",
       "      <td>2495</td>\n",
       "      <td>9464</td>\n",
       "      <td>669</td>\n",
       "      <td>2518</td>\n",
       "      <td>501</td>\n",
       "    </tr>\n",
       "  </tbody>\n",
       "</table>\n",
       "</div>"
      ],
      "text/plain": [
       "    Channel  Region  Fresh   Milk  Grocery  Frozen  Detergents_Paper  \\\n",
       "0         2       3  12669   9656     7561     214              2674   \n",
       "1         2       3   7057   9810     9568    1762              3293   \n",
       "2         2       3   6353   8808     7684    2405              3516   \n",
       "3         1       3  13265   1196     4221    6404               507   \n",
       "4         2       3  22615   5410     7198    3915              1777   \n",
       "5         2       3   9413   8259     5126     666              1795   \n",
       "6         2       3  12126   3199     6975     480              3140   \n",
       "7         2       3   7579   4956     9426    1669              3321   \n",
       "8         1       3   5963   3648     6192     425              1716   \n",
       "9         2       3   6006  11093    18881    1159              7425   \n",
       "10        2       3   3366   5403    12974    4400              5977   \n",
       "11        2       3  13146   1124     4523    1420               549   \n",
       "12        2       3  31714  12319    11757     287              3881   \n",
       "13        2       3  21217   6208    14982    3095              6707   \n",
       "14        2       3  24653   9465    12091     294              5058   \n",
       "15        1       3  10253   1114     3821     397               964   \n",
       "16        2       3   1020   8816    12121     134              4508   \n",
       "17        1       3   5876   6157     2933     839               370   \n",
       "18        2       3  18601   6327    10099    2205              2767   \n",
       "19        1       3   7780   2495     9464     669              2518   \n",
       "\n",
       "    Delicassen  \n",
       "0         1338  \n",
       "1         1776  \n",
       "2         7844  \n",
       "3         1788  \n",
       "4         5185  \n",
       "5         1451  \n",
       "6          545  \n",
       "7         2566  \n",
       "8          750  \n",
       "9         2098  \n",
       "10        1744  \n",
       "11         497  \n",
       "12        2931  \n",
       "13         602  \n",
       "14        2168  \n",
       "15         412  \n",
       "16        1080  \n",
       "17        4478  \n",
       "18        3181  \n",
       "19         501  "
      ]
     },
     "execution_count": 70,
     "metadata": {},
     "output_type": "execute_result"
    }
   ],
   "source": [
    "import numpy as np\n",
    "import pandas as pd\n",
    "\n",
    "\n",
    "data = pd.read_csv(\"E:/DiveIntoCode/source/Wholesale customers data.csv\") # 絶対パス\n",
    "df.head(20)\n"
   ]
  },
  {
   "cell_type": "code",
   "execution_count": 46,
   "id": "66b51725",
   "metadata": {},
   "outputs": [
    {
     "name": "stdout",
     "output_type": "stream",
     "text": [
      "(440, 2)\n"
     ]
    }
   ],
   "source": [
    "from sklearn.decomposition import PCA\n",
    "\n",
    "pca = PCA(n_components = 2)\n",
    "pca = pca.fit(data)\n",
    "data_pca = pca.transform(data)\n"
   ]
  },
  {
   "cell_type": "code",
   "execution_count": 66,
   "id": "a960ab35",
   "metadata": {},
   "outputs": [
    {
     "name": "stdout",
     "output_type": "stream",
     "text": [
      "[0.45961362 0.86478588 0.93481596 0.97883941 0.99386152 1.\n",
      " 1.         1.        ]\n"
     ]
    },
    {
     "data": {
      "image/png": "[encoded data removed]",
      "text/plain": [
       "<Figure size 432x288 with 1 Axes>"
      ]
     },
     "metadata": {
      "needs_background": "light"
     },
     "output_type": "display_data"
    }
   ],
   "source": [
    "from sklearn.decomposition import PCA\n",
    "import matplotlib.pyplot as plt\n",
    "\n",
    "pca = PCA(n_components=8)\n",
    "pca = pca.fit(data)\n",
    "var_exp = pca.explained_variance_ratio_\n",
    "cum_var_exp = np.cumsum(var_exp)\n",
    "print(cum_var_exp)\n",
    "plt.bar(range(0,8), var_exp, alpha=0.5, align='center', label='individual explained variance')\n",
    "plt.step(range(0,8), cum_var_exp, where='mid', label='cumulative expalined variance')\n",
    "plt.ylabel('Explained variance ratio')\n",
    "plt.xlabel('Principal components')\n",
    "plt.hlines(0.7, 0, 6,  \"blue\", linestyles='dashed')\n",
    "plt.legend(loc='best')\n",
    "plt.grid()\n",
    "plt.show()\n"
   ]
  },
  {
   "cell_type": "markdown",
   "id": "61ae85ad",
   "metadata": {},
   "source": [
    "### 【問題10】クラスタ数kの選択\n",
    "最適だと思われるクラスタ数 $k$ を選択してください。エルボー法やシルエット図を活用する他、人間が後々どう利用したいのかも選択に関わってきます。選択した上で、なぜそれを選んだか説明してください。<br>\n"
   ]
  },
  {
   "cell_type": "code",
   "execution_count": null,
   "id": "edf53a9a",
   "metadata": {},
   "outputs": [],
   "source": [
    "４\n",
    "グラフから劇的な変化が見られなくなっているから"
   ]
  },
  {
   "cell_type": "markdown",
   "id": "7a970166",
   "metadata": {},
   "source": [
    "### 【問題11】既知のグループとの比較\n",
    "RegionとChannelはK-meansに使用しなかったが、これれらは既知のグループです。クラスタとこれら既知のグループがどう違うかを確認し、説明してください。まずはそれぞれを可視化してください。<br>\n"
   ]
  },
  {
   "cell_type": "code",
   "execution_count": null,
   "id": "564d1f8e",
   "metadata": {},
   "outputs": [],
   "source": [
    "値が大きすぎて他の値が参考にならなくなる"
   ]
  },
  {
   "cell_type": "markdown",
   "id": "528cea5b",
   "metadata": {},
   "source": [
    "### 【問題12】卸売業者にとって有益な情報\n",
    "卸売業者にとって有益な情報を探し出し文章にまとめてください。<br>\n",
    "<br>\n",
    "《ヒント》<br>\n",
    "前処理を行う前のデータを使い、各クラスタの要約統計量を見るなどしてみましょう。また、PCAで次元削減したデータに対してK-meansを使用しましたが、6個の特徴量をそのまま使ったり、一部の特徴量のみを使ったりということも試してみてください。既知のグループとの比較結果も参考にしてください。<br>\n",
    "条件ごとにデータを見る際にはPandasのgroupbyが便利です。<br>\n"
   ]
  },
  {
   "cell_type": "code",
   "execution_count": null,
   "id": "c39b6ea3",
   "metadata": {},
   "outputs": [],
   "source": [
    "食料品（Grocery）が売れている地域では洗剤紙（Detergents_Paper\t）も売れている"
   ]
  },
  {
   "cell_type": "code",
   "execution_count": null,
   "id": "fc2acf01",
   "metadata": {},
   "outputs": [],
   "source": []
  }
 ],
 "metadata": {
  "kernelspec": {
   "display_name": "Python 3",
   "language": "python",
   "name": "python3"
  },
  "language_info": {
   "codemirror_mode": {
    "name": "ipython",
    "version": 3
   },
   "file_extension": ".py",
   "mimetype": "text/x-python",
   "name": "python",
   "nbconvert_exporter": "python",
   "pygments_lexer": "ipython3",
   "version": "3.8.10"
  }
 },
 "nbformat": 4,
 "nbformat_minor": 5
}
