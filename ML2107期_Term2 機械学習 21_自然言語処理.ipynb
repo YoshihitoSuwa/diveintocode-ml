{
 "cells": [
  {
   "cell_type": "code",
   "execution_count": 3,
   "source": [
    "import os\r\n",
    "path = os.getcwd()\r\n",
    "print(path)"
   ],
   "outputs": [
    {
     "output_type": "stream",
     "name": "stdout",
     "text": [
      "e:\\DiveIntoCode\\source\n"
     ]
    }
   ],
   "metadata": {}
  },
  {
   "cell_type": "code",
   "execution_count": 4,
   "source": [
    "from sklearn.datasets import load_files\r\n",
    "train_review = load_files('./Sprint21/aclImdb/train/', encoding='utf-8')\r\n",
    "x_train, y_train = train_review.data, train_review.target\r\n",
    "test_review = load_files('./Sprint21/aclImdb/test/', encoding='utf-8')\r\n",
    "x_test, y_test = test_review.data, test_review.target\r\n",
    "# ラベルの0,1と意味の対応の表示\r\n",
    "print(train_review.target_names)\r\n"
   ],
   "outputs": [
    {
     "output_type": "stream",
     "name": "stdout",
     "text": [
      "['neg', 'pos']\n"
     ]
    }
   ],
   "metadata": {}
  },
  {
   "cell_type": "code",
   "execution_count": 5,
   "source": [
    "print(\"x : {}\".format(x_train[0]))"
   ],
   "outputs": [
    {
     "output_type": "stream",
     "name": "stdout",
     "text": [
      "x : Zero Day leads you to think, even re-think why two boys/young men would do what they did - commit mutual suicide via slaughtering their classmates. It captures what must be beyond a bizarre mode of being for two humans who have decided to withdraw from common civility in order to define their own/mutual world via coupled destruction.<br /><br />It is not a perfect movie but given what money/time the filmmaker and actors had - it is a remarkable product. In terms of explaining the motives and actions of the two young suicide/murderers it is better than 'Elephant' - in terms of being a film that gets under our 'rationalistic' skin it is a far, far better film than almost anything you are likely to see. <br /><br />Flawed but honest with a terrible honesty.\n"
     ]
    }
   ],
   "metadata": {}
  },
  {
   "cell_type": "code",
   "execution_count": 6,
   "source": [
    "mini_dataset = \\\r\n",
    "  [\"This movie is very good.\",\r\n",
    "  \"This film is a good\",\r\n",
    "  \"Very bad. Very, very bad.\"]\r\n",
    "  "
   ],
   "outputs": [],
   "metadata": {}
  },
  {
   "cell_type": "code",
   "execution_count": 7,
   "source": [
    "import pandas as pd\r\n",
    "from sklearn.feature_extraction.text import CountVectorizer\r\n",
    "\r\n",
    "vectorizer = CountVectorizer(token_pattern=r'(?u)\\b\\w+\\b')\r\n",
    "bow = (vectorizer.fit_transform(mini_dataset)).toarray()\r\n",
    "# DataFrameにまとめる\r\n",
    "df = pd.DataFrame(bow, columns=vectorizer.get_feature_names())\r\n",
    "display(df)\r\n"
   ],
   "outputs": [
    {
     "output_type": "display_data",
     "data": {
      "text/html": [
       "<div>\n",
       "<style scoped>\n",
       "    .dataframe tbody tr th:only-of-type {\n",
       "        vertical-align: middle;\n",
       "    }\n",
       "\n",
       "    .dataframe tbody tr th {\n",
       "        vertical-align: top;\n",
       "    }\n",
       "\n",
       "    .dataframe thead th {\n",
       "        text-align: right;\n",
       "    }\n",
       "</style>\n",
       "<table border=\"1\" class=\"dataframe\">\n",
       "  <thead>\n",
       "    <tr style=\"text-align: right;\">\n",
       "      <th></th>\n",
       "      <th>a</th>\n",
       "      <th>bad</th>\n",
       "      <th>film</th>\n",
       "      <th>good</th>\n",
       "      <th>is</th>\n",
       "      <th>movie</th>\n",
       "      <th>this</th>\n",
       "      <th>very</th>\n",
       "    </tr>\n",
       "  </thead>\n",
       "  <tbody>\n",
       "    <tr>\n",
       "      <th>0</th>\n",
       "      <td>0</td>\n",
       "      <td>0</td>\n",
       "      <td>0</td>\n",
       "      <td>1</td>\n",
       "      <td>1</td>\n",
       "      <td>1</td>\n",
       "      <td>1</td>\n",
       "      <td>1</td>\n",
       "    </tr>\n",
       "    <tr>\n",
       "      <th>1</th>\n",
       "      <td>1</td>\n",
       "      <td>0</td>\n",
       "      <td>1</td>\n",
       "      <td>1</td>\n",
       "      <td>1</td>\n",
       "      <td>0</td>\n",
       "      <td>1</td>\n",
       "      <td>0</td>\n",
       "    </tr>\n",
       "    <tr>\n",
       "      <th>2</th>\n",
       "      <td>0</td>\n",
       "      <td>2</td>\n",
       "      <td>0</td>\n",
       "      <td>0</td>\n",
       "      <td>0</td>\n",
       "      <td>0</td>\n",
       "      <td>0</td>\n",
       "      <td>3</td>\n",
       "    </tr>\n",
       "  </tbody>\n",
       "</table>\n",
       "</div>"
      ],
      "text/plain": [
       "   a  bad  film  good  is  movie  this  very\n",
       "0  0    0     0     1   1      1     1     1\n",
       "1  1    0     1     1   1      0     1     0\n",
       "2  0    2     0     0   0      0     0     3"
      ]
     },
     "metadata": {}
    }
   ],
   "metadata": {}
  },
  {
   "cell_type": "code",
   "execution_count": 8,
   "source": [
    "# ngram_rangeで利用するn-gramの範囲を指定する\r\n",
    "vectorizer = CountVectorizer(ngram_range=(2, 2), token_pattern=r'(?u)\\b\\w+\\b')\r\n",
    "bow_train = (vectorizer.fit_transform(mini_dataset)).toarray()\r\n",
    "df = pd.DataFrame(bow_train, columns=vectorizer.get_feature_names())\r\n",
    "display(df)\r\n"
   ],
   "outputs": [
    {
     "output_type": "display_data",
     "data": {
      "text/html": [
       "<div>\n",
       "<style scoped>\n",
       "    .dataframe tbody tr th:only-of-type {\n",
       "        vertical-align: middle;\n",
       "    }\n",
       "\n",
       "    .dataframe tbody tr th {\n",
       "        vertical-align: top;\n",
       "    }\n",
       "\n",
       "    .dataframe thead th {\n",
       "        text-align: right;\n",
       "    }\n",
       "</style>\n",
       "<table border=\"1\" class=\"dataframe\">\n",
       "  <thead>\n",
       "    <tr style=\"text-align: right;\">\n",
       "      <th></th>\n",
       "      <th>a good</th>\n",
       "      <th>bad very</th>\n",
       "      <th>film is</th>\n",
       "      <th>is a</th>\n",
       "      <th>is very</th>\n",
       "      <th>movie is</th>\n",
       "      <th>this film</th>\n",
       "      <th>this movie</th>\n",
       "      <th>very bad</th>\n",
       "      <th>very good</th>\n",
       "      <th>very very</th>\n",
       "    </tr>\n",
       "  </thead>\n",
       "  <tbody>\n",
       "    <tr>\n",
       "      <th>0</th>\n",
       "      <td>0</td>\n",
       "      <td>0</td>\n",
       "      <td>0</td>\n",
       "      <td>0</td>\n",
       "      <td>1</td>\n",
       "      <td>1</td>\n",
       "      <td>0</td>\n",
       "      <td>1</td>\n",
       "      <td>0</td>\n",
       "      <td>1</td>\n",
       "      <td>0</td>\n",
       "    </tr>\n",
       "    <tr>\n",
       "      <th>1</th>\n",
       "      <td>1</td>\n",
       "      <td>0</td>\n",
       "      <td>1</td>\n",
       "      <td>1</td>\n",
       "      <td>0</td>\n",
       "      <td>0</td>\n",
       "      <td>1</td>\n",
       "      <td>0</td>\n",
       "      <td>0</td>\n",
       "      <td>0</td>\n",
       "      <td>0</td>\n",
       "    </tr>\n",
       "    <tr>\n",
       "      <th>2</th>\n",
       "      <td>0</td>\n",
       "      <td>1</td>\n",
       "      <td>0</td>\n",
       "      <td>0</td>\n",
       "      <td>0</td>\n",
       "      <td>0</td>\n",
       "      <td>0</td>\n",
       "      <td>0</td>\n",
       "      <td>2</td>\n",
       "      <td>0</td>\n",
       "      <td>1</td>\n",
       "    </tr>\n",
       "  </tbody>\n",
       "</table>\n",
       "</div>"
      ],
      "text/plain": [
       "   a good  bad very  film is  is a  is very  movie is  this film  this movie  \\\n",
       "0       0         0        0     0        1         1          0           1   \n",
       "1       1         0        1     1        0         0          1           0   \n",
       "2       0         1        0     0        0         0          0           0   \n",
       "\n",
       "   very bad  very good  very very  \n",
       "0         0          1          0  \n",
       "1         0          0          0  \n",
       "2         2          0          1  "
      ]
     },
     "metadata": {}
    }
   ],
   "metadata": {}
  },
  {
   "cell_type": "markdown",
   "source": [
    "### 【問題1】BoWのスクラッチ実装\r\n",
    "以下の3文のBoWを求められるプログラムをscikit-learnを使わずに作成してください。1-gramと2-gramで計算してください。<br>\r\n",
    "　・This movie is SOOOO funny!!!<br>\r\n",
    "　・What a movie! I never<br>\r\n",
    "　・best movie ever!!!!! this movie<br>"
   ],
   "metadata": {}
  },
  {
   "cell_type": "code",
   "execution_count": 69,
   "source": [
    "mini_dataset = \\\r\n",
    "  [\"This movie is SOOOO funny!!!\",\r\n",
    "  \"What a movie! I never\",\r\n",
    "  \"best movie ever!!!!! this movie\"]\r\n",
    "\r\n",
    "import pandas as pd\r\n",
    "import numpy as np\r\n",
    "from sklearn.feature_extraction.text import CountVectorizer\r\n",
    "\r\n",
    "vectorizer = CountVectorizer(token_pattern=r'(?u)\\b\\w+\\b')\r\n",
    "bow = (vectorizer.fit_transform(mini_dataset)).toarray()\r\n",
    "# DataFrameにまとめる\r\n",
    "df = pd.DataFrame(bow, columns=vectorizer.get_feature_names())\r\n",
    "display(df)\r\n"
   ],
   "outputs": [
    {
     "output_type": "display_data",
     "data": {
      "text/html": [
       "<div>\n",
       "<style scoped>\n",
       "    .dataframe tbody tr th:only-of-type {\n",
       "        vertical-align: middle;\n",
       "    }\n",
       "\n",
       "    .dataframe tbody tr th {\n",
       "        vertical-align: top;\n",
       "    }\n",
       "\n",
       "    .dataframe thead th {\n",
       "        text-align: right;\n",
       "    }\n",
       "</style>\n",
       "<table border=\"1\" class=\"dataframe\">\n",
       "  <thead>\n",
       "    <tr style=\"text-align: right;\">\n",
       "      <th></th>\n",
       "      <th>a</th>\n",
       "      <th>best</th>\n",
       "      <th>ever</th>\n",
       "      <th>funny</th>\n",
       "      <th>i</th>\n",
       "      <th>is</th>\n",
       "      <th>movie</th>\n",
       "      <th>never</th>\n",
       "      <th>soooo</th>\n",
       "      <th>this</th>\n",
       "      <th>what</th>\n",
       "    </tr>\n",
       "  </thead>\n",
       "  <tbody>\n",
       "    <tr>\n",
       "      <th>0</th>\n",
       "      <td>0</td>\n",
       "      <td>0</td>\n",
       "      <td>0</td>\n",
       "      <td>1</td>\n",
       "      <td>0</td>\n",
       "      <td>1</td>\n",
       "      <td>1</td>\n",
       "      <td>0</td>\n",
       "      <td>1</td>\n",
       "      <td>1</td>\n",
       "      <td>0</td>\n",
       "    </tr>\n",
       "    <tr>\n",
       "      <th>1</th>\n",
       "      <td>1</td>\n",
       "      <td>0</td>\n",
       "      <td>0</td>\n",
       "      <td>0</td>\n",
       "      <td>1</td>\n",
       "      <td>0</td>\n",
       "      <td>1</td>\n",
       "      <td>1</td>\n",
       "      <td>0</td>\n",
       "      <td>0</td>\n",
       "      <td>1</td>\n",
       "    </tr>\n",
       "    <tr>\n",
       "      <th>2</th>\n",
       "      <td>0</td>\n",
       "      <td>1</td>\n",
       "      <td>1</td>\n",
       "      <td>0</td>\n",
       "      <td>0</td>\n",
       "      <td>0</td>\n",
       "      <td>2</td>\n",
       "      <td>0</td>\n",
       "      <td>0</td>\n",
       "      <td>1</td>\n",
       "      <td>0</td>\n",
       "    </tr>\n",
       "  </tbody>\n",
       "</table>\n",
       "</div>"
      ],
      "text/plain": [
       "   a  best  ever  funny  i  is  movie  never  soooo  this  what\n",
       "0  0     0     0      1  0   1      1      0      1     1     0\n",
       "1  1     0     0      0  1   0      1      1      0     0     1\n",
       "2  0     1     1      0  0   0      2      0      0     1     0"
      ]
     },
     "metadata": {}
    }
   ],
   "metadata": {}
  },
  {
   "cell_type": "code",
   "execution_count": 70,
   "source": [
    "### 1-gram\r\n",
    "\r\n",
    "# 文章を単語で分ける\r\n",
    "word_1 = mini_dataset[0].lower().replace(\"!\", \"\").split(\" \")\r\n",
    "word_2 = mini_dataset[1].lower().replace(\"!\", \"\").split(\" \")\r\n",
    "word_3 = mini_dataset[2].lower().replace(\"!\", \"\").split(\" \")\r\n",
    "\r\n",
    "mini_datalist = [word_1, word_2, word_3]\r\n",
    "\r\n",
    "# 重複している単語を削除\r\n",
    "word_set = set(word_1 + word_2 + word_3)\r\n",
    "word_list = list(word_set)    # set()を使うとset型になるのでlist型へ戻す\r\n",
    "\r\n",
    "# 格納＋結果表示用のデータフレームを設定\r\n",
    "gram_1 = np.zeros([len(mini_datalist), len(word_list)]).astype(\"int\")\r\n",
    "gram_1 = pd.DataFrame(gram_1, columns=word_set)\r\n",
    "display(gram_1)\r\n",
    "\r\n",
    "# 単語の数を数える\r\n",
    "for i, text in enumerate(mini_datalist):\r\n",
    "    for word in word_list:\r\n",
    "        word_count = text.count(word)\r\n",
    "        gram_1.at[i, word] = word_count\r\n",
    "\r\n",
    "display(gram_1)\r\n"
   ],
   "outputs": [
    {
     "output_type": "display_data",
     "data": {
      "text/html": [
       "<div>\n",
       "<style scoped>\n",
       "    .dataframe tbody tr th:only-of-type {\n",
       "        vertical-align: middle;\n",
       "    }\n",
       "\n",
       "    .dataframe tbody tr th {\n",
       "        vertical-align: top;\n",
       "    }\n",
       "\n",
       "    .dataframe thead th {\n",
       "        text-align: right;\n",
       "    }\n",
       "</style>\n",
       "<table border=\"1\" class=\"dataframe\">\n",
       "  <thead>\n",
       "    <tr style=\"text-align: right;\">\n",
       "      <th></th>\n",
       "      <th>movie</th>\n",
       "      <th>i</th>\n",
       "      <th>never</th>\n",
       "      <th>a</th>\n",
       "      <th>best</th>\n",
       "      <th>this</th>\n",
       "      <th>ever</th>\n",
       "      <th>is</th>\n",
       "      <th>what</th>\n",
       "      <th>funny</th>\n",
       "      <th>soooo</th>\n",
       "    </tr>\n",
       "  </thead>\n",
       "  <tbody>\n",
       "    <tr>\n",
       "      <th>0</th>\n",
       "      <td>0</td>\n",
       "      <td>0</td>\n",
       "      <td>0</td>\n",
       "      <td>0</td>\n",
       "      <td>0</td>\n",
       "      <td>0</td>\n",
       "      <td>0</td>\n",
       "      <td>0</td>\n",
       "      <td>0</td>\n",
       "      <td>0</td>\n",
       "      <td>0</td>\n",
       "    </tr>\n",
       "    <tr>\n",
       "      <th>1</th>\n",
       "      <td>0</td>\n",
       "      <td>0</td>\n",
       "      <td>0</td>\n",
       "      <td>0</td>\n",
       "      <td>0</td>\n",
       "      <td>0</td>\n",
       "      <td>0</td>\n",
       "      <td>0</td>\n",
       "      <td>0</td>\n",
       "      <td>0</td>\n",
       "      <td>0</td>\n",
       "    </tr>\n",
       "    <tr>\n",
       "      <th>2</th>\n",
       "      <td>0</td>\n",
       "      <td>0</td>\n",
       "      <td>0</td>\n",
       "      <td>0</td>\n",
       "      <td>0</td>\n",
       "      <td>0</td>\n",
       "      <td>0</td>\n",
       "      <td>0</td>\n",
       "      <td>0</td>\n",
       "      <td>0</td>\n",
       "      <td>0</td>\n",
       "    </tr>\n",
       "  </tbody>\n",
       "</table>\n",
       "</div>"
      ],
      "text/plain": [
       "   movie  i  never  a  best  this  ever  is  what  funny  soooo\n",
       "0      0  0      0  0     0     0     0   0     0      0      0\n",
       "1      0  0      0  0     0     0     0   0     0      0      0\n",
       "2      0  0      0  0     0     0     0   0     0      0      0"
      ]
     },
     "metadata": {}
    },
    {
     "output_type": "display_data",
     "data": {
      "text/html": [
       "<div>\n",
       "<style scoped>\n",
       "    .dataframe tbody tr th:only-of-type {\n",
       "        vertical-align: middle;\n",
       "    }\n",
       "\n",
       "    .dataframe tbody tr th {\n",
       "        vertical-align: top;\n",
       "    }\n",
       "\n",
       "    .dataframe thead th {\n",
       "        text-align: right;\n",
       "    }\n",
       "</style>\n",
       "<table border=\"1\" class=\"dataframe\">\n",
       "  <thead>\n",
       "    <tr style=\"text-align: right;\">\n",
       "      <th></th>\n",
       "      <th>movie</th>\n",
       "      <th>i</th>\n",
       "      <th>never</th>\n",
       "      <th>a</th>\n",
       "      <th>best</th>\n",
       "      <th>this</th>\n",
       "      <th>ever</th>\n",
       "      <th>is</th>\n",
       "      <th>what</th>\n",
       "      <th>funny</th>\n",
       "      <th>soooo</th>\n",
       "    </tr>\n",
       "  </thead>\n",
       "  <tbody>\n",
       "    <tr>\n",
       "      <th>0</th>\n",
       "      <td>1</td>\n",
       "      <td>0</td>\n",
       "      <td>0</td>\n",
       "      <td>0</td>\n",
       "      <td>0</td>\n",
       "      <td>1</td>\n",
       "      <td>0</td>\n",
       "      <td>1</td>\n",
       "      <td>0</td>\n",
       "      <td>1</td>\n",
       "      <td>1</td>\n",
       "    </tr>\n",
       "    <tr>\n",
       "      <th>1</th>\n",
       "      <td>1</td>\n",
       "      <td>1</td>\n",
       "      <td>1</td>\n",
       "      <td>1</td>\n",
       "      <td>0</td>\n",
       "      <td>0</td>\n",
       "      <td>0</td>\n",
       "      <td>0</td>\n",
       "      <td>1</td>\n",
       "      <td>0</td>\n",
       "      <td>0</td>\n",
       "    </tr>\n",
       "    <tr>\n",
       "      <th>2</th>\n",
       "      <td>2</td>\n",
       "      <td>0</td>\n",
       "      <td>0</td>\n",
       "      <td>0</td>\n",
       "      <td>1</td>\n",
       "      <td>1</td>\n",
       "      <td>1</td>\n",
       "      <td>0</td>\n",
       "      <td>0</td>\n",
       "      <td>0</td>\n",
       "      <td>0</td>\n",
       "    </tr>\n",
       "  </tbody>\n",
       "</table>\n",
       "</div>"
      ],
      "text/plain": [
       "   movie  i  never  a  best  this  ever  is  what  funny  soooo\n",
       "0      1  0      0  0     0     1     0   1     0      1      1\n",
       "1      1  1      1  1     0     0     0   0     1      0      0\n",
       "2      2  0      0  0     1     1     1   0     0      0      0"
      ]
     },
     "metadata": {}
    }
   ],
   "metadata": {}
  },
  {
   "cell_type": "code",
   "execution_count": 135,
   "source": [
    "## 2-gram\r\n",
    "\r\n",
    "# 2つの単語をまとめる(2つの単語で1つの単語とみなす)\r\n",
    "two_word_1 = []\r\n",
    "two_word_2 = []\r\n",
    "two_word_3 = []\r\n",
    "\r\n",
    "# 単語をスペースで区切った配列\r\n",
    "two_mini_datalist = []\r\n",
    "\r\n",
    "for i, text in enumerate(mini_datalist):\r\n",
    "    split_space_word = \"\"\r\n",
    "    for j in range(len(text)):\r\n",
    "        if j == 0:\r\n",
    "            split_space_word = text[j]\r\n",
    "            pass\r\n",
    "        else:\r\n",
    "            split_space_word += \" \" + text[j]\r\n",
    "            if i == 0:\r\n",
    "                two_word_1.append(text[j-1] + \" \" + text[j])\r\n",
    "            elif i == 1:\r\n",
    "                two_word_2.append(text[j-1] + \" \" + text[j])\r\n",
    "            else:\r\n",
    "                two_word_3.append(text[j-1] + \" \" + text[j])\r\n",
    "    two_mini_datalist.append(split_space_word)\r\n",
    "\r\n",
    "# 重複している単語を削除\r\n",
    "two_word_list = set(two_word_1 + two_word_2 + two_word_3)\r\n",
    "two_word_list = list(two_word_list)  # set()を使うとset型になるのでlist型へ戻す\r\n",
    "\r\n",
    "# print(two_mini_datalist)    # 単語をスペースで区切った配列\r\n",
    "# print(two_word_list)\r\n",
    "# print(mini_datalist)\r\n",
    "\r\n",
    "# 格納＋結果表示用のデータフレームを設定\r\n",
    "gram_2 = np.zeros([len(mini_datalist), len(two_word_list)]).astype(\"int\")\r\n",
    "gram_2 = pd.DataFrame(gram_2, columns=two_word_list)\r\n",
    "\r\n",
    "# display(gram_2)\r\n",
    "\r\n",
    "for i in range(len(mini_datalist)):\r\n",
    "    for j, text in enumerate(mini_datalist[i]):\r\n",
    "        for k in range(len(two_word_list)):\r\n",
    "            cnt = 0\r\n",
    "            if j == 0:\r\n",
    "                pass\r\n",
    "            else:\r\n",
    "                if two_word_list[k] == (str(mini_datalist[i][j-1]) + \" \" + str(mini_datalist[i][j])):\r\n",
    "                    cnt += 1\r\n",
    "                    gram_2.at[i, two_word_list[k]] = cnt\r\n",
    "\r\n",
    "# for i, text in enumerate(two_word_list):\r\n",
    "#     for j in range(len(mini_datalist)):\r\n",
    "#         cnt = 0\r\n",
    "#         if j == 0:\r\n",
    "#             pass\r\n",
    "#         else:\r\n",
    "#             print(\"==========\")\r\n",
    "#             print(text)\r\n",
    "#             print(str(mini_datalist[j-1]) + \" \" + str(mini_datalist[j]))\r\n",
    "#             if text == (str(mini_datalist[j-1]) + \" \" + str(mini_datalist[j])):\r\n",
    "#                 cnt += 1\r\n",
    "#         gram_2.at[j, text] = cnt\r\n",
    "\r\n",
    "display(gram_2)\r\n"
   ],
   "outputs": [
    {
     "output_type": "display_data",
     "data": {
      "text/html": [
       "<div>\n",
       "<style scoped>\n",
       "    .dataframe tbody tr th:only-of-type {\n",
       "        vertical-align: middle;\n",
       "    }\n",
       "\n",
       "    .dataframe tbody tr th {\n",
       "        vertical-align: top;\n",
       "    }\n",
       "\n",
       "    .dataframe thead th {\n",
       "        text-align: right;\n",
       "    }\n",
       "</style>\n",
       "<table border=\"1\" class=\"dataframe\">\n",
       "  <thead>\n",
       "    <tr style=\"text-align: right;\">\n",
       "      <th></th>\n",
       "      <th>best movie</th>\n",
       "      <th>movie i</th>\n",
       "      <th>is soooo</th>\n",
       "      <th>movie ever</th>\n",
       "      <th>a movie</th>\n",
       "      <th>movie is</th>\n",
       "      <th>soooo funny</th>\n",
       "      <th>ever this</th>\n",
       "      <th>what a</th>\n",
       "      <th>i never</th>\n",
       "      <th>this movie</th>\n",
       "    </tr>\n",
       "  </thead>\n",
       "  <tbody>\n",
       "    <tr>\n",
       "      <th>0</th>\n",
       "      <td>0</td>\n",
       "      <td>0</td>\n",
       "      <td>1</td>\n",
       "      <td>0</td>\n",
       "      <td>0</td>\n",
       "      <td>1</td>\n",
       "      <td>1</td>\n",
       "      <td>0</td>\n",
       "      <td>0</td>\n",
       "      <td>0</td>\n",
       "      <td>1</td>\n",
       "    </tr>\n",
       "    <tr>\n",
       "      <th>1</th>\n",
       "      <td>0</td>\n",
       "      <td>1</td>\n",
       "      <td>0</td>\n",
       "      <td>0</td>\n",
       "      <td>1</td>\n",
       "      <td>0</td>\n",
       "      <td>0</td>\n",
       "      <td>0</td>\n",
       "      <td>1</td>\n",
       "      <td>1</td>\n",
       "      <td>0</td>\n",
       "    </tr>\n",
       "    <tr>\n",
       "      <th>2</th>\n",
       "      <td>1</td>\n",
       "      <td>0</td>\n",
       "      <td>0</td>\n",
       "      <td>1</td>\n",
       "      <td>0</td>\n",
       "      <td>0</td>\n",
       "      <td>0</td>\n",
       "      <td>1</td>\n",
       "      <td>0</td>\n",
       "      <td>0</td>\n",
       "      <td>1</td>\n",
       "    </tr>\n",
       "  </tbody>\n",
       "</table>\n",
       "</div>"
      ],
      "text/plain": [
       "   best movie  movie i  is soooo  movie ever  a movie  movie is  soooo funny  \\\n",
       "0           0        0         1           0        0         1            1   \n",
       "1           0        1         0           0        1         0            0   \n",
       "2           1        0         0           1        0         0            0   \n",
       "\n",
       "   ever this  what a  i never  this movie  \n",
       "0          0       0        0           1  \n",
       "1          0       1        1           0  \n",
       "2          1       0        0           1  "
      ]
     },
     "metadata": {}
    }
   ],
   "metadata": {}
  },
  {
   "cell_type": "code",
   "execution_count": 136,
   "source": [
    "import numpy as np\r\n",
    "import matplotlib.pyplot as plt\r\n",
    "n_samples = 25000\r\n",
    "idf = np.log(n_samples/np.arange(1,n_samples))\r\n",
    "plt.title(\"IDF\")\r\n",
    "plt.xlabel(\"df(t)\")\r\n",
    "plt.ylabel(\"IDF\")\r\n",
    "plt.plot(idf)\r\n",
    "plt.show()\r\n"
   ],
   "outputs": [
    {
     "output_type": "display_data",
     "data": {
      "image/png": "[encoded data removed]",
      "text/plain": [
       "<Figure size 432x288 with 1 Axes>"
      ]
     },
     "metadata": {
      "needs_background": "light"
     }
    }
   ],
   "metadata": {}
  },
  {
   "cell_type": "code",
   "execution_count": 137,
   "source": [
    "vectorizer = CountVectorizer(stop_words=[\"is\"], token_pattern=r'\\b\\w+\\b')\r\n",
    "bow_train = (vectorizer.fit_transform(mini_dataset)).toarray()\r\n",
    "df = pd.DataFrame(bow_train, columns=vectorizer.get_feature_names())\r\n",
    "display(df)\r\n"
   ],
   "outputs": [
    {
     "output_type": "display_data",
     "data": {
      "text/html": [
       "<div>\n",
       "<style scoped>\n",
       "    .dataframe tbody tr th:only-of-type {\n",
       "        vertical-align: middle;\n",
       "    }\n",
       "\n",
       "    .dataframe tbody tr th {\n",
       "        vertical-align: top;\n",
       "    }\n",
       "\n",
       "    .dataframe thead th {\n",
       "        text-align: right;\n",
       "    }\n",
       "</style>\n",
       "<table border=\"1\" class=\"dataframe\">\n",
       "  <thead>\n",
       "    <tr style=\"text-align: right;\">\n",
       "      <th></th>\n",
       "      <th>a</th>\n",
       "      <th>best</th>\n",
       "      <th>ever</th>\n",
       "      <th>funny</th>\n",
       "      <th>i</th>\n",
       "      <th>movie</th>\n",
       "      <th>never</th>\n",
       "      <th>soooo</th>\n",
       "      <th>this</th>\n",
       "      <th>what</th>\n",
       "    </tr>\n",
       "  </thead>\n",
       "  <tbody>\n",
       "    <tr>\n",
       "      <th>0</th>\n",
       "      <td>0</td>\n",
       "      <td>0</td>\n",
       "      <td>0</td>\n",
       "      <td>1</td>\n",
       "      <td>0</td>\n",
       "      <td>1</td>\n",
       "      <td>0</td>\n",
       "      <td>1</td>\n",
       "      <td>1</td>\n",
       "      <td>0</td>\n",
       "    </tr>\n",
       "    <tr>\n",
       "      <th>1</th>\n",
       "      <td>1</td>\n",
       "      <td>0</td>\n",
       "      <td>0</td>\n",
       "      <td>0</td>\n",
       "      <td>1</td>\n",
       "      <td>1</td>\n",
       "      <td>1</td>\n",
       "      <td>0</td>\n",
       "      <td>0</td>\n",
       "      <td>1</td>\n",
       "    </tr>\n",
       "    <tr>\n",
       "      <th>2</th>\n",
       "      <td>0</td>\n",
       "      <td>1</td>\n",
       "      <td>1</td>\n",
       "      <td>0</td>\n",
       "      <td>0</td>\n",
       "      <td>2</td>\n",
       "      <td>0</td>\n",
       "      <td>0</td>\n",
       "      <td>1</td>\n",
       "      <td>0</td>\n",
       "    </tr>\n",
       "  </tbody>\n",
       "</table>\n",
       "</div>"
      ],
      "text/plain": [
       "   a  best  ever  funny  i  movie  never  soooo  this  what\n",
       "0  0     0     0      1  0      1      0      1     1     0\n",
       "1  1     0     0      0  1      1      1      0     0     1\n",
       "2  0     1     1      0  0      2      0      0     1     0"
      ]
     },
     "metadata": {}
    }
   ],
   "metadata": {}
  },
  {
   "cell_type": "code",
   "execution_count": 139,
   "source": [
    "# はじめて使う場合はストップワードをダウンロード\r\n",
    "import nltk\r\n",
    "stop_words = nltk.download('stopwords')\r\n",
    "from nltk.corpus import stopwords\r\n",
    "stop_words = stopwords.words('english')\r\n",
    "print(\"stop word : {}\".format(stop_words)) # 'i', 'me', 'my', ...\r\n"
   ],
   "outputs": [
    {
     "output_type": "stream",
     "name": "stdout",
     "text": [
      "stop word : ['i', 'me', 'my', 'myself', 'we', 'our', 'ours', 'ourselves', 'you', \"you're\", \"you've\", \"you'll\", \"you'd\", 'your', 'yours', 'yourself', 'yourselves', 'he', 'him', 'his', 'himself', 'she', \"she's\", 'her', 'hers', 'herself', 'it', \"it's\", 'its', 'itself', 'they', 'them', 'their', 'theirs', 'themselves', 'what', 'which', 'who', 'whom', 'this', 'that', \"that'll\", 'these', 'those', 'am', 'is', 'are', 'was', 'were', 'be', 'been', 'being', 'have', 'has', 'had', 'having', 'do', 'does', 'did', 'doing', 'a', 'an', 'the', 'and', 'but', 'if', 'or', 'because', 'as', 'until', 'while', 'of', 'at', 'by', 'for', 'with', 'about', 'against', 'between', 'into', 'through', 'during', 'before', 'after', 'above', 'below', 'to', 'from', 'up', 'down', 'in', 'out', 'on', 'off', 'over', 'under', 'again', 'further', 'then', 'once', 'here', 'there', 'when', 'where', 'why', 'how', 'all', 'any', 'both', 'each', 'few', 'more', 'most', 'other', 'some', 'such', 'no', 'nor', 'not', 'only', 'own', 'same', 'so', 'than', 'too', 'very', 's', 't', 'can', 'will', 'just', 'don', \"don't\", 'should', \"should've\", 'now', 'd', 'll', 'm', 'o', 're', 've', 'y', 'ain', 'aren', \"aren't\", 'couldn', \"couldn't\", 'didn', \"didn't\", 'doesn', \"doesn't\", 'hadn', \"hadn't\", 'hasn', \"hasn't\", 'haven', \"haven't\", 'isn', \"isn't\", 'ma', 'mightn', \"mightn't\", 'mustn', \"mustn't\", 'needn', \"needn't\", 'shan', \"shan't\", 'shouldn', \"shouldn't\", 'wasn', \"wasn't\", 'weren', \"weren't\", 'won', \"won't\", 'wouldn', \"wouldn't\"]\n"
     ]
    },
    {
     "output_type": "stream",
     "name": "stderr",
     "text": [
      "[nltk_data] Downloading package stopwords to\n",
      "[nltk_data]     C:\\Users\\8thrivebell\\AppData\\Roaming\\nltk_data...\n",
      "[nltk_data]   Unzipping corpora\\stopwords.zip.\n"
     ]
    }
   ],
   "metadata": {}
  },
  {
   "cell_type": "code",
   "execution_count": 140,
   "source": [
    "vectorizer = CountVectorizer(token_pattern=r'\\b\\w+\\b', max_features = 5)\r\n",
    "bow_train = (vectorizer.fit_transform(mini_dataset)).toarray()\r\n",
    "df = pd.DataFrame(bow_train, columns=vectorizer.get_feature_names())\r\n",
    "display(df)\r\n"
   ],
   "outputs": [
    {
     "output_type": "display_data",
     "data": {
      "text/html": [
       "<div>\n",
       "<style scoped>\n",
       "    .dataframe tbody tr th:only-of-type {\n",
       "        vertical-align: middle;\n",
       "    }\n",
       "\n",
       "    .dataframe tbody tr th {\n",
       "        vertical-align: top;\n",
       "    }\n",
       "\n",
       "    .dataframe thead th {\n",
       "        text-align: right;\n",
       "    }\n",
       "</style>\n",
       "<table border=\"1\" class=\"dataframe\">\n",
       "  <thead>\n",
       "    <tr style=\"text-align: right;\">\n",
       "      <th></th>\n",
       "      <th>a</th>\n",
       "      <th>best</th>\n",
       "      <th>ever</th>\n",
       "      <th>movie</th>\n",
       "      <th>this</th>\n",
       "    </tr>\n",
       "  </thead>\n",
       "  <tbody>\n",
       "    <tr>\n",
       "      <th>0</th>\n",
       "      <td>0</td>\n",
       "      <td>0</td>\n",
       "      <td>0</td>\n",
       "      <td>1</td>\n",
       "      <td>1</td>\n",
       "    </tr>\n",
       "    <tr>\n",
       "      <th>1</th>\n",
       "      <td>1</td>\n",
       "      <td>0</td>\n",
       "      <td>0</td>\n",
       "      <td>1</td>\n",
       "      <td>0</td>\n",
       "    </tr>\n",
       "    <tr>\n",
       "      <th>2</th>\n",
       "      <td>0</td>\n",
       "      <td>1</td>\n",
       "      <td>1</td>\n",
       "      <td>2</td>\n",
       "      <td>1</td>\n",
       "    </tr>\n",
       "  </tbody>\n",
       "</table>\n",
       "</div>"
      ],
      "text/plain": [
       "   a  best  ever  movie  this\n",
       "0  0     0     0      1     1\n",
       "1  1     0     0      1     0\n",
       "2  0     1     1      2     1"
      ]
     },
     "metadata": {}
    }
   ],
   "metadata": {}
  },
  {
   "cell_type": "markdown",
   "source": [
    "### 【問題2】TF-IDFの計算\r\n",
    "IMDB映画レビューデータセットをTF-IDFによりベクトル化してください。<br>\r\n",
    "NLTKのストップワードを利用し、最大の語彙数は5000程度に設定してください。テキストクリーニングやステミングなどの前処理はこの問題では要求しません。<br>\r\n"
   ],
   "metadata": {}
  },
  {
   "cell_type": "code",
   "execution_count": 143,
   "source": [
    "from sklearn.feature_extraction.text import TfidfVectorizer\r\n",
    "\r\n",
    "vectorizer = TfidfVectorizer(stop_words= stop_words, max_features=5000)\r\n",
    "X_train = vectorizer.fit_transform(x_train)\r\n",
    "X_test = vectorizer.fit_transform(x_test)\r\n",
    "\r\n",
    "print(X_train.shape, X_test.shape)\r\n"
   ],
   "outputs": [
    {
     "output_type": "stream",
     "name": "stdout",
     "text": [
      "(25000, 5000) (25000, 5000)\n"
     ]
    }
   ],
   "metadata": {}
  },
  {
   "cell_type": "markdown",
   "source": [
    "### 【問題3】TF-IDFを用いた学習\r\n",
    "問題2で求めたベクトルを用いてIMDB映画レビューデータセットの学習・推定を行なってください。<br>\r\n",
    "モデルは2値分類が行える任意のものを利用してください。<br>"
   ],
   "metadata": {}
  },
  {
   "cell_type": "code",
   "execution_count": 147,
   "source": [
    "import lightgbm as lgb\r\n",
    "from sklearn.metrics import f1_score\r\n",
    "\r\n",
    "print(type(y_test))\r\n",
    "lgb = lgb.LGBMClassifier().fit(X_train,y_train)\r\n",
    "y_pred = lgb.predict(X_test)\r\n",
    "\r\n",
    "print(\"{}\".format(lgb.score(X_test, y_test)))\r\n"
   ],
   "outputs": [
    {
     "output_type": "stream",
     "name": "stdout",
     "text": [
      "<class 'numpy.ndarray'>\n",
      "0.57248\n"
     ]
    }
   ],
   "metadata": {}
  },
  {
   "cell_type": "markdown",
   "source": [
    "### 【問題4】TF-IDFのスクラッチ実装\r\n",
    "以下の3文のTF-IDFを求められるプログラムをscikit-learnを使わずに作成してください。<br>\r\n",
    "標準的な式と、scikit-learnの採用している式の2種類を作成してください。正規化は不要です。<br>\r\n",
    "　・This movie is SOOOO funny!!!<br>\r\n",
    "　・What a movie! I never<br>\r\n",
    "　・best movie ever!!!!! this movie<br>"
   ],
   "metadata": {}
  },
  {
   "cell_type": "code",
   "execution_count": 149,
   "source": [
    "from gensim.models import Word2Vec\r\n",
    "sentences = [['this', 'movie', 'is', 'very', 'good'], ['this', 'film', 'is', 'a', 'good'], ['very', 'bad', 'very', 'very', 'bad']]\r\n",
    "model = Word2Vec(min_count=1, size=10) # 次元数を10に設定\r\n",
    "model.build_vocab(sentences) # 準備\r\n",
    "model.train(sentences, total_examples=model.corpus_count, epochs=model.iter) # 学習\r\n",
    "\r\n",
    "print(\"語彙の一覧 : {}\".format(model.wv.vocab.keys()))\r\n",
    "for vocab in model.wv.vocab.keys():\r\n",
    "  print(\"{}のベクトル : \\n{}\".format(vocab, model.wv[vocab]))\r\n"
   ],
   "outputs": [
    {
     "output_type": "stream",
     "name": "stdout",
     "text": [
      "語彙の一覧 : dict_keys(['this', 'movie', 'is', 'very', 'good', 'film', 'a', 'bad'])\n",
      "thisのベクトル : \n",
      "[ 0.0272975   0.04907195 -0.00921407 -0.0305853   0.00762902  0.00571693\n",
      "  0.00497991 -0.00960334 -0.03132654 -0.01629746]\n",
      "movieのベクトル : \n",
      "[-0.00929582 -0.04023977  0.04547358  0.03467464 -0.02374852 -0.04818412\n",
      "  0.04046446 -0.00393111 -0.00817834  0.01577319]\n",
      "isのベクトル : \n",
      "[-0.02848024 -0.02589394 -0.01252699 -0.03586797  0.02094474 -0.04450691\n",
      " -0.04376658  0.00828507 -0.02714551 -0.04789032]\n",
      "veryのベクトル : \n",
      "[-0.00166327 -0.00347041  0.00456427 -0.01322539 -0.02941054  0.01676329\n",
      " -0.01100955 -0.00832791  0.03771479 -0.00707501]\n",
      "goodのベクトル : \n",
      "[-0.00837072  0.00894872  0.03584314 -0.04515008  0.03215136 -0.00787263\n",
      "  0.00628949  0.00035796  0.03737636  0.04789172]\n",
      "filmのベクトル : \n",
      "[-0.0205833   0.01652623 -0.01555952  0.00790092  0.04695166 -0.01252826\n",
      "  0.0245461  -0.04189821 -0.00041078 -0.0140261 ]\n",
      "aのベクトル : \n",
      "[ 0.01079179 -0.00645665 -0.03513794  0.03601087  0.01164853  0.04451543\n",
      "  0.00907317 -0.03576436 -0.01778599 -0.00260009]\n",
      "badのベクトル : \n",
      "[ 0.00589441  0.0223127   0.04561754  0.01481585 -0.01108808  0.02429904\n",
      "  0.03117662  0.01311052  0.04515149  0.0150983 ]\n"
     ]
    },
    {
     "output_type": "stream",
     "name": "stderr",
     "text": [
      "D:\\anaconda3\\envs\\DIC21env\\lib\\site-packages\\ipykernel_launcher.py:5: DeprecationWarning: Call to deprecated `iter` (Attribute will be removed in 4.0.0, use self.epochs instead).\n",
      "  \"\"\"\n"
     ]
    }
   ],
   "metadata": {}
  },
  {
   "cell_type": "code",
   "execution_count": 150,
   "source": [
    "model.wv.most_similar(positive=\"good\", topn=3)\r\n"
   ],
   "outputs": [
    {
     "output_type": "execute_result",
     "data": {
      "text/plain": [
       "[('bad', 0.4185171127319336),\n",
       " ('very', 0.1327618956565857),\n",
       " ('film', 0.06652997434139252)]"
      ]
     },
     "metadata": {},
     "execution_count": 150
    }
   ],
   "metadata": {}
  },
  {
   "cell_type": "code",
   "execution_count": 151,
   "source": [
    "from sklearn.manifold import TSNE\r\n",
    "import matplotlib.pyplot as plt\r\n",
    "vocabs = model.wv.vocab.keys()\r\n",
    "tsne_model = TSNE(perplexity=40, n_components=2, init=\"pca\", n_iter=5000, random_state=23)\r\n",
    "vectors_tsne = tsne_model.fit_transform(model[vocabs])\r\n",
    "fig, ax = plt.subplots(figsize=(5,5))\r\n",
    "ax.scatter(vectors_tsne[:, 0], vectors_tsne[:, 1])\r\n",
    "for i, word in enumerate(list(vocabs)):\r\n",
    "    plt.annotate(word, xy=(vectors_tsne[i, 0], vectors_tsne[i, 1]))\r\n",
    "ax.set_yticklabels([])\r\n",
    "ax.set_xticklabels([])\r\n",
    "plt.show()\r\n"
   ],
   "outputs": [
    {
     "output_type": "stream",
     "name": "stderr",
     "text": [
      "D:\\anaconda3\\envs\\DIC21env\\lib\\site-packages\\ipykernel_launcher.py:5: DeprecationWarning: Call to deprecated `__getitem__` (Method will be removed in 4.0.0, use self.wv.__getitem__() instead).\n",
      "  \"\"\"\n"
     ]
    },
    {
     "output_type": "display_data",
     "data": {
      "image/png": "[encoded data removed]",
      "text/plain": [
       "<Figure size 360x360 with 1 Axes>"
      ]
     },
     "metadata": {
      "needs_background": "light"
     }
    }
   ],
   "metadata": {}
  },
  {
   "cell_type": "code",
   "execution_count": 158,
   "source": [
    "model_2 = Word2Vec(min_count=1, size=10)\r\n",
    "model_2.build_vocab(x_train)\r\n",
    "model_2.train(x_train, total_examples=model_2.corpus_count, epochs=model_2.iter)\r\n"
   ],
   "outputs": [
    {
     "output_type": "stream",
     "name": "stderr",
     "text": [
      "D:\\anaconda3\\envs\\DIC21env\\lib\\site-packages\\ipykernel_launcher.py:3: DeprecationWarning: Call to deprecated `iter` (Attribute will be removed in 4.0.0, use self.epochs instead).\n",
      "  This is separate from the ipykernel package so we can avoid doing imports until\n"
     ]
    },
    {
     "output_type": "execute_result",
     "data": {
      "text/plain": [
       "(36012295, 165633705)"
      ]
     },
     "metadata": {},
     "execution_count": 158
    }
   ],
   "metadata": {}
  },
  {
   "cell_type": "markdown",
   "source": [
    "### 【問題5】コーパスの前処理\r\n",
    "コーパスの前処理として、特殊文字（!など）やURLの除去、大文字の小文字化といったことを行なってください。<br>\r\n",
    "また、単語（トークン）はリストで分割してください。<br>\r\n"
   ],
   "metadata": {}
  },
  {
   "cell_type": "code",
   "execution_count": 171,
   "source": [
    "import re\r\n",
    "\r\n",
    "re_x_train = []\r\n",
    "\r\n",
    "for str in x_train:\r\n",
    "    re_str = re.sub(r\"(https?|ftp)(:\\/\\/[-_\\.!~*\\'()a-zA-Z0-9;\\/?:\\@&=\\+$,%#]+)\", \"\" , str)\r\n",
    "    re_str = re.sub(r\"[^0-9a-zA-Z ]\", \"\", re_str) \r\n",
    "    re_str = re_str.lower()\r\n",
    "    re_x_train.append(re_str)\r\n",
    "\r\n",
    "print(len(re_x_train))\r\n",
    "print(type(re_x_train))\r\n",
    "# print(re_x_train)\r\n"
   ],
   "outputs": [
    {
     "output_type": "stream",
     "name": "stdout",
     "text": [
      "25000\n",
      "<class 'list'>\n"
     ]
    }
   ],
   "metadata": {}
  },
  {
   "cell_type": "markdown",
   "source": [
    "### 【問題6】Word2Vecの学習\r\n",
    "Word2Vecの学習を行なってください。<br>\r\n"
   ],
   "metadata": {}
  },
  {
   "cell_type": "code",
   "execution_count": 170,
   "source": [
    "model = Word2Vec(min_count=1, size=10) \r\n",
    "model.build_vocab(re_x_train) \r\n",
    "model.train(re_x_train, total_examples=model.corpus_count, epochs=model.iter)\r\n"
   ],
   "outputs": [
    {
     "output_type": "stream",
     "name": "stderr",
     "text": [
      "D:\\anaconda3\\envs\\DIC21env\\lib\\site-packages\\ipykernel_launcher.py:3: DeprecationWarning: Call to deprecated `iter` (Attribute will be removed in 4.0.0, use self.epochs instead).\n",
      "  This is separate from the ipykernel package so we can avoid doing imports until\n"
     ]
    },
    {
     "output_type": "execute_result",
     "data": {
      "text/plain": [
       "(27014355, 158955400)"
      ]
     },
     "metadata": {},
     "execution_count": 170
    }
   ],
   "metadata": {}
  },
  {
   "cell_type": "code",
   "execution_count": null,
   "source": [
    "\r\n"
   ],
   "outputs": [],
   "metadata": {}
  }
 ],
 "metadata": {
  "orig_nbformat": 4,
  "language_info": {
   "name": "python",
   "version": "3.7.11",
   "mimetype": "text/x-python",
   "codemirror_mode": {
    "name": "ipython",
    "version": 3
   },
   "pygments_lexer": "ipython3",
   "nbconvert_exporter": "python",
   "file_extension": ".py"
  },
  "kernelspec": {
   "name": "python3",
   "display_name": "Python 3.7.11 64-bit ('DIC21env': conda)"
  },
  "interpreter": {
   "hash": "474ffb072c7ab413803fd3cd1d17c104526c80d4fcdf0cfa6099b567bd8a3d66"
  }
 },
 "nbformat": 4,
 "nbformat_minor": 2
}